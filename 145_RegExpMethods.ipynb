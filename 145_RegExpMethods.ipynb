{
 "cells": [
  {
   "cell_type": "markdown",
   "id": "1de5583e-1ada-4ed8-b415-f46bb293bcec",
   "metadata": {},
   "source": [
    "# match()\n",
    "- m.start()\n",
    "- m.end()\n",
    "- m.group()"
   ]
  },
  {
   "cell_type": "code",
   "execution_count": 5,
   "id": "61273ed7-21bf-4fbe-89bd-b96f065e5c9d",
   "metadata": {},
   "outputs": [
    {
     "name": "stdin",
     "output_type": "stream",
     "text": [
      "Enter pattern to check ab\n"
     ]
    },
    {
     "name": "stdout",
     "output_type": "stream",
     "text": [
      "target string starts with ab\n"
     ]
    }
   ],
   "source": [
    "import re\n",
    "p=input('Enter pattern to check')\n",
    "m=re.match(p,'abcdefgh')\n",
    "if m is not None:\n",
    "    print(f'target string starts with {m.group()}')\n",
    "\n",
    "else:\n",
    "    print(f'target string not starts with {p}')"
   ]
  },
  {
   "cell_type": "markdown",
   "id": "36fbddb0-65ca-463d-92c1-b50cfd212b85",
   "metadata": {},
   "source": [
    "# fullmatch()"
   ]
  },
  {
   "cell_type": "code",
   "execution_count": 7,
   "id": "25e2f2c1-98b6-4c32-8c07-7c9a55ff8bea",
   "metadata": {},
   "outputs": [
    {
     "name": "stdin",
     "output_type": "stream",
     "text": [
      "Enter pattern to check abcdefgh\n"
     ]
    },
    {
     "name": "stdout",
     "output_type": "stream",
     "text": [
      "total target string matched with abcdefgh\n"
     ]
    }
   ],
   "source": [
    "import re\n",
    "p=input('Enter pattern to check')\n",
    "m=re.fullmatch(p,'abcdefgh')\n",
    "if m is not None:\n",
    "    print(f'total target string matched with {m.group()}')\n",
    "\n",
    "else:\n",
    "    print(f'total target string not matched with {p}')"
   ]
  },
  {
   "cell_type": "code",
   "execution_count": null,
   "id": "ad4a54ce-d3c3-4556-b204-7ee80219706a",
   "metadata": {},
   "outputs": [],
   "source": [
    "import re\n",
    "num = input('Enter Mobile Number to validate:')\n",
    "pattern=[6-9][0-9]{9}\n",
    "match=re.fullmatch(pattern,num)\n",
    "if match is not None:\n",
    "    print(f'{num} is a valid ')"
   ]
  },
  {
   "cell_type": "markdown",
   "id": "8e672f0d-0797-49a8-8385-0dee17b4ccbd",
   "metadata": {},
   "source": [
    "# search()"
   ]
  },
  {
   "cell_type": "markdown",
   "id": "fbb4d7f4-ce95-442e-8fa4-e7068cecf859",
   "metadata": {},
   "source": [
    "# findall()"
   ]
  },
  {
   "cell_type": "code",
   "execution_count": null,
   "id": "f0a54205-ecbf-4902-b820-3d76ead99350",
   "metadata": {},
   "outputs": [],
   "source": []
  },
  {
   "cell_type": "code",
   "execution_count": null,
   "id": "d26882e2-f961-495e-b5aa-98a3fcff758d",
   "metadata": {},
   "outputs": [],
   "source": []
  },
  {
   "cell_type": "code",
   "execution_count": null,
   "id": "8a1650fc-0d81-48f8-bc38-785a318ef2c6",
   "metadata": {},
   "outputs": [],
   "source": []
  },
  {
   "cell_type": "code",
   "execution_count": null,
   "id": "84c49399-fbb3-4bb8-8d9e-2f5dffa9f816",
   "metadata": {},
   "outputs": [],
   "source": []
  },
  {
   "cell_type": "code",
   "execution_count": null,
   "id": "75f1828c-d989-4d2e-bff4-96d1f0c3e08a",
   "metadata": {},
   "outputs": [],
   "source": []
  },
  {
   "cell_type": "code",
   "execution_count": null,
   "id": "1e3b77e2-5c8d-4a39-9d54-bf141490038d",
   "metadata": {},
   "outputs": [],
   "source": []
  }
 ],
 "metadata": {
  "kernelspec": {
   "display_name": "Python 3 (ipykernel)",
   "language": "python",
   "name": "python3"
  },
  "language_info": {
   "codemirror_mode": {
    "name": "ipython",
    "version": 3
   },
   "file_extension": ".py",
   "mimetype": "text/x-python",
   "name": "python",
   "nbconvert_exporter": "python",
   "pygments_lexer": "ipython3",
   "version": "3.11.7"
  }
 },
 "nbformat": 4,
 "nbformat_minor": 5
}
