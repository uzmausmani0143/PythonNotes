{
 "cells": [
  {
   "cell_type": "markdown",
   "id": "5493bc8f-f8dd-4afa-a8d6-4cbab500dfa6",
   "metadata": {},
   "source": [
    "# match()\n",
    "### To check whether the given target string starts with specified pattern or not\n",
    "- m.start()\n",
    "- m.end()\n",
    "- m.group()"
   ]
  },
  {
   "cell_type": "code",
   "execution_count": 5,
   "id": "61273ed7-21bf-4fbe-89bd-b96f065e5c9d",
   "metadata": {},
   "outputs": [
    {
     "name": "stdin",
     "output_type": "stream",
     "text": [
      "Enter pattern to check ab\n"
     ]
    },
    {
     "name": "stdout",
     "output_type": "stream",
     "text": [
      "target string starts with ab\n"
     ]
    }
   ],
   "source": [
    "import re\n",
    "p=input('Enter pattern to check')\n",
    "m=re.match(p,'abcdefgh')\n",
    "if m is not None:\n",
    "    print(f'target string starts with {m.group()}')\n",
    "\n",
    "else:\n",
    "    print(f'target string not starts with {p}')"
   ]
  },
  {
   "cell_type": "markdown",
   "id": "44ee8650-6298-45a3-bb62-9aeadb5f9c73",
   "metadata": {},
   "source": [
    "# fullmatch()\n",
    "### To check whether total target string matched pattern or not "
   ]
  },
  {
   "cell_type": "code",
   "execution_count": 7,
   "id": "25e2f2c1-98b6-4c32-8c07-7c9a55ff8bea",
   "metadata": {},
   "outputs": [
    {
     "name": "stdin",
     "output_type": "stream",
     "text": [
      "Enter pattern to check abcdefgh\n"
     ]
    },
    {
     "name": "stdout",
     "output_type": "stream",
     "text": [
      "total target string matched with abcdefgh\n"
     ]
    }
   ],
   "source": [
    "import re\n",
    "p=input('Enter pattern to check')\n",
    "m=re.fullmatch(p,'abcdefgh')\n",
    "if m is not None:\n",
    "    print(f'total target string matched with {m.group()}')\n",
    "\n",
    "else:\n",
    "    print(f'total target string not matched with {p}')"
   ]
  },
  {
   "cell_type": "code",
   "execution_count": 9,
   "id": "ad4a54ce-d3c3-4556-b204-7ee80219706a",
   "metadata": {},
   "outputs": [
    {
     "name": "stdin",
     "output_type": "stream",
     "text": [
      "Enter Mobile Number to validate: 982346\n"
     ]
    },
    {
     "name": "stdout",
     "output_type": "stream",
     "text": [
      "Invalid 10-digit mobile number\n"
     ]
    }
   ],
   "source": [
    "import re\n",
    "num = input('Enter Mobile Number to validate:')\n",
    "pattern='[6-9][0-9]{9}'\n",
    "match=re.fullmatch(pattern,num)\n",
    "if match is not None:\n",
    "    print(f'{num} is a valid 10-digit mobile number')\n",
    "\n",
    "else:\n",
    "    print(f'Invalid 10-digit mobile number')"
   ]
  },
  {
   "cell_type": "markdown",
   "id": "9114311f-54b6-4687-8a87-13eb6cf5d2ce",
   "metadata": {},
   "source": [
    "# search()\n",
    "### To return first occurrence of the match"
   ]
  },
  {
   "cell_type": "code",
   "execution_count": 10,
   "id": "aba62d84-2533-49a5-993f-7c7dd3a17340",
   "metadata": {},
   "outputs": [
    {
     "name": "stdout",
     "output_type": "stream",
     "text": [
      "Match is available at: 4\n"
     ]
    }
   ],
   "source": [
    "import re\n",
    "match=re.search('bbb','abbabbbabbbb')\n",
    "if match is not None:\n",
    "    print('Match is available at:',match.start())\n",
    "\n",
    "else:\n",
    "    print('Match is not available')"
   ]
  },
  {
   "cell_type": "markdown",
   "id": "4e1f8559-7dd1-45d0-845e-7f1b0a0af2b4",
   "metadata": {},
   "source": [
    "# findall()\n",
    "### To return all matches"
   ]
  },
  {
   "cell_type": "code",
   "execution_count": 12,
   "id": "f0a54205-ecbf-4902-b820-3d76ead99350",
   "metadata": {},
   "outputs": [
    {
     "name": "stdout",
     "output_type": "stream",
     "text": [
      "['5', '5', '4', '6', '9']\n"
     ]
    }
   ],
   "source": [
    "import re\n",
    "l=re.findall('[0-9]','abb@abbb5ab546bb9b')\n",
    "print(l)"
   ]
  },
  {
   "cell_type": "markdown",
   "id": "7cac0faf-fe83-4a81-af11-a60d895f45f4",
   "metadata": {},
   "source": [
    "# finditer()\n",
    "- To return iterator object which yields Match object.\n",
    "- Returns Iterator yielding a match object for each match.\n",
    "- On match object, we can call start(), end() and group() methods."
   ]
  },
  {
   "cell_type": "code",
   "execution_count": 15,
   "id": "8a1650fc-0d81-48f8-bc38-785a318ef2c6",
   "metadata": {},
   "outputs": [
    {
     "name": "stdout",
     "output_type": "stream",
     "text": [
      "Index 1......7\n",
      "Index 3......9\n",
      "Index 7......5\n",
      "Index 11......4\n"
     ]
    }
   ],
   "source": [
    "import re\n",
    "matcher=re.finditer('[0-9]','a7b9kz@5kmn4')\n",
    "for match in matcher:\n",
    "    print(f'Index {match.start()}......{match.group()}')"
   ]
  },
  {
   "cell_type": "markdown",
   "id": "5f6acc55-d756-4683-b0b7-8f32513af4a1",
   "metadata": {},
   "source": [
    "# sub()\n",
    "- sub means substitution or replacement.\n",
    "- To replace every occurrence of the pattern with provided replacement string"
   ]
  },
  {
   "cell_type": "code",
   "execution_count": 16,
   "id": "b79898ef-a14b-46af-8e2c-50173c68125e",
   "metadata": {},
   "outputs": [
    {
     "name": "stdout",
     "output_type": "stream",
     "text": [
      "a#b#kz@#kmn#\n"
     ]
    }
   ],
   "source": [
    "import re\n",
    "s=re.sub('[0-9]','#','a7b9kz@5kmn4')\n",
    "print(s)"
   ]
  },
  {
   "cell_type": "markdown",
   "id": "7930ca4b-2262-490e-b555-76ec92cd5565",
   "metadata": {},
   "source": [
    "# subn()\n",
    "- Same as sub() but also returns the number of occurrences"
   ]
  },
  {
   "cell_type": "code",
   "execution_count": 18,
   "id": "1e3b77e2-5c8d-4a39-9d54-bf141490038d",
   "metadata": {},
   "outputs": [
    {
     "name": "stdout",
     "output_type": "stream",
     "text": [
      "('a#b#kz@#kmn#', 4)\n",
      "a#b#kz@#kmn#\n",
      "4\n"
     ]
    }
   ],
   "source": [
    " import re\n",
    "t=re.subn('[0-9]','#','a7b9kz@5kmn4')\n",
    "print(t)\n",
    "print(t[0])\n",
    "print(t[1])"
   ]
  },
  {
   "cell_type": "markdown",
   "id": "61da531f-0e61-431c-93da-d97fde6f6905",
   "metadata": {},
   "source": [
    "# split()\n",
    "### To split the target string based on given pattern"
   ]
  },
  {
   "cell_type": "code",
   "execution_count": 20,
   "id": "8a504a44-cb2b-4dd3-a2f1-a9b04770abbc",
   "metadata": {},
   "outputs": [
    {
     "name": "stdout",
     "output_type": "stream",
     "text": [
      "['27', '11', '2020']\n",
      "27\n",
      "11\n",
      "2020\n"
     ]
    }
   ],
   "source": [
    "import re\n",
    "l=re.split('-','27-11-2020')\n",
    "print(l)\n",
    "for s in l:\n",
    "    print(s)"
   ]
  },
  {
   "cell_type": "code",
   "execution_count": 21,
   "id": "d51bb0de-05eb-49f0-bef6-237b03bd36fd",
   "metadata": {},
   "outputs": [
    {
     "name": "stdout",
     "output_type": "stream",
     "text": [
      "Sunny\n",
      "Bunny\n",
      "Chinny\n",
      "Vinny\n",
      "Pinny\n"
     ]
    }
   ],
   "source": [
    "import re\n",
    "l=re.split(',','Sunny,Bunny,Chinny,Vinny,Pinny')\n",
    "for s in l:\n",
    "    print(s)"
   ]
  },
  {
   "cell_type": "code",
   "execution_count": 23,
   "id": "e628e773-d582-42e5-9312-c003b0c55649",
   "metadata": {},
   "outputs": [
    {
     "name": "stdout",
     "output_type": "stream",
     "text": [
      "Sunny,Bunny,Chinny,Vinny,Pinny\n"
     ]
    }
   ],
   "source": [
    "import re\n",
    "l=re.split(',-','Sunny,Bunny,Chinny,Vinny,Pinny') # either , or -\n",
    "for s in l:\n",
    "    print(s)"
   ]
  },
  {
   "cell_type": "code",
   "execution_count": 26,
   "id": "32ded1b6-2294-413c-9d87-ab0af26ab29f",
   "metadata": {},
   "outputs": [
    {
     "name": "stdout",
     "output_type": "stream",
     "text": [
      "www\n",
      "durgasoft\n",
      "io\n"
     ]
    }
   ],
   "source": [
    "import re\n",
    "l=re.split('[0-9]','www7durgasoft9io') # except numbers all words are tokens\n",
    "for s in l:\n",
    "    print(s)"
   ]
  },
  {
   "cell_type": "code",
   "execution_count": 28,
   "id": "e32805de-76e0-4c3d-9fad-80197ffc6ca8",
   "metadata": {},
   "outputs": [
    {
     "name": "stdout",
     "output_type": "stream",
     "text": [
      "\n",
      "\n",
      "\n",
      "\n",
      "\n",
      "\n",
      "\n",
      "\n",
      "\n",
      "\n",
      "\n",
      "\n",
      "\n",
      "\n",
      "\n",
      "\n",
      "\n"
     ]
    }
   ],
   "source": [
    "import re\n",
    "l=re.split('.','www.durgasoft.io') \n",
    "for s in l:\n",
    "    print(s) # blank result"
   ]
  },
  {
   "cell_type": "code",
   "execution_count": 29,
   "id": "0f292493-6fce-4438-8303-0e0c00b951b4",
   "metadata": {},
   "outputs": [
    {
     "name": "stdout",
     "output_type": "stream",
     "text": [
      "www\n",
      "durgasoft\n",
      "io\n"
     ]
    }
   ],
   "source": [
    "import re\n",
    "l=re.split('\\.','www.durgasoft.io') # now takes . as symbol\n",
    "for s in l:\n",
    "    print(s) "
   ]
  },
  {
   "cell_type": "code",
   "execution_count": 30,
   "id": "927a364c-f6a8-46d9-886f-01eac372a63a",
   "metadata": {},
   "outputs": [
    {
     "name": "stdout",
     "output_type": "stream",
     "text": [
      "www\n",
      "durgasoft\n",
      "io\n"
     ]
    }
   ],
   "source": [
    "import re\n",
    "l=re.split('[.]','www.durgasoft.io') # now takes . as symbol\n",
    "for s in l:\n",
    "    print(s) # result has 3 tokens"
   ]
  },
  {
   "cell_type": "code",
   "execution_count": 32,
   "id": "b29a8639-8dce-475c-9fcd-9a7da102480a",
   "metadata": {},
   "outputs": [
    {
     "name": "stdout",
     "output_type": "stream",
     "text": [
      "www\n",
      "durgasoft\n",
      "durga\n",
      "online\n",
      "io\n"
     ]
    }
   ],
   "source": [
    "import re\n",
    "l=re.split('[.,]','www.durgasoft,durga,online.io') \n",
    "for s in l:\n",
    "    print(s) # result has 5 tokens"
   ]
  },
  {
   "cell_type": "markdown",
   "id": "84c9b874-07b6-4a30-a038-be8add9f71b7",
   "metadata": {},
   "source": [
    "# compile()"
   ]
  },
  {
   "cell_type": "code",
   "execution_count": 38,
   "id": "32d5ed5f-8ce1-49f5-94ee-7972799f4a9c",
   "metadata": {},
   "outputs": [
    {
     "name": "stdout",
     "output_type": "stream",
     "text": [
      "Index 0\n",
      "Index 3\n",
      "Index 5\n",
      "The no of occurences:3\n"
     ]
    }
   ],
   "source": [
    "import re\n",
    "pattern=re.compile('ab')\n",
    "matcher=pattern.finditer('abaababa')\n",
    "count=0\n",
    "for match in matcher:\n",
    "    count+=1\n",
    "    print(f'Index {match.start()}')\n",
    "\n",
    "print(f'The no of occurences:{count}')"
   ]
  },
  {
   "cell_type": "code",
   "execution_count": null,
   "id": "7cd2d169-e4a6-4e6a-a53b-82ee452c2657",
   "metadata": {},
   "outputs": [],
   "source": []
  }
 ],
 "metadata": {
  "kernelspec": {
   "display_name": "Python 3 (ipykernel)",
   "language": "python",
   "name": "python3"
  },
  "language_info": {
   "codemirror_mode": {
    "name": "ipython",
    "version": 3
   },
   "file_extension": ".py",
   "mimetype": "text/x-python",
   "name": "python",
   "nbconvert_exporter": "python",
   "pygments_lexer": "ipython3",
   "version": "3.11.7"
  }
 },
 "nbformat": 4,
 "nbformat_minor": 5
}
