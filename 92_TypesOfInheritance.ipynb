{
 "cells": [
  {
   "cell_type": "markdown",
   "id": "495e5417-4db9-47a7-831c-bb682357031f",
   "metadata": {},
   "source": [
    "# Types of Inheritance\n",
    "\n",
    "1. Single\n",
    "2. Multiple\n",
    "3. Hierarchial\n",
    "4. Multiple\n",
    "5. Hybrid\n",
    "6. Cyclic"
   ]
  },
  {
   "cell_type": "code",
   "execution_count": null,
   "id": "97a8ae7b-bb7a-412a-b4e4-7b5df28d5b38",
   "metadata": {},
   "outputs": [],
   "source": []
  }
 ],
 "metadata": {
  "kernelspec": {
   "display_name": "Python 3 (ipykernel)",
   "language": "python",
   "name": "python3"
  },
  "language_info": {
   "codemirror_mode": {
    "name": "ipython",
    "version": 3
   },
   "file_extension": ".py",
   "mimetype": "text/x-python",
   "name": "python",
   "nbconvert_exporter": "python",
   "pygments_lexer": "ipython3",
   "version": "3.11.7"
  }
 },
 "nbformat": 4,
 "nbformat_minor": 5
}
