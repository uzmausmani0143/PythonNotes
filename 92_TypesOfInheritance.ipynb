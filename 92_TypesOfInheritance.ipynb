{
 "cells": [
  {
   "cell_type": "markdown",
   "id": "2afa3b0b-876d-4b09-a02c-33a7e2c978e7",
   "metadata": {},
   "source": [
    "# Types of Inheritance\n",
    "\n",
    "1. Single\n",
    "2. Multi-level\n",
    "3. Hierarchial\n",
    "4. Multiple\n",
    "5. Hybrid\n",
    "6. Cyclic"
   ]
  },
  {
   "cell_type": "code",
   "execution_count": 15,
   "id": "4057e2bd-f468-475e-9944-b78cfba33947",
   "metadata": {},
   "outputs": [
    {
     "name": "stdout",
     "output_type": "stream",
     "text": [
      "Animal speaks\n",
      "Mammal gives birth\n",
      "Bird lays eggs\n"
     ]
    }
   ],
   "source": [
    "# Hybrid Inheritance\n",
    "class Animal:\n",
    "    def speak(self):\n",
    "        print(\"Animal speaks\")\n",
    "\n",
    "class Mammal(Animal):\n",
    "    def give_birth(self):\n",
    "        print(\"Mammal gives birth\")\n",
    "\n",
    "class Bird(Animal):\n",
    "    def lay_eggs(self):\n",
    "        print(\"Bird lays eggs\")\n",
    "\n",
    "class Platypus(Mammal, Bird):\n",
    "    pass\n",
    "\n",
    "platypus = Platypus()\n",
    "platypus.speak()        # Method from Animal class\n",
    "platypus.give_birth()   # Method from Mammal class\n",
    "platypus.lay_eggs()     # Method from Bird class\n"
   ]
  },
  {
   "cell_type": "markdown",
   "id": "e1556b5b-286f-4e99-8307-10d8728dc103",
   "metadata": {},
   "source": [
    "# MRO(Method Resolution Order)"
   ]
  },
  {
   "cell_type": "markdown",
   "id": "cab1dcf2-8797-44d2-a623-890487ce3be8",
   "metadata": {},
   "source": [
    "# DLR (Depth First Left to Right)"
   ]
  },
  {
   "cell_type": "code",
   "execution_count": 12,
   "id": "f175ed65-de6a-4676-8b25-c901dd5feadd",
   "metadata": {},
   "outputs": [
    {
     "name": "stdout",
     "output_type": "stream",
     "text": [
      "B Class Method\n",
      "[<class '__main__.D'>, <class '__main__.B'>, <class '__main__.C'>, <class 'object'>]\n",
      "[<class '__main__.C'>, <class 'object'>]\n",
      "[<class '__main__.B'>, <class 'object'>]\n",
      "[<class '__main__.A'>, <class 'object'>]\n"
     ]
    }
   ],
   "source": [
    "class A:\n",
    "    def m1(self):\n",
    "        print('A Class Method')\n",
    "\n",
    "class B:\n",
    "    def m1(self):\n",
    "        print('B Class Method')\n",
    "\n",
    "class C:\n",
    "     def m1(self):\n",
    "        print('C Class Method')\n",
    "\n",
    "class D(B,C):\n",
    "    pass\n",
    "\n",
    "d=D() # D,B,C,A,object\n",
    "d.m1()\n",
    "print(D.mro())\n",
    "print(C.mro())\n",
    "print(B.mro())\n",
    "print(A.mro())"
   ]
  },
  {
   "cell_type": "code",
   "execution_count": 10,
   "id": "9d181006-82c3-4e99-8e86-532661fa17a3",
   "metadata": {},
   "outputs": [
    {
     "data": {
      "text/plain": [
       "mappingproxy({'__new__': <function object.__new__(*args, **kwargs)>,\n",
       "              '__repr__': <slot wrapper '__repr__' of 'object' objects>,\n",
       "              '__hash__': <slot wrapper '__hash__' of 'object' objects>,\n",
       "              '__str__': <slot wrapper '__str__' of 'object' objects>,\n",
       "              '__getattribute__': <slot wrapper '__getattribute__' of 'object' objects>,\n",
       "              '__setattr__': <slot wrapper '__setattr__' of 'object' objects>,\n",
       "              '__delattr__': <slot wrapper '__delattr__' of 'object' objects>,\n",
       "              '__lt__': <slot wrapper '__lt__' of 'object' objects>,\n",
       "              '__le__': <slot wrapper '__le__' of 'object' objects>,\n",
       "              '__eq__': <slot wrapper '__eq__' of 'object' objects>,\n",
       "              '__ne__': <slot wrapper '__ne__' of 'object' objects>,\n",
       "              '__gt__': <slot wrapper '__gt__' of 'object' objects>,\n",
       "              '__ge__': <slot wrapper '__ge__' of 'object' objects>,\n",
       "              '__init__': <slot wrapper '__init__' of 'object' objects>,\n",
       "              '__reduce_ex__': <method '__reduce_ex__' of 'object' objects>,\n",
       "              '__reduce__': <method '__reduce__' of 'object' objects>,\n",
       "              '__getstate__': <method '__getstate__' of 'object' objects>,\n",
       "              '__subclasshook__': <method '__subclasshook__' of 'object' objects>,\n",
       "              '__init_subclass__': <method '__init_subclass__' of 'object' objects>,\n",
       "              '__format__': <method '__format__' of 'object' objects>,\n",
       "              '__sizeof__': <method '__sizeof__' of 'object' objects>,\n",
       "              '__dir__': <method '__dir__' of 'object' objects>,\n",
       "              '__class__': <attribute '__class__' of 'object' objects>,\n",
       "              '__doc__': 'The base class of the class hierarchy.\\n\\nWhen called, it accepts no arguments and returns a new featureless\\ninstance that has no instance attributes and cannot be given any.\\n'})"
      ]
     },
     "execution_count": 10,
     "metadata": {},
     "output_type": "execute_result"
    }
   ],
   "source": [
    "object.__dict__"
   ]
  },
  {
   "cell_type": "code",
   "execution_count": 14,
   "id": "43fffd8f-d5e9-46f4-bc60-30a20f2e53c3",
   "metadata": {},
   "outputs": [
    {
     "name": "stdout",
     "output_type": "stream",
     "text": [
      "[<class '__main__.P'>, <class '__main__.X'>, <class '__main__.A'>, <class '__main__.Y'>, <class '__main__.B'>, <class '__main__.C'>, <class 'object'>]\n",
      "[<class '__main__.X'>, <class '__main__.A'>, <class '__main__.B'>, <class 'object'>]\n",
      "[<class '__main__.Y'>, <class '__main__.B'>, <class '__main__.C'>, <class 'object'>]\n"
     ]
    }
   ],
   "source": [
    "class A:\n",
    "    def m1(self):\n",
    "        print('A Class Method')\n",
    "\n",
    "class B:\n",
    "    def m1(self):\n",
    "        print('B Class Method')\n",
    "\n",
    "class C:\n",
    "     def m1(self):\n",
    "        print('C Class Method')\n",
    "class X(A,B):\n",
    "    def m1(self):\n",
    "        print('X Class Method')\n",
    "\n",
    "class Y(B,C):\n",
    "    def m1(self):\n",
    "        print('Y Class Method')\n",
    "\n",
    "class P(X,Y,C):\n",
    "     def m1(self):\n",
    "        print('P Class Method')\n",
    "\n",
    "print(P.mro())\n",
    "print(X.mro())\n",
    "print(Y.mro())"
   ]
  },
  {
   "cell_type": "code",
   "execution_count": null,
   "id": "0899be8b-dd06-4ce2-a670-3bc9f512f8f2",
   "metadata": {},
   "outputs": [],
   "source": []
  }
 ],
 "metadata": {
  "kernelspec": {
   "display_name": "Python 3 (ipykernel)",
   "language": "python",
   "name": "python3"
  },
  "language_info": {
   "codemirror_mode": {
    "name": "ipython",
    "version": 3
   },
   "file_extension": ".py",
   "mimetype": "text/x-python",
   "name": "python",
   "nbconvert_exporter": "python",
   "pygments_lexer": "ipython3",
   "version": "3.11.7"
  }
 },
 "nbformat": 4,
 "nbformat_minor": 5
}
