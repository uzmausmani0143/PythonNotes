{
 "cells": [
  {
   "cell_type": "code",
   "execution_count": null,
   "id": "9862f989-a06f-4c77-a693-1b5526f035b2",
   "metadata": {},
   "outputs": [],
   "source": [
    "# Case-1:"
   ]
  },
  {
   "cell_type": "code",
   "execution_count": 2,
   "id": "f22d287b-9be4-4b06-a349-78717ec7e0c5",
   "metadata": {},
   "outputs": [
    {
     "name": "stdout",
     "output_type": "stream",
     "text": [
      "Dhoni Thread got lock\n"
     ]
    },
    {
     "name": "stderr",
     "output_type": "stream",
     "text": [
      "C:\\Users\\NSTIB34\\AppData\\Local\\Temp\\ipykernel_15184\\936637368.py:8: DeprecationWarning: getName() is deprecated, get the name attribute instead\n",
      "  print(f'{current_thread().getName()} got lock')\n"
     ]
    },
    {
     "name": "stdout",
     "output_type": "stream",
     "text": [
      "Good Morning:Dhoni\n",
      "Good Morning:Dhoni\n",
      "Good Morning:Dhoni\n",
      "Good Morning:Dhoni\n",
      "Good Morning:Dhoni\n",
      "Good Morning:Dhoni\n",
      "Good Morning:Dhoni\n",
      "Good Morning:Dhoni\n",
      "Good Morning:Dhoni\n",
      "Good Morning:Dhoni\n",
      "Exception Raised while executing this thread\n",
      "Yuvraj Thread got lock\n",
      "Good Morning:Yuvraj\n",
      "Good Morning:Yuvraj\n",
      "Good Morning:Yuvraj\n",
      "Good Morning:Yuvraj\n",
      "Good Morning:Yuvraj\n",
      "Good Morning:Yuvraj\n",
      "Good Morning:Yuvraj\n",
      "Good Morning:Yuvraj\n",
      "Good Morning:Yuvraj\n",
      "Good Morning:Yuvraj\n",
      "Exception Raised while executing this thread\n",
      "Rahul Thread got lock\n",
      "Good Morning:Rahul\n",
      "Good Morning:Rahul\n",
      "Good Morning:Rahul\n",
      "Good Morning:Rahul\n",
      "Good Morning:Rahul\n",
      "Good Morning:Rahul\n",
      "Good Morning:Rahul\n",
      "Good Morning:Rahul\n",
      "Good Morning:Rahul\n",
      "Good Morning:Rahul\n",
      "Exception Raised while executing this thread\n",
      "Saurav Thread got lock\n",
      "Good Morning:Saurav\n",
      "Good Morning:Saurav\n",
      "Good Morning:Saurav\n",
      "Good Morning:Saurav\n",
      "Good Morning:Saurav\n",
      "Good Morning:Saurav\n",
      "Good Morning:Saurav\n",
      "Good Morning:Saurav\n",
      "Good Morning:Saurav\n",
      "Good Morning:Saurav\n",
      "Exception Raised while executing this thread\n"
     ]
    }
   ],
   "source": [
    "from threading import *\n",
    "import time\n",
    "\n",
    "l=Lock()\n",
    "def wish(name):\n",
    "    l.acquire()\n",
    "    try:\n",
    "        print(f'{current_thread().getName()} got lock')\n",
    "        time.sleep(5)\n",
    "        for i in range(10):\n",
    "            print('Good Morning:',end='')\n",
    "            time.sleep(2)\n",
    "            print(name)\n",
    "\n",
    "        print(10/0)\n",
    "        print(f'{current_thread().getName()} releasing Lock')\n",
    "        time.sleep(5)\n",
    "\n",
    "    except:\n",
    "        print('Exception Raised while executing this thread')\n",
    "\n",
    "    finally:\n",
    "        l.release()\n",
    "\n",
    "t1=Thread(target=wish,args=('Dhoni',),name='Dhoni Thread')\n",
    "t2=Thread(target=wish,args=('Yuvraj',),name='Yuvraj Thread')\n",
    "t3=Thread(target=wish,args=('Rahul',),name='Rahul Thread')\n",
    "t4=Thread(target=wish,args=('Saurav',),name='Saurav Thread')\n",
    "\n",
    "t1.start()\n",
    "t2.start()\n",
    "t3.start()\n",
    "t4.start()\n"
   ]
  },
  {
   "cell_type": "code",
   "execution_count": null,
   "id": "4138cfbe-569c-4fac-ad5f-f13c23318eb5",
   "metadata": {},
   "outputs": [],
   "source": [
    "# Case-2:"
   ]
  },
  {
   "cell_type": "code",
   "execution_count": null,
   "id": "82049a51-da22-4cf1-af91-56c77cdebe77",
   "metadata": {},
   "outputs": [],
   "source": []
  },
  {
   "cell_type": "code",
   "execution_count": null,
   "id": "77853a6b-c4db-41c8-aa54-9171ab8cc388",
   "metadata": {},
   "outputs": [],
   "source": [
    "from threading import *\n",
    "import time\n",
    "\n",
    "l=Lock()\n",
    "def wish(name):\n",
    "    l.acquire()\n",
    "    try:\n",
    "        print(f'{current_thread().getName()} got lock')\n",
    "        time.sleep(5)\n",
    "        for i in range(10):\n",
    "            print('Good Morning:',end='')\n",
    "            time.sleep(2)\n",
    "            print(name)\n",
    "\n",
    "        print(10/0)\n",
    "        print(f'{current_thread().getName()} releasing Lock')\n",
    "        time.sleep(5)\n",
    "\n",
    "    except:\n",
    "        print('Exception Raised while executing this thread')\n",
    "\n",
    "    finally:\n",
    "        l.release()\n",
    "\n",
    "t1=Thread(target=wish,args=('Dhoni',),name='Dhoni Thread')\n",
    "t2=Thread(target=wish,args=('Yuvraj',),name='Yuvraj Thread')\n",
    "t3=Thread(target=wish,args=('Rahul',),name='Rahul Thread')\n",
    "t4=Thread(target=wish,args=('Saurav',),name='Saurav Thread')\n",
    "\n",
    "t1.start()\n",
    "t2.start()\n",
    "t3.start()\n",
    "t4.start()\n"
   ]
  },
  {
   "cell_type": "code",
   "execution_count": null,
   "id": "8a02befe-df2b-446e-9ec2-916355731c2b",
   "metadata": {},
   "outputs": [],
   "source": []
  }
 ],
 "metadata": {
  "kernelspec": {
   "display_name": "Python 3 (ipykernel)",
   "language": "python",
   "name": "python3"
  },
  "language_info": {
   "codemirror_mode": {
    "name": "ipython",
    "version": 3
   },
   "file_extension": ".py",
   "mimetype": "text/x-python",
   "name": "python",
   "nbconvert_exporter": "python",
   "pygments_lexer": "ipython3",
   "version": "3.11.7"
  }
 },
 "nbformat": 4,
 "nbformat_minor": 5
}
