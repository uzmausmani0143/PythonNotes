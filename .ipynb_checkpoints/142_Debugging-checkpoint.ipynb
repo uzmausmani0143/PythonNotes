{
 "cells": [
  {
   "cell_type": "code",
   "execution_count": null,
   "id": "f4bddb44-5554-4bc1-9310-ad69d81abaf6",
   "metadata": {},
   "outputs": [],
   "source": [
    "# Assertions"
   ]
  },
  {
   "cell_type": "code",
   "execution_count": null,
   "id": "b2c91b49-12e8-4be1-ae63-9418dcac300a",
   "metadata": {},
   "outputs": [
    {
     "name": "stdin",
     "output_type": "stream",
     "text": [
      "Enter x value: 5\n",
      "Enter y value: 5\n"
     ]
    },
    {
     "name": "stdout",
     "output_type": "stream",
     "text": [
      "5,5,5,5,5,5,5,5,5,5,5,5,5,5,5,5,5,5,5,5,5,5,5,5,5,5,5,5,5,5,5,5,5,5,5,5,5,5,5,5,5,5,5,5,5,5,5,5,5,"
     ]
    }
   ],
   "source": [
    "import time\n",
    "x=int(input('Enter x value:'))\n",
    "y=int(input('Enter y value:'))\n",
    "output=f'{x},'+x*f'{y},'+f'{x},'\n",
    "print(output,end='')\n",
    "time.sleep(5)\n",
    "i=2\n",
    "while True:\n",
    "    n=int(output[i])\n",
    "    extra=f'{y},'*n+f'{x},'\n",
    "    output=output+extra\n",
    "    print(extra,end='')\n",
    "    i=i+2\n",
    "    time.sleep(5)"
   ]
  },
  {
   "cell_type": "code",
   "execution_count": null,
   "id": "dc6dfce6-0414-4ba7-9ecc-7d53cebb5087",
   "metadata": {},
   "outputs": [],
   "source": []
  },
  {
   "cell_type": "code",
   "execution_count": null,
   "id": "d3d01f1c-0e9d-48be-a10e-23197b962a2e",
   "metadata": {},
   "outputs": [],
   "source": []
  },
  {
   "cell_type": "code",
   "execution_count": null,
   "id": "20418382-421c-4b67-93bf-046364a5c672",
   "metadata": {},
   "outputs": [],
   "source": []
  },
  {
   "cell_type": "code",
   "execution_count": null,
   "id": "4cecc871-80ce-48e4-8150-2bb5c1d44d7e",
   "metadata": {},
   "outputs": [],
   "source": []
  }
 ],
 "metadata": {
  "kernelspec": {
   "display_name": "Python 3 (ipykernel)",
   "language": "python",
   "name": "python3"
  },
  "language_info": {
   "codemirror_mode": {
    "name": "ipython",
    "version": 3
   },
   "file_extension": ".py",
   "mimetype": "text/x-python",
   "name": "python",
   "nbconvert_exporter": "python",
   "pygments_lexer": "ipython3",
   "version": "3.11.7"
  }
 },
 "nbformat": 4,
 "nbformat_minor": 5
}
