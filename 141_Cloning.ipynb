{
 "cells": [
  {
   "cell_type": "markdown",
   "id": "f63a1ccc-31b7-4205-a6d7-b10ce5e675fb",
   "metadata": {},
   "source": [
    "## Aliasing\n",
    "## Cloning\n",
    "## Deep Cloning and Shallow Cloning"
   ]
  },
  {
   "cell_type": "markdown",
   "id": "0747ac79-ee5c-4cda-a15e-49aa9431955d",
   "metadata": {},
   "source": [
    "# Aliasing\n",
    "- The process of creating duplicate reference variable is called Aliasing."
   ]
  },
  {
   "cell_type": "code",
   "execution_count": 1,
   "id": "2ea15cb1-9f7c-47ad-845a-65a8be6475d1",
   "metadata": {},
   "outputs": [
    {
     "name": "stdout",
     "output_type": "stream",
     "text": [
      "l1:[10, 60, 30, 40]\n",
      "l2:[10, 60, 30, 40]\n"
     ]
    }
   ],
   "source": [
    "l1=[10,20,30,40]\n",
    "l2=l1 # we are just creating duplicate reference variable(Aliasing)\n",
    "l1[1]=60\n",
    "print(f'l1:{l1}')\n",
    "print(f'l2:{l2}')"
   ]
  },
  {
   "cell_type": "markdown",
   "id": "864c3019-a01a-4360-98cd-5cf3c04c5e0d",
   "metadata": {},
   "source": [
    "- The problem with aliasing is, by using one reference if we perform any change, automatically those changes will be reflected for the remaining references also.\n",
    "- If we want duplicate object instead of duplicate reference variable then , we should go for cloning."
   ]
  },
  {
   "cell_type": "markdown",
   "id": "d7dfd9e6-d98b-4b6e-a9b9-933d49cd5080",
   "metadata": {},
   "source": [
    "# Cloning \n",
    "\n",
    "\n"
   ]
  },
  {
   "cell_type": "code",
   "execution_count": 2,
   "id": "b7a20454-ed10-404e-bae8-df082ae138b5",
   "metadata": {},
   "outputs": [
    {
     "name": "stdout",
     "output_type": "stream",
     "text": [
      "2553984286976\n",
      "2553984284224\n"
     ]
    }
   ],
   "source": [
    "c1=[10,20,30,40]\n",
    "c2=c1.copy() # we are creating duplicate list object--->cloning\n",
    "c2[3]=100\n",
    "print(id(c1))\n",
    "print(id(c2))"
   ]
  },
  {
   "cell_type": "code",
   "execution_count": 5,
   "id": "1555ae07-966f-4231-8336-3b6f022f33ef",
   "metadata": {},
   "outputs": [
    {
     "name": "stdout",
     "output_type": "stream",
     "text": [
      "c1:[10, 20, 30, 40]\n",
      "c2:[5644, 20, 30, 9872]\n"
     ]
    }
   ],
   "source": [
    "c1=[10,20,30,40]\n",
    "c2=c1.copy() \n",
    "c2[0]=5644\n",
    "c2[3]=9872\n",
    "print(f'c1:{c1}')\n",
    "print(f'c2:{c2}')"
   ]
  },
  {
   "cell_type": "markdown",
   "id": "98841611-0461-4e5a-9bc8-989e7ecbe1bd",
   "metadata": {},
   "source": [
    "# Shallow Cloning and Deep Cloning \n",
    "----------------------------------\n",
    "- If original object does not contain any nested objects then, it is highly recommended to go for ---> Shallow Cloning\n",
    "- If original object does contain any nested objects then, it is highly recommended to go for ---> Deep Cloning\n"
   ]
  },
  {
   "cell_type": "markdown",
   "id": "168d2136-8d96-44f3-8e2e-1760af2bc2bd",
   "metadata": {},
   "source": [
    "# Shallow Cloning"
   ]
  },
  {
   "cell_type": "code",
   "execution_count": 13,
   "id": "56667eaa-1f9a-455e-8f8b-aaa4aa23ba78",
   "metadata": {},
   "outputs": [
    {
     "name": "stdout",
     "output_type": "stream",
     "text": [
      "l1:[8964, 20, [6964, 40], 50]\n",
      "l2:[10, 20, [6964, 40], 50]\n",
      "2553983007920 140737163674696\n",
      "2553984291264 2553984291264\n",
      "2553983005808 2553983005808\n"
     ]
    }
   ],
   "source": [
    "l1=[10,20,[30,40],50]\n",
    "#print(l1[2])\n",
    "#print(l1[2][0])\n",
    "l2=l1.copy() # duplicate object is created.Now, l1 and l2 are two diff objects.\n",
    "l1[0]=8964 # it changes only in l1 \n",
    "l1[2][0]=6964 # it changes in both variable \n",
    "print(f'l1:{l1}')\n",
    "print(f'l2:{l2}')\n",
    "print(id(l1[0]),id(l2[0]))\n",
    "print(id(l1[2]),id(l2[2]))\n",
    "print(id(l1[2][0]),id(l2[2][0]))"
   ]
  },
  {
   "cell_type": "code",
   "execution_count": 18,
   "id": "a0764985-d596-4902-8ae7-8ab056ef6832",
   "metadata": {},
   "outputs": [
    {
     "name": "stdout",
     "output_type": "stream",
     "text": [
      "d1:[5, 6, [9648, 9], 8]\n",
      "d2:[5, 6, [9648, 9], 8]\n"
     ]
    }
   ],
   "source": [
    "import copy\n",
    "d1=[5,6,[7,9],8]\n",
    "d2=copy.copy(d1)\n",
    "d1[2][0]=9648\n",
    "print(f'd1:{d1}')\n",
    "print(f'd2:{d2}')"
   ]
  },
  {
   "cell_type": "markdown",
   "id": "f185dc2f-ba2b-463e-9d03-df171cc5723a",
   "metadata": {},
   "source": [
    "# Deep Cloning"
   ]
  },
  {
   "cell_type": "code",
   "execution_count": 21,
   "id": "d4743f91-eaee-4ea4-be5f-cd721124288e",
   "metadata": {},
   "outputs": [
    {
     "name": "stdout",
     "output_type": "stream",
     "text": [
      "d1:[5, 6, [9648, 9], 8]\n",
      "d2:[5, 6, [7, 2365], 8]\n",
      "2553997463760 2553997462288\n"
     ]
    }
   ],
   "source": [
    "import copy\n",
    "d1=[5,6,[7,9],8]\n",
    "d2=copy.deepcopy(d1)\n",
    "d1[2][0]=9648\n",
    "d2[2][1]=2365\n",
    "print(f'd1:{d1}')\n",
    "print(f'd2:{d2}')\n",
    "print(id(d1[2][0]),id(d2[2][1]))"
   ]
  },
  {
   "cell_type": "code",
   "execution_count": null,
   "id": "bea2457c-80f3-4961-842f-6a7eb72f8603",
   "metadata": {},
   "outputs": [],
   "source": []
  },
  {
   "cell_type": "code",
   "execution_count": null,
   "id": "0cc573c2-c63d-4128-84af-c4459355816b",
   "metadata": {},
   "outputs": [],
   "source": []
  }
 ],
 "metadata": {
  "kernelspec": {
   "display_name": "Python 3 (ipykernel)",
   "language": "python",
   "name": "python3"
  },
  "language_info": {
   "codemirror_mode": {
    "name": "ipython",
    "version": 3
   },
   "file_extension": ".py",
   "mimetype": "text/x-python",
   "name": "python",
   "nbconvert_exporter": "python",
   "pygments_lexer": "ipython3",
   "version": "3.11.7"
  }
 },
 "nbformat": 4,
 "nbformat_minor": 5
}
