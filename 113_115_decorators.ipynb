{
 "cells": [
  {
   "cell_type": "markdown",
   "id": "15c56f67-1c9b-43d2-8938-f4e12558af5a",
   "metadata": {},
   "source": [
    "# Decorator"
   ]
  },
  {
   "cell_type": "code",
   "execution_count": 1,
   "id": "d96f3b83-775b-46a0-b0d3-0ab6123750f1",
   "metadata": {},
   "outputs": [
    {
     "name": "stdout",
     "output_type": "stream",
     "text": [
      "Send person to Beauty Parlour\n",
      "Showing a person with full decoration\n"
     ]
    }
   ],
   "source": [
    "def decor(func):\n",
    "    def inner():\n",
    "        print('Send person to Beauty Parlour')\n",
    "        print('Showing a person with full decoration')\n",
    "\n",
    "    return inner\n",
    "\n",
    "@decor\n",
    "def display():\n",
    "    print('Showing a person as it is')\n",
    "\n",
    "display()"
   ]
  },
  {
   "cell_type": "code",
   "execution_count": 2,
   "id": "9cbfe3d4-2b1c-4494-a9ee-6de519ab92c7",
   "metadata": {},
   "outputs": [
    {
     "name": "stdout",
     "output_type": "stream",
     "text": [
      "########################################\n",
      "The sum of 10 and 20:30\n",
      "########################################\n"
     ]
    }
   ],
   "source": [
    "def decor_for_add(func):\n",
    "    def inner(x,y):\n",
    "        print('#'*40)\n",
    "        print('The sum of {} and {}:'.format(x,y),end='')\n",
    "        func(x,y)\n",
    "        print('#'*40)\n",
    "    return inner\n",
    "\n",
    "@decor_for_add\n",
    "def add(a,b):\n",
    "    print(a+b)\n",
    "\n",
    "add(10,20)"
   ]
  },
  {
   "cell_type": "code",
   "execution_count": 4,
   "id": "4db42e85-46fb-46c4-a575-87055a35b687",
   "metadata": {},
   "outputs": [
    {
     "name": "stdout",
     "output_type": "stream",
     "text": [
      "Good Morning: Durga\n",
      "##################################################\n",
      "Hello Sunny,Good Morning!\n",
      "##################################################\n"
     ]
    }
   ],
   "source": [
    "def decor_for_sunny(func):\n",
    "    def inner(name):\n",
    "        if name == 'Sunny':\n",
    "            print('#'*50)\n",
    "            print('Hello Sunny,Good Morning!')\n",
    "            print('#'*50)\n",
    "\n",
    "        else:\n",
    "            func(name)\n",
    "\n",
    "    return inner\n",
    "\n",
    "@decor_for_sunny\n",
    "def wish(name):\n",
    "    print('Good Morning:',name)\n",
    "\n",
    "wish('Durga')\n",
    "wish('Sunny')"
   ]
  },
  {
   "cell_type": "code",
   "execution_count": 6,
   "id": "9d8809b2-f8e0-4f5d-9c41-78a91744fb2f",
   "metadata": {},
   "outputs": [
    {
     "name": "stdout",
     "output_type": "stream",
     "text": [
      "Hello Katrina, you are very important for us.\n",
      "Hello CM, you are very important for us.\n"
     ]
    }
   ],
   "source": [
    "def vip_member(func):\n",
    "    def inner(name):\n",
    "        names=['CM','PM','Minister','Sunny','Katrina']\n",
    "        if name in names:\n",
    "            print('Hello {}, you are very important for us.'.format(name))\n",
    "\n",
    "        else:\n",
    "            func(name)\n",
    "\n",
    "    return inner\n",
    "\n",
    "@vip_member\n",
    "def wish(name):\n",
    "    print('Good Morning',name)\n",
    "\n",
    "wish('Katrina')\n",
    "wish('CM')\n",
    "               \n",
    "    "
   ]
  },
  {
   "cell_type": "markdown",
   "id": "dbf130ef-7d8f-44b9-8940-d9280fe9f2ba",
   "metadata": {},
   "source": [
    "# Multiple decorator for same function"
   ]
  },
  {
   "cell_type": "code",
   "execution_count": 10,
   "id": "8ec0da4d-26df-4116-a8cd-f9003dfa781d",
   "metadata": {},
   "outputs": [
    {
     "name": "stdout",
     "output_type": "stream",
     "text": [
      "5.0\n",
      "Hello Stupid! How we can divide with zero.\n",
      "1\n",
      "Hello Stupid! How we can divide with zero.\n"
     ]
    }
   ],
   "source": [
    "def smart_division(func):\n",
    "    def inner(a,b):\n",
    "        if b == 0:\n",
    "            print('Hello Stupid! How we can divide with zero.')\n",
    "\n",
    "        else:\n",
    "            func(a,b)\n",
    "\n",
    "    return inner\n",
    "\n",
    "@smart_division\n",
    "def division(a,b):\n",
    "    print(a/b)\n",
    "    \n",
    "@smart_division\n",
    "def modulo(a,b):\n",
    "    print(a%b)\n",
    "\n",
    "\n",
    "division(10,2)\n",
    "division(10,0)\n",
    "modulo(10,3)\n",
    "modulo(10,0)"
   ]
  },
  {
   "cell_type": "markdown",
   "id": "3d086a40-0184-4122-8076-f9832685a300",
   "metadata": {},
   "source": [
    "# How to call same function with and wihout decorator"
   ]
  },
  {
   "cell_type": "code",
   "execution_count": 18,
   "id": "4706c72e-679b-4ae8-afa1-51126bacc3cf",
   "metadata": {},
   "outputs": [
    {
     "name": "stdout",
     "output_type": "stream",
     "text": [
      "Good Morning: Durga\n",
      "Good Morning: Sunny\n",
      "Good Morning: Durga\n",
      "##################################################\n",
      "Hello Sunny,Good Morning!\n",
      "##################################################\n"
     ]
    }
   ],
   "source": [
    "def decor_for_sunny(func):\n",
    "    def inner(name):\n",
    "        if name == 'Sunny':\n",
    "            print('#'*50)\n",
    "            print('Hello Sunny,Good Morning!')\n",
    "            print('#'*50)\n",
    "\n",
    "        else:\n",
    "            func(name)\n",
    "\n",
    "    return inner\n",
    "\n",
    "def wish(name):\n",
    "    print('Good Morning:',name)\n",
    "\n",
    "decor_for_wish=decor_for_sunny(wish)\n",
    "# without decorator\n",
    "wish('Durga')\n",
    "wish('Sunny')\n",
    "# with decorator\n",
    "decor_for_wish('Durga')\n",
    "decor_for_wish('Sunny')"
   ]
  },
  {
   "cell_type": "markdown",
   "id": "105daac9-f13c-4b2e-9d04-ef9abe279728",
   "metadata": {},
   "source": [
    "# Decorator Chaining\n",
    "### Multiple Decorator for same functions"
   ]
  },
  {
   "cell_type": "code",
   "execution_count": 28,
   "id": "f198a733-d038-4538-b529-6f6c62cffb94",
   "metadata": {},
   "outputs": [
    {
     "name": "stdout",
     "output_type": "stream",
     "text": [
      "decorator2 execution\n"
     ]
    }
   ],
   "source": [
    "def decor1(func):\n",
    "    def inner1():\n",
    "        print('decorator1 execution') # 2\n",
    "        #func() # Here f1() will be executed\n",
    "    return inner1\n",
    "\n",
    "def decor2(func):\n",
    "    def inner2():\n",
    "        print('decorator2 execution') # 1\n",
    "        #func() # Here inner1() will be executed\n",
    "    return inner2\n",
    "\n",
    "@decor2\n",
    "@decor1\n",
    "def f1():\n",
    "    print('original function') # 3\n",
    "\n",
    "f1()"
   ]
  },
  {
   "cell_type": "code",
   "execution_count": 31,
   "id": "eb8e5f9d-0f49-4fa6-952f-b0c2ad8d80fb",
   "metadata": {},
   "outputs": [
    {
     "name": "stdout",
     "output_type": "stream",
     "text": [
      "400\n"
     ]
    }
   ],
   "source": [
    "def decor1(func):\n",
    "    def inner1(): # num() returned value will become this x value :2*10=20\n",
    "        x=func() \n",
    "        return 2*x\n",
    "\n",
    "    return inner1\n",
    "\n",
    "def decor2(func):\n",
    "    def inner2(): # inner1() returned value will become this x value : 20*20=400\n",
    "        x=func()\n",
    "        return x*x\n",
    "\n",
    "    return inner2\n",
    "\n",
    "@decor2\n",
    "@decor1\n",
    "def num():\n",
    "    return 10\n",
    "\n",
    "print(num())"
   ]
  },
  {
   "cell_type": "code",
   "execution_count": null,
   "id": "3f0ce3a2-ef96-4a14-ae6a-a6467e3f8356",
   "metadata": {},
   "outputs": [],
   "source": []
  },
  {
   "cell_type": "code",
   "execution_count": null,
   "id": "0d1f7883-f2c0-42a7-9bf5-aba9b3b35f43",
   "metadata": {},
   "outputs": [],
   "source": []
  },
  {
   "cell_type": "code",
   "execution_count": null,
   "id": "551a5146-22bf-4856-8524-706549e02a8d",
   "metadata": {},
   "outputs": [],
   "source": []
  },
  {
   "cell_type": "code",
   "execution_count": null,
   "id": "b1a397f4-8162-44e8-b78a-e47f33cb5c65",
   "metadata": {},
   "outputs": [],
   "source": []
  }
 ],
 "metadata": {
  "kernelspec": {
   "display_name": "Python 3 (ipykernel)",
   "language": "python",
   "name": "python3"
  },
  "language_info": {
   "codemirror_mode": {
    "name": "ipython",
    "version": 3
   },
   "file_extension": ".py",
   "mimetype": "text/x-python",
   "name": "python",
   "nbconvert_exporter": "python",
   "pygments_lexer": "ipython3",
   "version": "3.11.7"
  }
 },
 "nbformat": 4,
 "nbformat_minor": 5
}
