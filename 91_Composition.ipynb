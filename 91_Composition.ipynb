{
 "cells": [
  {
   "cell_type": "markdown",
   "id": "65e396b8-007f-43f5-83fd-6e6c85449945",
   "metadata": {},
   "source": [
    "# Composition\n",
    "\n",
    "## Without existing container object, if there is no chance of existing contained object then, container and contained objects are strongly associated and this strong association is nothing but composition."
   ]
  },
  {
   "cell_type": "code",
   "execution_count": 4,
   "id": "1ef69358-5f38-488b-9859-54ec6a7b9152",
   "metadata": {},
   "outputs": [],
   "source": [
    "class University:\n",
    "    def __init__(self):\n",
    "        self.dept=self.Department()\n",
    "\n",
    "    class Department:\n",
    "        pass\n",
    "\n",
    "u=University()"
   ]
  },
  {
   "cell_type": "markdown",
   "id": "3aec46ba-236b-4813-8d01-553c455875be",
   "metadata": {},
   "source": [
    "# Aggregation\n",
    "## Without existing container object, still there may be a chance of existing contained object then, container and contained objects are weakly associated and this weak association is nothing but aggregation."
   ]
  },
  {
   "cell_type": "code",
   "execution_count": 8,
   "id": "e36ca916-37e5-4132-bb37-7e96d3d51a0e",
   "metadata": {},
   "outputs": [],
   "source": [
    "class Professor:\n",
    "    pass\n",
    "\n",
    "class Department:\n",
    "    def __init__(self,prof):\n",
    "        self.prof=prof\n",
    "\n",
    "prof=Professor()\n",
    "csdept=Department(prof)\n",
    "itdept=Department(prof)"
   ]
  },
  {
   "cell_type": "markdown",
   "id": "340807c9-eaa5-438f-b91d-e13dea6128fe",
   "metadata": {},
   "source": [
    "### The relation between object and instance variable is always composition.\n",
    "### The relation between object and static variable is always aggregation."
   ]
  },
  {
   "cell_type": "code",
   "execution_count": 11,
   "id": "c5fb95a4-a785-4496-a27d-9d6ccff5f9f2",
   "metadata": {},
   "outputs": [
    {
     "name": "stdout",
     "output_type": "stream",
     "text": [
      "NSTI-Bhubaneswar\n"
     ]
    }
   ],
   "source": [
    "class Student:\n",
    "    collegeName=\"NSTI-Bhubaneswar\"\n",
    "    def __init__(self,name):\n",
    "        self.name=name\n",
    "\n",
    "print(Student.collegeName)\n",
    "s=Student('Uzma')"
   ]
  },
  {
   "cell_type": "code",
   "execution_count": null,
   "id": "65461205-3bb9-451a-872c-fda4eddb9695",
   "metadata": {},
   "outputs": [],
   "source": []
  }
 ],
 "metadata": {
  "kernelspec": {
   "display_name": "Python 3 (ipykernel)",
   "language": "python",
   "name": "python3"
  },
  "language_info": {
   "codemirror_mode": {
    "name": "ipython",
    "version": 3
   },
   "file_extension": ".py",
   "mimetype": "text/x-python",
   "name": "python",
   "nbconvert_exporter": "python",
   "pygments_lexer": "ipython3",
   "version": "3.11.7"
  }
 },
 "nbformat": 4,
 "nbformat_minor": 5
}
