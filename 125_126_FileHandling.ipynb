{
 "cells": [
  {
   "cell_type": "code",
   "execution_count": 3,
   "id": "a35ff923-97a3-43e7-ae77-5b8013e00b0d",
   "metadata": {},
   "outputs": [
    {
     "name": "stdin",
     "output_type": "stream",
     "text": [
      "Enter sone Name: hjkghm\n",
      "Enter sone Name: \n",
      "Enter sone Name: hgjhg\n",
      "Enter sone Name: hjkhf\n",
      "Enter sone Name: done\n"
     ]
    },
    {
     "name": "stdout",
     "output_type": "stream",
     "text": [
      "['hjkghm', '', 'hgjhg', 'hjkhf']\n"
     ]
    }
   ],
   "source": [
    "l=[]\n",
    "while (data:= input('Enter sone Name:')) != 'done':\n",
    "    l.append(data)\n",
    "print(l)"
   ]
  },
  {
   "cell_type": "markdown",
   "id": "0622d7f4-83cc-4861-a213-44e221c9217f",
   "metadata": {},
   "source": [
    "# opening a file"
   ]
  },
  {
   "cell_type": "code",
   "execution_count": 5,
   "id": "3f3f816e-da0f-4ca2-9e14-adc11cd436b0",
   "metadata": {},
   "outputs": [
    {
     "ename": "FileNotFoundError",
     "evalue": "[Errno 2] No such file or directory: 'abc.txt'",
     "output_type": "error",
     "traceback": [
      "\u001b[1;31m---------------------------------------------------------------------------\u001b[0m",
      "\u001b[1;31mFileNotFoundError\u001b[0m                         Traceback (most recent call last)",
      "Cell \u001b[1;32mIn[5], line 1\u001b[0m\n\u001b[1;32m----> 1\u001b[0m f\u001b[38;5;241m=\u001b[39m\u001b[38;5;28mopen\u001b[39m(\u001b[38;5;124m'\u001b[39m\u001b[38;5;124mabc.txt\u001b[39m\u001b[38;5;124m'\u001b[39m,\u001b[38;5;124m'\u001b[39m\u001b[38;5;124mr\u001b[39m\u001b[38;5;124m'\u001b[39m) \n\u001b[0;32m      2\u001b[0m f\n",
      "File \u001b[1;32m~\\anaconda3\\Lib\\site-packages\\IPython\\core\\interactiveshell.py:310\u001b[0m, in \u001b[0;36m_modified_open\u001b[1;34m(file, *args, **kwargs)\u001b[0m\n\u001b[0;32m    303\u001b[0m \u001b[38;5;28;01mif\u001b[39;00m file \u001b[38;5;129;01min\u001b[39;00m {\u001b[38;5;241m0\u001b[39m, \u001b[38;5;241m1\u001b[39m, \u001b[38;5;241m2\u001b[39m}:\n\u001b[0;32m    304\u001b[0m     \u001b[38;5;28;01mraise\u001b[39;00m \u001b[38;5;167;01mValueError\u001b[39;00m(\n\u001b[0;32m    305\u001b[0m         \u001b[38;5;124mf\u001b[39m\u001b[38;5;124m\"\u001b[39m\u001b[38;5;124mIPython won\u001b[39m\u001b[38;5;124m'\u001b[39m\u001b[38;5;124mt let you open fd=\u001b[39m\u001b[38;5;132;01m{\u001b[39;00mfile\u001b[38;5;132;01m}\u001b[39;00m\u001b[38;5;124m by default \u001b[39m\u001b[38;5;124m\"\u001b[39m\n\u001b[0;32m    306\u001b[0m         \u001b[38;5;124m\"\u001b[39m\u001b[38;5;124mas it is likely to crash IPython. If you know what you are doing, \u001b[39m\u001b[38;5;124m\"\u001b[39m\n\u001b[0;32m    307\u001b[0m         \u001b[38;5;124m\"\u001b[39m\u001b[38;5;124myou can use builtins\u001b[39m\u001b[38;5;124m'\u001b[39m\u001b[38;5;124m open.\u001b[39m\u001b[38;5;124m\"\u001b[39m\n\u001b[0;32m    308\u001b[0m     )\n\u001b[1;32m--> 310\u001b[0m \u001b[38;5;28;01mreturn\u001b[39;00m io_open(file, \u001b[38;5;241m*\u001b[39margs, \u001b[38;5;241m*\u001b[39m\u001b[38;5;241m*\u001b[39mkwargs)\n",
      "\u001b[1;31mFileNotFoundError\u001b[0m: [Errno 2] No such file or directory: 'abc.txt'"
     ]
    }
   ],
   "source": [
    "f=open('abc.txt','r') \n",
    "f"
   ]
  },
  {
   "cell_type": "code",
   "execution_count": 6,
   "id": "81918454-2b89-4f25-a500-ed1b748bdcb1",
   "metadata": {},
   "outputs": [
    {
     "data": {
      "text/plain": [
       "<_io.TextIOWrapper name='abc.txt' mode='w' encoding='cp1252'>"
      ]
     },
     "execution_count": 6,
     "metadata": {},
     "output_type": "execute_result"
    }
   ],
   "source": [
    "f=open('abc.txt','w') \n",
    "f"
   ]
  },
  {
   "cell_type": "code",
   "execution_count": 18,
   "id": "a9e4eeb9-310b-48e2-a3aa-d9e9f71cd9dd",
   "metadata": {},
   "outputs": [
    {
     "name": "stdout",
     "output_type": "stream",
     "text": [
      "abc.txt\n",
      "r+\n",
      "True\n",
      "True\n",
      "False\n",
      "True\n"
     ]
    }
   ],
   "source": [
    "f=open('abc.txt','r+')\n",
    "print(f.name)\n",
    "print(f.mode)\n",
    "print(f.readable())\n",
    "print(f.writable())\n",
    "print(f.closed)\n",
    "f.close()\n",
    "print(f.closed)"
   ]
  },
  {
   "cell_type": "code",
   "execution_count": 8,
   "id": "11969a28-df89-4cba-9cca-ef91c4aa251e",
   "metadata": {},
   "outputs": [
    {
     "name": "stdout",
     "output_type": "stream",
     "text": [
      "abc.txt\n",
      "r\n",
      "True\n",
      "False\n",
      "False\n",
      "True\n"
     ]
    }
   ],
   "source": [
    "f=open('abc.txt') # default mode is read\n",
    "print(f.name)\n",
    "print(f.mode)\n",
    "print(f.readable())\n",
    "print(f.writable())\n",
    "print(f.closed)\n",
    "f.close()\n",
    "print(f.closed)"
   ]
  },
  {
   "cell_type": "code",
   "execution_count": 9,
   "id": "5f2087a9-0168-4264-a51f-13cdd888d32d",
   "metadata": {},
   "outputs": [
    {
     "name": "stdout",
     "output_type": "stream",
     "text": [
      "abc.txt\n",
      "w\n",
      "False\n",
      "True\n",
      "False\n",
      "True\n"
     ]
    }
   ],
   "source": [
    "f=open('abc.txt','w')\n",
    "print(f.name)\n",
    "print(f.mode)\n",
    "print(f.readable())\n",
    "print(f.writable())\n",
    "print(f.closed)\n",
    "f.close()\n",
    "print(f.closed)"
   ]
  },
  {
   "cell_type": "code",
   "execution_count": 10,
   "id": "817cee44-e8b7-4d0e-90d8-abaeac5bf1e9",
   "metadata": {},
   "outputs": [
    {
     "name": "stdout",
     "output_type": "stream",
     "text": [
      "abc.txt\n",
      "a\n",
      "False\n",
      "True\n",
      "False\n",
      "True\n"
     ]
    }
   ],
   "source": [
    "f=open('abc.txt','a')\n",
    "print(f.name)\n",
    "print(f.mode)\n",
    "print(f.readable())\n",
    "print(f.writable())\n",
    "print(f.closed)\n",
    "f.close()\n",
    "print(f.closed)"
   ]
  },
  {
   "cell_type": "code",
   "execution_count": 14,
   "id": "c017f3c1-b0ae-43ba-ae6a-b241872b1f74",
   "metadata": {},
   "outputs": [
    {
     "name": "stdout",
     "output_type": "stream",
     "text": [
      "abc.txt\n",
      "a+\n",
      "True\n",
      "True\n",
      "False\n",
      "True\n"
     ]
    }
   ],
   "source": [
    "f=open('abc.txt','a+')\n",
    "print(f.name)\n",
    "print(f.mode)\n",
    "print(f.readable())\n",
    "print(f.writable())\n",
    "print(f.closed)\n",
    "f.close()\n",
    "print(f.closed)"
   ]
  },
  {
   "cell_type": "code",
   "execution_count": 11,
   "id": "7f7248de-d1a2-4e8a-957d-83778432eab8",
   "metadata": {},
   "outputs": [
    {
     "name": "stdout",
     "output_type": "stream",
     "text": [
      "abc.txt\n",
      "r+\n",
      "True\n",
      "True\n",
      "False\n",
      "True\n"
     ]
    }
   ],
   "source": [
    "f=open('abc.txt','r+')\n",
    "print(f.name)\n",
    "print(f.mode)\n",
    "print(f.readable())\n",
    "print(f.writable())\n",
    "print(f.closed)\n",
    "f.close()\n",
    "print(f.closed)"
   ]
  },
  {
   "cell_type": "code",
   "execution_count": 12,
   "id": "926087fc-c7c6-4ce9-b648-e607f9399eab",
   "metadata": {},
   "outputs": [
    {
     "name": "stdout",
     "output_type": "stream",
     "text": [
      "abc.txt\n",
      "w+\n",
      "True\n",
      "True\n",
      "False\n",
      "True\n"
     ]
    }
   ],
   "source": [
    "f=open('abc.txt','w+')\n",
    "print(f.name)\n",
    "print(f.mode)\n",
    "print(f.readable())\n",
    "print(f.writable())\n",
    "print(f.closed)\n",
    "f.close()\n",
    "print(f.closed)"
   ]
  },
  {
   "cell_type": "code",
   "execution_count": 16,
   "id": "227025f6-fce1-45df-8084-c729b06f348e",
   "metadata": {},
   "outputs": [
    {
     "name": "stdout",
     "output_type": "stream",
     "text": [
      "abcd.txt\n",
      "x\n",
      "False\n",
      "True\n",
      "False\n",
      "True\n"
     ]
    }
   ],
   "source": [
    "f=open('abcd.txt','x') # if file exists it will give error otherwise a new file will be created\n",
    "print(f.name)\n",
    "print(f.mode)\n",
    "print(f.readable())\n",
    "print(f.writable())\n",
    "print(f.closed)\n",
    "f.close()\n",
    "print(f.closed)"
   ]
  },
  {
   "cell_type": "markdown",
   "id": "4d73b7b8-4890-4606-88c5-5f2570f7eb76",
   "metadata": {},
   "source": [
    "# Writing data to the text files"
   ]
  },
  {
   "cell_type": "code",
   "execution_count": 22,
   "id": "284fc331-6010-4132-8846-7de4e899b171",
   "metadata": {},
   "outputs": [
    {
     "name": "stdout",
     "output_type": "stream",
     "text": [
      "data written successfully\n"
     ]
    }
   ],
   "source": [
    "f=open('abc.txt','a')\n",
    "f.write('kilouiwet')\n",
    "print('data written successfully')"
   ]
  },
  {
   "cell_type": "code",
   "execution_count": 25,
   "id": "23ad28bb-26bc-4433-9d23-2e29038a61d4",
   "metadata": {},
   "outputs": [],
   "source": [
    "f=open('abc.txt','w')\n",
    "l=['dfsf','fdgdf','try','rtewq']\n",
    "for s in l:\n",
    "    f.write(s+'\\n')\n",
    "f.writelines(l)\n",
    "f.close()"
   ]
  },
  {
   "cell_type": "code",
   "execution_count": 28,
   "id": "5db2f622-e037-4bfe-92bb-e3dd777f8c57",
   "metadata": {},
   "outputs": [
    {
     "name": "stdout",
     "output_type": "stream",
     "text": [
      "List of lines written to the successfully.\n"
     ]
    }
   ],
   "source": [
    "f=open('abc.txt','w')\n",
    "l=['dfsf ','fdgdf ','try ','rtewq ']\n",
    "f.writelines(l)\n",
    "print('List of lines written to the successfully.')\n",
    "f.close()"
   ]
  },
  {
   "cell_type": "code",
   "execution_count": 39,
   "id": "6e7a2ada-af98-4318-b8d1-0b3c687c5c0b",
   "metadata": {},
   "outputs": [
    {
     "name": "stdout",
     "output_type": "stream",
     "text": [
      "Tuple of lines written to the successfully.\n"
     ]
    }
   ],
   "source": [
    "f=open('abc.txt','w')\n",
    "l=('dfsf\\n','fdgdf\\n','try\\n','rtewq\\n')\n",
    "f.writelines(l)\n",
    "print('Tuple of lines written to the successfully.')\n",
    "f.close()"
   ]
  },
  {
   "cell_type": "code",
   "execution_count": 34,
   "id": "04376dc6-ace4-42da-a92b-ad6d82e865f5",
   "metadata": {},
   "outputs": [
    {
     "name": "stdout",
     "output_type": "stream",
     "text": [
      "Set of lines written to the successfully.\n"
     ]
    }
   ],
   "source": [
    "f=open('abc.txt','w')\n",
    "l={'dfsf\\n','fdgdf\\n','try\\n','rtewq\\n'}\n",
    "f.writelines(l)\n",
    "print('Set of lines written to the successfully.')\n",
    "f.close()"
   ]
  },
  {
   "cell_type": "code",
   "execution_count": 37,
   "id": "161b6472-e65a-4abe-b05b-31e62427f7c4",
   "metadata": {},
   "outputs": [
    {
     "name": "stdout",
     "output_type": "stream",
     "text": [
      "Dict of lines written to the successfully.\n"
     ]
    }
   ],
   "source": [
    "f=open('abc.txt','w')\n",
    "l={'assam\\n':100,'kashmir\\n':200,'uttarakhand\\n':300,'jaipur\\n':400}\n",
    "f.writelines(l) # d is keys and only keys will be added in the file.\n",
    "print('Dict of lines written to the successfully.')\n",
    "f.close()"
   ]
  },
  {
   "cell_type": "code",
   "execution_count": 38,
   "id": "5dcd6b49-cd80-423a-9f5b-efdb6202ba1a",
   "metadata": {},
   "outputs": [
    {
     "ename": "TypeError",
     "evalue": "write() argument must be str, not int",
     "output_type": "error",
     "traceback": [
      "\u001b[1;31m---------------------------------------------------------------------------\u001b[0m",
      "\u001b[1;31mTypeError\u001b[0m                                 Traceback (most recent call last)",
      "Cell \u001b[1;32mIn[38], line 3\u001b[0m\n\u001b[0;32m      1\u001b[0m f\u001b[38;5;241m=\u001b[39m\u001b[38;5;28mopen\u001b[39m(\u001b[38;5;124m'\u001b[39m\u001b[38;5;124mabc.txt\u001b[39m\u001b[38;5;124m'\u001b[39m,\u001b[38;5;124m'\u001b[39m\u001b[38;5;124mw\u001b[39m\u001b[38;5;124m'\u001b[39m)\n\u001b[0;32m      2\u001b[0m l\u001b[38;5;241m=\u001b[39m{\u001b[38;5;241m100\u001b[39m:\u001b[38;5;124m'\u001b[39m\u001b[38;5;124massam\u001b[39m\u001b[38;5;130;01m\\n\u001b[39;00m\u001b[38;5;124m'\u001b[39m,\u001b[38;5;241m200\u001b[39m:\u001b[38;5;124m'\u001b[39m\u001b[38;5;124mkashmir\u001b[39m\u001b[38;5;130;01m\\n\u001b[39;00m\u001b[38;5;124m'\u001b[39m,\u001b[38;5;241m300\u001b[39m:\u001b[38;5;124m'\u001b[39m\u001b[38;5;124muttarakhand\u001b[39m\u001b[38;5;130;01m\\n\u001b[39;00m\u001b[38;5;124m'\u001b[39m,\u001b[38;5;241m400\u001b[39m:\u001b[38;5;124m'\u001b[39m\u001b[38;5;124mjaipur\u001b[39m\u001b[38;5;130;01m\\n\u001b[39;00m\u001b[38;5;124m'\u001b[39m}\n\u001b[1;32m----> 3\u001b[0m f\u001b[38;5;241m.\u001b[39mwritelines(l) \u001b[38;5;66;03m# d is keys and only keys will be added in the file.\u001b[39;00m\n\u001b[0;32m      4\u001b[0m \u001b[38;5;28mprint\u001b[39m(\u001b[38;5;124m'\u001b[39m\u001b[38;5;124mDict of lines written to the successfully.\u001b[39m\u001b[38;5;124m'\u001b[39m)\n\u001b[0;32m      5\u001b[0m f\u001b[38;5;241m.\u001b[39mclose()\n",
      "\u001b[1;31mTypeError\u001b[0m: write() argument must be str, not int"
     ]
    }
   ],
   "source": [
    "#keys should not be in int type\n",
    "f=open('abc.txt','w')\n",
    "l={100:'assam\\n',200:'kashmir\\n',300:'uttarakhand\\n',400:'jaipur\\n'} \n",
    "f.writelines(l) # d is keys and only keys will be added in the file.\n",
    "print('Dict of lines written to the successfully.')\n",
    "f.close()"
   ]
  },
  {
   "cell_type": "markdown",
   "id": "1789c1cb-e19e-477f-9025-56f5e5b6e2da",
   "metadata": {},
   "source": [
    " # Input"
   ]
  },
  {
   "cell_type": "code",
   "execution_count": 46,
   "id": "e249e274-dd91-4d38-b8b5-455434ca3c1f",
   "metadata": {},
   "outputs": [
    {
     "name": "stdin",
     "output_type": "stream",
     "text": [
      "Enter the Student's Name suman\n",
      "Enter the marks of Python: 54\n",
      "Enter the marks of Java: 46\n",
      "Enter the marks of Oracle: 46\n",
      "Enter the marks of Linux: 36\n"
     ]
    },
    {
     "name": "stdout",
     "output_type": "stream",
     "text": [
      "Your marks is entered successsfully\n"
     ]
    }
   ],
   "source": [
    "name = input('Enter the Student\\'s Name')\n",
    "f=open(f'C:\\\\results\\\\{name.lower()}.txt','w') # result folder should be available thre in c drive\n",
    "\n",
    "m1=input('Enter the marks of Python:')\n",
    "m2=input('Enter the marks of Java:')\n",
    "m3=input('Enter the marks of Oracle:')\n",
    "m4=input('Enter the marks of Linux:')\n",
    "\n",
    "f.write(f'Student\\'s Name:{name}\\n')\n",
    "f.write('_'*50+'\\n')\n",
    "f.write(f'Python:{m1}\\n')\n",
    "f.write(f'Java:{m2}\\n')\n",
    "f.write(f'Oracle:{m3}\\n')\n",
    "f.write(f'Linux:{m4}\\n')\n",
    "\n",
    "print('Your marks is entered successsfully')\n",
    "f.close()"
   ]
  },
  {
   "cell_type": "markdown",
   "id": "e6967f9f-b30d-4657-b860-d09c86ac3ec6",
   "metadata": {},
   "source": [
    "# Read lines"
   ]
  },
  {
   "cell_type": "code",
   "execution_count": 47,
   "id": "6ef2fe77-78ef-479e-b545-86ccced31822",
   "metadata": {},
   "outputs": [
    {
     "name": "stdout",
     "output_type": "stream",
     "text": [
      "dfsf\n",
      "fdgdf\n",
      "try\n",
      "rtewq\n",
      "\n"
     ]
    }
   ],
   "source": [
    "f=open('abc.txt','r')\n",
    "print(f.read())"
   ]
  },
  {
   "cell_type": "code",
   "execution_count": 63,
   "id": "fca2aad7-fa0e-4996-a3ba-ce7a76f5b085",
   "metadata": {},
   "outputs": [
    {
     "name": "stdout",
     "output_type": "stream",
     "text": [
      "dfsf\n",
      "fdgdf\n",
      "try\n",
      "rtewq\n"
     ]
    }
   ],
   "source": [
    "f=open('abc.txt','r')\n",
    "print(f.read(20))"
   ]
  },
  {
   "cell_type": "code",
   "execution_count": 56,
   "id": "dcc574e1-7ba7-41aa-b8ea-7ca070565359",
   "metadata": {},
   "outputs": [
    {
     "name": "stdout",
     "output_type": "stream",
     "text": [
      "dfsf\n",
      "fdgdf\n",
      "try\n"
     ]
    }
   ],
   "source": [
    "f=open('abc.txt','r')\n",
    "print(f.readline(),end='')\n",
    "print(f.readline(),end='')\n",
    "print(f.readline(),end='')"
   ]
  },
  {
   "cell_type": "code",
   "execution_count": 60,
   "id": "ce6daa74-ec8b-4908-aef2-dbf0cbae940a",
   "metadata": {},
   "outputs": [
    {
     "name": "stdout",
     "output_type": "stream",
     "text": [
      "dfsf\n",
      "fdgdf\n",
      "try\n",
      "rtewq\n"
     ]
    }
   ],
   "source": [
    "f=open('abc.txt','r')\n",
    "line=f.readline()\n",
    "while line != '':\n",
    "    print(line,end='')\n",
    "    line=f.readline()"
   ]
  },
  {
   "cell_type": "code",
   "execution_count": 50,
   "id": "76b2b193-a7ae-4ce0-ad18-01b7646b40f3",
   "metadata": {},
   "outputs": [
    {
     "name": "stdout",
     "output_type": "stream",
     "text": [
      "['dfsf\\n', 'fdgdf\\n', 'try\\n', 'rtewq\\n']\n"
     ]
    }
   ],
   "source": [
    "f=open('abc.txt','r')\n",
    "print(f.readlines())"
   ]
  },
  {
   "cell_type": "code",
   "execution_count": 61,
   "id": "7414c895-708d-4b67-b166-9ebde40f32a4",
   "metadata": {},
   "outputs": [
    {
     "name": "stdout",
     "output_type": "stream",
     "text": [
      "dfsf\n",
      "fdgdf\n",
      "try\n",
      "rtewq\n"
     ]
    }
   ],
   "source": [
    "f=open('abc.txt','r')\n",
    "line=f.readline()\n",
    "while line!= '':\n",
    "    if line != '\\n':\n",
    "        print(line,end='')\n",
    "\n",
    "    line=f.readline()\n",
    "f.close()"
   ]
  },
  {
   "cell_type": "code",
   "execution_count": 69,
   "id": "e34c4b2d-40a6-4d9e-a3a7-b6f96756413a",
   "metadata": {},
   "outputs": [
    {
     "name": "stdout",
     "output_type": "stream",
     "text": [
      "dfs\n",
      "__________\n",
      "f\n",
      "fdg\n",
      "__________\n",
      "df\n",
      "try\n",
      "r\n"
     ]
    }
   ],
   "source": [
    "f=open('abc.txt','r')\n",
    "print(f.read(3))\n",
    "print('_'*10)\n",
    "print(f.read(5))\n",
    "print('_'*10)\n",
    "print(f.read(8))"
   ]
  },
  {
   "cell_type": "code",
   "execution_count": 71,
   "id": "ebb4c670-45df-471f-847a-5ab5e9aaa78b",
   "metadata": {},
   "outputs": [
    {
     "name": "stdout",
     "output_type": "stream",
     "text": [
      "dfsf\n",
      "\n",
      "__________\n",
      "fdgdf\n",
      "\n",
      "__________\n",
      "try\n",
      "\n"
     ]
    }
   ],
   "source": [
    "f=open('abc.txt','r')\n",
    "print(f.readline())\n",
    "print('_'*10)\n",
    "print(f.readline())\n",
    "print('_'*10)\n",
    "print(f.readline())"
   ]
  },
  {
   "cell_type": "markdown",
   "id": "fd3379ab-5875-4b58-9740-9e9d7071f978",
   "metadata": {},
   "source": [
    "# WAP a read data from input.txt and write to ouput.txt."
   ]
  },
  {
   "cell_type": "code",
   "execution_count": 74,
   "id": "3589cc60-2ffd-41c7-9fc7-edc45e984236",
   "metadata": {},
   "outputs": [
    {
     "name": "stdout",
     "output_type": "stream",
     "text": [
      "The data copied successfully.\n"
     ]
    }
   ],
   "source": [
    "f1=open('abc.txt','r')\n",
    "f2=open('abcd.txt','w')\n",
    "data=f1.read()\n",
    "f2.write(data)\n",
    "print('The data copied successfully.')\n",
    "f1.close()\n",
    "f2.close()"
   ]
  },
  {
   "cell_type": "markdown",
   "id": "120c749d-1029-4be3-a772-c4a899269195",
   "metadata": {},
   "source": [
    "  # with statement"
   ]
  },
  {
   "cell_type": "code",
   "execution_count": 77,
   "id": "cf0024ee-35aa-4cb7-86ee-cd530f811759",
   "metadata": {},
   "outputs": [
    {
     "name": "stdout",
     "output_type": "stream",
     "text": [
      "Is File closed? False\n",
      "Is File closed? True\n"
     ]
    }
   ],
   "source": [
    "with open('abc.txt','w') as f:\n",
    "    f.write('abdbfdsk\\n')\n",
    "    f.write('abdbfdsk\\n')\n",
    "    f.write('abdbfdsk\\n')\n",
    "    print('Is File closed?',f.closed)\n",
    "print('Is File closed?',f.closed)"
   ]
  },
  {
   "cell_type": "markdown",
   "id": "660623a2-5bcd-4e02-9a0d-477b92f557a1",
   "metadata": {},
   "source": [
    "# tell() and seek() methods"
   ]
  },
  {
   "cell_type": "code",
   "execution_count": 92,
   "id": "d0c30467-71f1-4e22-861f-4e906eb3c207",
   "metadata": {},
   "outputs": [
    {
     "name": "stdout",
     "output_type": "stream",
     "text": [
      "0\n",
      "\n",
      "0\n",
      "\n",
      "0\n"
     ]
    }
   ],
   "source": [
    "f=open('abc.txt','r')\n",
    "print(f.tell())\n",
    "print(f.read(3))\n",
    "print(f.tell())\n",
    "print(f.read(8))\n",
    "print(f.tell())"
   ]
  },
  {
   "cell_type": "code",
   "execution_count": 91,
   "id": "97bf0dab-8ed4-4f30-8cef-6f399542eebf",
   "metadata": {},
   "outputs": [
    {
     "name": "stdout",
     "output_type": "stream",
     "text": [
      "0\n"
     ]
    }
   ],
   "source": [
    "f=open('abc.txt','w+')\n",
    "print(f.tell())"
   ]
  },
  {
   "cell_type": "code",
   "execution_count": 84,
   "id": "883abc41-d564-4fbd-8915-91a3e4193dec",
   "metadata": {},
   "outputs": [
    {
     "name": "stdout",
     "output_type": "stream",
     "text": [
      "0\n"
     ]
    }
   ],
   "source": [
    "f=open('abc.txt','w')\n",
    "print(f.tell())\n",
    "# print(f.read(3))\n",
    "# print(f.tell())\n",
    "# print(f.read(8))\n",
    "# print(f.tell())"
   ]
  },
  {
   "cell_type": "code",
   "execution_count": 86,
   "id": "bbb9802b-1c68-423c-b17d-17b1c7fe8bcf",
   "metadata": {},
   "outputs": [
    {
     "name": "stdout",
     "output_type": "stream",
     "text": [
      "0\n"
     ]
    }
   ],
   "source": [
    "f=open('abc.txt','a')\n",
    "print(f.tell())"
   ]
  },
  {
   "cell_type": "code",
   "execution_count": 88,
   "id": "8801c718-eaf9-4cd1-a46d-54d456bb6c05",
   "metadata": {},
   "outputs": [
    {
     "name": "stdout",
     "output_type": "stream",
     "text": [
      "0\n"
     ]
    }
   ],
   "source": [
    "f=open('abc.txt','r')\n",
    "print(f.tell())"
   ]
  },
  {
   "cell_type": "code",
   "execution_count": 89,
   "id": "35c2e606-f2ba-408d-8c8f-72ed6a31df1e",
   "metadata": {},
   "outputs": [
    {
     "name": "stdout",
     "output_type": "stream",
     "text": [
      "0\n"
     ]
    }
   ],
   "source": [
    "f=open('abc.txt','r+')\n",
    "print(f.tell())"
   ]
  },
  {
   "cell_type": "markdown",
   "id": "82ba376a-a5d6-4ef7-9b7d-f4c59a8343cc",
   "metadata": {},
   "source": [
    "# seek()"
   ]
  },
  {
   "cell_type": "code",
   "execution_count": 102,
   "id": "5c8eee92-1907-407e-9e7e-f25943f15f59",
   "metadata": {},
   "outputs": [
    {
     "name": "stdout",
     "output_type": "stream",
     "text": [
      "abdbfdsk\n",
      "a\n",
      "11\n",
      "15\n"
     ]
    }
   ],
   "source": [
    "f=open('abc.txt','r')\n",
    "print(f.read(10))\n",
    "print(f.tell())\n",
    "f.seek(15)\n",
    "print(f.tell())"
   ]
  },
  {
   "cell_type": "code",
   "execution_count": 103,
   "id": "0b314fcd-ec5a-4b74-a2eb-60ddbdf38d96",
   "metadata": {},
   "outputs": [
    {
     "name": "stdout",
     "output_type": "stream",
     "text": [
      "dsk\n",
      "bfd\n"
     ]
    }
   ],
   "source": [
    "f=open('abc.txt','r')\n",
    "f.seek(15)\n",
    "print(f.read(3)) # 15th position \n",
    "f.seek(3)\n",
    "print(f.read(3)) # 15+3=18th position"
   ]
  },
  {
   "cell_type": "markdown",
   "id": "66dd0493-4726-4494-aada-3298382d877a",
   "metadata": {},
   "source": [
    "# Modification"
   ]
  },
  {
   "cell_type": "code",
   "execution_count": 107,
   "id": "4453be35-5b2b-4c17-a510-0e3b2e0ac8ca",
   "metadata": {},
   "outputs": [
    {
     "name": "stdout",
     "output_type": "stream",
     "text": [
      "Data Before Modification:\n",
      "**************************************************\n",
      "abdbfdsk\n",
      "kashmirsk\n",
      "abdbfdsk\n",
      "abcdefghijklmnopqrstuvwxwz\n",
      "\n",
      "Data After Modification\n",
      "**************************************************\n",
      "abdbfdsk\n",
      "kashmirsk\n",
      "abdbfdsk\n",
      "abcdefghijklmnopqrstuvwxwz\n",
      "\n"
     ]
    }
   ],
   "source": [
    "with open('abc.txt','r+') as f:\n",
    "    text=f.read()\n",
    "    print('Data Before Modification:')\n",
    "    print('*'*50)\n",
    "    print(text)\n",
    "    \n",
    "    f.seek(9)\n",
    "    f.write('kashmir')\n",
    "    \n",
    "    f.seek(0)\n",
    "    text=f.read()\n",
    "    print('Data After Modification')\n",
    "    print('*'*50)\n",
    "    print(text)"
   ]
  },
  {
   "cell_type": "code",
   "execution_count": null,
   "id": "a84fbaab-8802-4c3c-aebe-89d000f6b8dd",
   "metadata": {},
   "outputs": [],
   "source": []
  },
  {
   "cell_type": "code",
   "execution_count": null,
   "id": "c20fe462-7bac-4329-ba82-b2789989f07c",
   "metadata": {},
   "outputs": [],
   "source": []
  },
  {
   "cell_type": "code",
   "execution_count": null,
   "id": "1b2d3fa4-e39c-4b80-96df-ebd82dd843d7",
   "metadata": {},
   "outputs": [],
   "source": []
  },
  {
   "cell_type": "code",
   "execution_count": null,
   "id": "aa688601-2a26-406a-9003-f9374c034b9c",
   "metadata": {},
   "outputs": [],
   "source": []
  },
  {
   "cell_type": "code",
   "execution_count": null,
   "id": "114c73b3-e5ec-48d2-be9c-15f5939c0c8b",
   "metadata": {},
   "outputs": [],
   "source": []
  },
  {
   "cell_type": "code",
   "execution_count": null,
   "id": "55153961-8cf3-498b-a34f-2248fde73310",
   "metadata": {},
   "outputs": [],
   "source": []
  }
 ],
 "metadata": {
  "kernelspec": {
   "display_name": "Python 3 (ipykernel)",
   "language": "python",
   "name": "python3"
  },
  "language_info": {
   "codemirror_mode": {
    "name": "ipython",
    "version": 3
   },
   "file_extension": ".py",
   "mimetype": "text/x-python",
   "name": "python",
   "nbconvert_exporter": "python",
   "pygments_lexer": "ipython3",
   "version": "3.11.7"
  }
 },
 "nbformat": 4,
 "nbformat_minor": 5
}
