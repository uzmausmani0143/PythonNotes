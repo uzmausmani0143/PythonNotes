{
 "cells": [
  {
   "cell_type": "code",
   "execution_count": 1,
   "id": "498bb734-46d2-42b1-9b11-334d31193f94",
   "metadata": {},
   "outputs": [
    {
     "name": "stdout",
     "output_type": "stream",
     "text": [
      "hello\n",
      "finally\n",
      "None\n"
     ]
    }
   ],
   "source": [
    "def f1():\n",
    "    try:\n",
    "        print('hello')\n",
    "    except:\n",
    "        print('exception')\n",
    "    finally:\n",
    "        print('finally')\n",
    "\n",
    "print(f1())"
   ]
  },
  {
   "cell_type": "code",
   "execution_count": 5,
   "id": "211664f2-8306-4b04-8795-c488c77f0360",
   "metadata": {},
   "outputs": [
    {
     "name": "stdout",
     "output_type": "stream",
     "text": [
      "exception handled\n",
      "hello\n",
      "finally\n"
     ]
    }
   ],
   "source": [
    "try:\n",
    "    print(10/0)\n",
    "except ZeroDivisionError:\n",
    "    print('exception handled')\n",
    "try:\n",
    "    print('hello')\n",
    "except:\n",
    "    print('exception')\n",
    "finally:\n",
    "    print('finally')"
   ]
  },
  {
   "cell_type": "code",
   "execution_count": null,
   "id": "acb0ec13-d36a-4510-ade0-5de89628f5d3",
   "metadata": {},
   "outputs": [],
   "source": [
    "# Case-1"
   ]
  },
  {
   "cell_type": "code",
   "execution_count": 8,
   "id": "f5c30ff6-79e5-4f04-a201-11ac96a60b8c",
   "metadata": {},
   "outputs": [
    {
     "name": "stdout",
     "output_type": "stream",
     "text": [
      "stmt-1\n",
      "stmt-2\n",
      "stmt-3\n",
      "stmt-5\n",
      "stmt-6\n"
     ]
    }
   ],
   "source": [
    "try:\n",
    "    print('stmt-1')\n",
    "    print('stmt-2')\n",
    "    print('stmt-3')\n",
    "except:\n",
    "   print('stmt-4')\n",
    "finally:\n",
    "    print('stmt-5')\n",
    "print('stmt-6')\n"
   ]
  },
  {
   "cell_type": "code",
   "execution_count": null,
   "id": "a98858c4-2786-4e71-83f1-1e911479bbd7",
   "metadata": {},
   "outputs": [],
   "source": [
    "# Case-2"
   ]
  },
  {
   "cell_type": "code",
   "execution_count": 30,
   "id": "f66f287c-aad0-46ec-b0ad-a41ded8bd7fd",
   "metadata": {},
   "outputs": [
    {
     "name": "stdout",
     "output_type": "stream",
     "text": [
      "stmt-1\n",
      "stmt-4\n",
      "stmt-5\n",
      "stmt-6\n"
     ]
    }
   ],
   "source": [
    "try:\n",
    "    print('stmt-1')\n",
    "    try:\n",
    "        print(10/0) \n",
    "    except ValueError:\n",
    "        print('fdgfd')\n",
    "    print('stmt-3')\n",
    "except:\n",
    "   print('stmt-4')\n",
    "finally:\n",
    "    print('stmt-5')\n",
    "print('stmt-6')"
   ]
  },
  {
   "cell_type": "code",
   "execution_count": null,
   "id": "2b5b3cc7-884c-4e81-9160-d67306a60ddf",
   "metadata": {},
   "outputs": [],
   "source": [
    "# Case-3"
   ]
  },
  {
   "cell_type": "code",
   "execution_count": 13,
   "id": "bff1b1fa-c8c6-4647-9294-279dd7ea747a",
   "metadata": {},
   "outputs": [
    {
     "name": "stdout",
     "output_type": "stream",
     "text": [
      "stmt-1\n",
      "stmt-5\n"
     ]
    },
    {
     "ename": "NameError",
     "evalue": "name 'kjk' is not defined",
     "output_type": "error",
     "traceback": [
      "\u001b[1;31m---------------------------------------------------------------------------\u001b[0m",
      "\u001b[1;31mNameError\u001b[0m                                 Traceback (most recent call last)",
      "Cell \u001b[1;32mIn[13], line 3\u001b[0m\n\u001b[0;32m      1\u001b[0m \u001b[38;5;28;01mtry\u001b[39;00m:\n\u001b[0;32m      2\u001b[0m     \u001b[38;5;28mprint\u001b[39m(\u001b[38;5;124m'\u001b[39m\u001b[38;5;124mstmt-1\u001b[39m\u001b[38;5;124m'\u001b[39m)\n\u001b[1;32m----> 3\u001b[0m     \u001b[38;5;28mprint\u001b[39m(kjk)\n\u001b[0;32m      4\u001b[0m     \u001b[38;5;28mprint\u001b[39m(\u001b[38;5;124m'\u001b[39m\u001b[38;5;124mstmt-3\u001b[39m\u001b[38;5;124m'\u001b[39m)\n\u001b[0;32m      5\u001b[0m \u001b[38;5;28;01mexcept\u001b[39;00m \u001b[38;5;167;01mZeroDivisionError\u001b[39;00m:\n",
      "\u001b[1;31mNameError\u001b[0m: name 'kjk' is not defined"
     ]
    }
   ],
   "source": [
    "try:\n",
    "    print('stmt-1')\n",
    "    print(kjk)\n",
    "    print('stmt-3')\n",
    "except ZeroDivisionError:\n",
    "   print('stmt-4')\n",
    "finally:\n",
    "    print('stmt-5')\n",
    "print('stmt-6')"
   ]
  },
  {
   "cell_type": "code",
   "execution_count": null,
   "id": "c1deef6a-accc-4e1f-ba8a-b8c862490054",
   "metadata": {},
   "outputs": [],
   "source": [
    "# Case-4"
   ]
  },
  {
   "cell_type": "code",
   "execution_count": 17,
   "id": "2e0f925a-a0ec-42f6-a09e-f41e298aa77b",
   "metadata": {},
   "outputs": [
    {
     "name": "stdout",
     "output_type": "stream",
     "text": [
      "stmt-1\n",
      "stmt-2\n",
      "stmt-3\n",
      "stmt-5(finally)\n",
      "stmt-6\n"
     ]
    }
   ],
   "source": [
    "try:\n",
    "    print('stmt-1')\n",
    "    print('stmt-2')\n",
    "    print('stmt-3')\n",
    "except ZeroDivisionError:\n",
    "   print(kjk)\n",
    "finally:\n",
    "    print('stmt-5(finally)')\n",
    "print('stmt-6')"
   ]
  },
  {
   "cell_type": "code",
   "execution_count": null,
   "id": "dbbf8803-5a98-4847-a7c8-318e281ef55f",
   "metadata": {},
   "outputs": [],
   "source": [
    "# Case-5"
   ]
  },
  {
   "cell_type": "code",
   "execution_count": null,
   "id": "a8e6e69c-05f0-4640-8676-895fc67d79f9",
   "metadata": {},
   "outputs": [],
   "source": [
    "try:\n",
    "    print('stmt-1')\n",
    "    print('stmt-2')\n",
    "    print('stmt-3')\n",
    "except ZeroDivisionError:\n",
    "   print('stmt-4')\n",
    "finally:\n",
    "    print('stmt-5')\n",
    "print('stmt-6')"
   ]
  },
  {
   "cell_type": "code",
   "execution_count": null,
   "id": "8f7cc719-304e-473c-8c92-8dd4508c04c8",
   "metadata": {},
   "outputs": [],
   "source": [
    "# Case-6"
   ]
  },
  {
   "cell_type": "code",
   "execution_count": 28,
   "id": "216ec91b-03d5-4205-aab3-3f73f043c3cd",
   "metadata": {},
   "outputs": [
    {
     "name": "stdout",
     "output_type": "stream",
     "text": [
      "stmt-1\n",
      "error\n",
      "stmt-3\n",
      "stmt-5\n",
      "stmt-6\n"
     ]
    }
   ],
   "source": [
    "try:\n",
    "    print('stmt-1')\n",
    "    try:\n",
    "        print(ghfgh)\n",
    "    #except (ValueError,ZeroDivisionError,NameError,KeyError,ValueError) as e:\n",
    "    except:\n",
    "        print('error')\n",
    "    print('stmt-3')\n",
    "except ZeroDivisionError:\n",
    "   print('stmt-4')\n",
    "finally:\n",
    "    print('stmt-5')\n",
    "print('stmt-6')"
   ]
  },
  {
   "cell_type": "code",
   "execution_count": null,
   "id": "a35e40ed-9238-49e7-beaf-53542f72a067",
   "metadata": {},
   "outputs": [],
   "source": [
    "# Case-7"
   ]
  },
  {
   "cell_type": "code",
   "execution_count": null,
   "id": "1dacd064-8614-43a6-878c-b987323a4874",
   "metadata": {},
   "outputs": [],
   "source": [
    "try:\n",
    "    print('stmt-1')\n",
    "    print('stmt-2')\n",
    "    print('stmt-3')\n",
    "except ZeroDivisionError:\n",
    "   print('stmt-4')\n",
    "finally:\n",
    "    print('stmt-5')\n",
    "print('stmt-6')"
   ]
  },
  {
   "cell_type": "code",
   "execution_count": null,
   "id": "c537d95c-5420-4267-8c0d-669929262d1b",
   "metadata": {},
   "outputs": [],
   "source": [
    "# Case-8"
   ]
  },
  {
   "cell_type": "code",
   "execution_count": null,
   "id": "31ff8322-103f-478e-ab05-8fca96f40a79",
   "metadata": {},
   "outputs": [],
   "source": [
    "try:\n",
    "    print('stmt-1')\n",
    "    print('stmt-2')\n",
    "    print('stmt-3')\n",
    "except ZeroDivisionError:\n",
    "   print('stmt-4')\n",
    "finally:\n",
    "    print('stmt-5')\n",
    "print('stmt-6')"
   ]
  },
  {
   "cell_type": "code",
   "execution_count": null,
   "id": "79872c11-a324-4b0a-aecb-f25c91047fb4",
   "metadata": {},
   "outputs": [],
   "source": [
    "# Case-9"
   ]
  },
  {
   "cell_type": "code",
   "execution_count": null,
   "id": "5e12bd13-4f0a-42de-ac2f-f8a1ed9e8763",
   "metadata": {},
   "outputs": [],
   "source": [
    "try:\n",
    "    print('stmt-1')\n",
    "    print('stmt-2')\n",
    "    print('stmt-3')\n",
    "except ZeroDivisionError:\n",
    "   print('stmt-4')\n",
    "finally:\n",
    "    print('stmt-5')\n",
    "print('stmt-6')"
   ]
  },
  {
   "cell_type": "code",
   "execution_count": null,
   "id": "54df8c47-a0c0-4899-a0c0-d75721d0e99c",
   "metadata": {},
   "outputs": [],
   "source": [
    "# Case-10"
   ]
  },
  {
   "cell_type": "code",
   "execution_count": null,
   "id": "015d6d2e-1365-447e-91d6-ff99ab80c5ec",
   "metadata": {},
   "outputs": [],
   "source": [
    "try:\n",
    "    print('stmt-1')\n",
    "    print('stmt-2')\n",
    "    print('stmt-3')\n",
    "except ZeroDivisionError:\n",
    "   print('stmt-4')\n",
    "finally:\n",
    "    print('stmt-5')\n",
    "print('stmt-6')"
   ]
  },
  {
   "cell_type": "code",
   "execution_count": null,
   "id": "58796894-3a61-4c26-961b-92523e15cc62",
   "metadata": {},
   "outputs": [],
   "source": [
    "# Case-11"
   ]
  },
  {
   "cell_type": "code",
   "execution_count": null,
   "id": "0532136f-ae44-4509-90dd-b3f32bcb29cd",
   "metadata": {},
   "outputs": [],
   "source": [
    "try:\n",
    "    print('stmt-1')\n",
    "    print('stmt-2')\n",
    "    print('stmt-3')\n",
    "except ZeroDivisionError:\n",
    "   print('stmt-4')\n",
    "finally:\n",
    "    print('stmt-5')\n",
    "print('stmt-6')"
   ]
  },
  {
   "cell_type": "code",
   "execution_count": null,
   "id": "d402bc03-fe49-4a28-8565-e236eef87252",
   "metadata": {},
   "outputs": [],
   "source": [
    "# Case-12"
   ]
  },
  {
   "cell_type": "code",
   "execution_count": null,
   "id": "24690776-fe2f-4716-9c0d-fcfcfbb6ecc5",
   "metadata": {},
   "outputs": [],
   "source": [
    "try:\n",
    "    print('stmt-1')\n",
    "    print('stmt-2')\n",
    "    print('stmt-3')\n",
    "except ZeroDivisionError:\n",
    "   print('stmt-4')\n",
    "finally:\n",
    "    print('stmt-5')\n",
    "print('stmt-6')"
   ]
  },
  {
   "cell_type": "code",
   "execution_count": null,
   "id": "ad9cc300-e08b-4ff4-8820-bd651bfacd96",
   "metadata": {},
   "outputs": [],
   "source": [
    "# Case-13"
   ]
  },
  {
   "cell_type": "code",
   "execution_count": null,
   "id": "27070409-2d0d-4753-adf5-d1af46b038d3",
   "metadata": {},
   "outputs": [],
   "source": [
    "try:\n",
    "    print('stmt-1')\n",
    "    print('stmt-2')\n",
    "    print('stmt-3')\n",
    "except ZeroDivisionError:\n",
    "   print('stmt-4')\n",
    "finally:\n",
    "    print('stmt-5')\n",
    "print('stmt-6')"
   ]
  },
  {
   "cell_type": "code",
   "execution_count": null,
   "id": "f25aceef-fdff-43d8-b343-6bb5240ce265",
   "metadata": {},
   "outputs": [],
   "source": [
    "# Case-14"
   ]
  },
  {
   "cell_type": "code",
   "execution_count": null,
   "id": "de25de67-2af9-4719-9d64-2201d23e4b16",
   "metadata": {},
   "outputs": [],
   "source": [
    "try:\n",
    "    print('stmt-1')\n",
    "    print('stmt-2')\n",
    "    print('stmt-3')\n",
    "except ZeroDivisionError:\n",
    "   print('stmt-4')\n",
    "finally:\n",
    "    print('stmt-5')\n",
    "print('stmt-6')"
   ]
  },
  {
   "cell_type": "code",
   "execution_count": null,
   "id": "a6fb1639-d7cb-4392-ad8d-438b206e7941",
   "metadata": {},
   "outputs": [],
   "source": []
  },
  {
   "cell_type": "code",
   "execution_count": 34,
   "id": "9492949c-2356-408b-aed9-3b67a8a59af4",
   "metadata": {},
   "outputs": [
    {
     "name": "stdout",
     "output_type": "stream",
     "text": [
      "Hello WorldTEST\n",
      "<class 'str'>\n"
     ]
    }
   ],
   "source": [
    "str=\"Hello World\"\n",
    "print(str+\"TEST\")\n",
    "print(type(str))"
   ]
  },
  {
   "cell_type": "code",
   "execution_count": null,
   "id": "ab146798-ee17-4897-a534-c9e16e905568",
   "metadata": {},
   "outputs": [],
   "source": []
  },
  {
   "cell_type": "code",
   "execution_count": null,
   "id": "224d3a9c-d1ad-44d0-8f83-6f85fd6047b0",
   "metadata": {},
   "outputs": [],
   "source": []
  }
 ],
 "metadata": {
  "kernelspec": {
   "display_name": "Python 3 (ipykernel)",
   "language": "python",
   "name": "python3"
  },
  "language_info": {
   "codemirror_mode": {
    "name": "ipython",
    "version": 3
   },
   "file_extension": ".py",
   "mimetype": "text/x-python",
   "name": "python",
   "nbconvert_exporter": "python",
   "pygments_lexer": "ipython3",
   "version": "3.11.7"
  }
 },
 "nbformat": 4,
 "nbformat_minor": 5
}
