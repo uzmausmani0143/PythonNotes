{
 "cells": [
  {
   "cell_type": "markdown",
   "id": "fc4bbce7-fe90-46ab-8c3a-acc1a09921a1",
   "metadata": {},
   "source": [
    "## WAP to check whether given car registration number is valid Telangana State Registration Number or not.\n",
    "- eg.- TS07EA7777,DL7777777X,KL354642J\n",
    "- TS[012][0-9][A-Z][0-9]{4} / TS[012]\\d[A-Z]{2}[0-9]{4}\n",
    "- TS[012]\\d[A-Z]{1,2}[0-9]{4} ---> 1 is min and 2 is max ([A-Z]{1,2})"
   ]
  },
  {
   "cell_type": "code",
   "execution_count": 10,
   "id": "8a3694e5-6773-481c-aa00-bfadec232112",
   "metadata": {},
   "outputs": [
    {
     "name": "stdin",
     "output_type": "stream",
     "text": [
      "Enter Vehicle Registration Number to validate TS07AB1234\n"
     ]
    },
    {
     "name": "stdout",
     "output_type": "stream",
     "text": [
      "Valid Vehicle Registration Number\n"
     ]
    }
   ],
   "source": [
    "import re\n",
    "num=input('Enter Vehicle Registration Number to validate')\n",
    "p='TS[012][0-9][A-Z][A-Z][0-9]{4}' # in [012] select only one digit eithe0 or 1 or 2\n",
    "m=re.fullmatch(p,num)\n",
    "if m is not None:\n",
    "    print('Valid Vehicle Registration Number')\n",
    "else:\n",
    "    print('Invalid Vehicle Registration Number')"
   ]
  },
  {
   "cell_type": "markdown",
   "id": "67968f20-b42a-4955-96de-7ea0c4f2c31c",
   "metadata": {},
   "source": [
    "## Q.WAP to check whether the given mail id is valid or not.\n",
    "- durgasoftonline@gmail.com\n",
    "- 123durga@gmail.com\n",
    "- anil.k@gmail.com\n",
    "- anil.k@gmail.com\n",
    "- [a-zA-Z0-9][a-zA-Z0-9._]*@gmail[.]com\n",
    "- [a-zA-Z0-9][a-zA-Z0-9._]*@(gmail|hotmail)[.]com\n",
    "- [a-zA-Z0-9][a-zA-Z0-9._]*@(g|hot)mail[.]com\n",
    "- [a-zA-Z0-9][a-zA-Z0-9._]*@(g|hot)mail[.](com|co)\n",
    "- [a-zA-Z0-9][a-zA-Z0-9._]*@(g|hot)mail[.](com|(co.)?in)\n",
    "- [A-Za-z0-9@#$%^&+=]{8,}"
   ]
  },
  {
   "cell_type": "code",
   "execution_count": 20,
   "id": "e07aaab4-48ca-43be-a013-7634d3b5fd45",
   "metadata": {},
   "outputs": [
    {
     "name": "stdin",
     "output_type": "stream",
     "text": [
      "Enter Mail ID to validate dgsk@hotmail.com.in\n"
     ]
    },
    {
     "name": "stdout",
     "output_type": "stream",
     "text": [
      "Invalid Mail ID 🙁\n"
     ]
    }
   ],
   "source": [
    "import re\n",
    "num=input('Enter Mail ID to validate')\n",
    "p='[a-zA-Z0-9][a-zA-Z0-9._]*@(g|hot)mail[.](com|(co.)?in)' \n",
    "m=re.fullmatch(p,num)\n",
    "if m is not None:\n",
    "    print('Valid Mail ID \\U0001f600')\n",
    "else:\n",
    "    print('Invalid Mail ID 🙁')\n",
    "    "
   ]
  },
  {
   "cell_type": "markdown",
   "id": "64b9a531-c81d-481b-a3cb-342351e79c03",
   "metadata": {},
   "source": [
    "# Web Scraping by using Regular Expression"
   ]
  },
  {
   "cell_type": "code",
   "execution_count": null,
   "id": "00658508-43ee-413e-a091-6f702df709e1",
   "metadata": {},
   "outputs": [],
   "source": [
    "ghjfgh"
   ]
  },
  {
   "cell_type": "code",
   "execution_count": null,
   "id": "28a33856-830e-447d-9946-30d162e1ba96",
   "metadata": {},
   "outputs": [],
   "source": []
  },
  {
   "cell_type": "code",
   "execution_count": null,
   "id": "13a1daa9-655c-4457-a71e-dbf423ce0320",
   "metadata": {},
   "outputs": [],
   "source": []
  }
 ],
 "metadata": {
  "kernelspec": {
   "display_name": "Python 3 (ipykernel)",
   "language": "python",
   "name": "python3"
  },
  "language_info": {
   "codemirror_mode": {
    "name": "ipython",
    "version": 3
   },
   "file_extension": ".py",
   "mimetype": "text/x-python",
   "name": "python",
   "nbconvert_exporter": "python",
   "pygments_lexer": "ipython3",
   "version": "3.11.7"
  }
 },
 "nbformat": 4,
 "nbformat_minor": 5
}
