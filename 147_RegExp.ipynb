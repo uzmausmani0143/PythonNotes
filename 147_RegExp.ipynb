{
 "cells": [
  {
   "cell_type": "markdown",
   "id": "fc4bbce7-fe90-46ab-8c3a-acc1a09921a1",
   "metadata": {},
   "source": [
    "## WAP to check whether given car registration number is valid Telangana State Registration Number or not.\n",
    "- eg.- TS07EA7777,DL7777777X,KL354642J\n",
    "- TS[012][0-9][A-Z][0-9]{4} / TS[012]\\d[A-Z]{2}[0-9]{4}\n",
    "- TS[012]\\d[A-Z]{1,2}[0-9]{4} ---> 1 is min and 2 is max ([A-Z]{1,2})"
   ]
  },
  {
   "cell_type": "code",
   "execution_count": 10,
   "id": "8a3694e5-6773-481c-aa00-bfadec232112",
   "metadata": {},
   "outputs": [
    {
     "name": "stdin",
     "output_type": "stream",
     "text": [
      "Enter Vehicle Registration Number to validate TS07AB1234\n"
     ]
    },
    {
     "name": "stdout",
     "output_type": "stream",
     "text": [
      "Valid Vehicle Registration Number\n"
     ]
    }
   ],
   "source": [
    "import re\n",
    "num=input('Enter Vehicle Registration Number to validate')\n",
    "p='TS[012][0-9][A-Z][A-Z][0-9]{4}' # in [012] select only one digit eithe0 or 1 or 2\n",
    "m=re.fullmatch(p,num)\n",
    "if m is not None:\n",
    "    print('Valid Vehicle Registration Number')\n",
    "else:\n",
    "    print('Invalid Vehicle Registration Number')"
   ]
  },
  {
   "cell_type": "markdown",
   "id": "67968f20-b42a-4955-96de-7ea0c4f2c31c",
   "metadata": {},
   "source": [
    "## Q.WAP to check whether the given mail id is valid or not.\n",
    "- durgasoftonline@gmail.com\n",
    "- 123durga@gmail.com\n",
    "- anil.k@gmail.com\n",
    "- anil.k@gmail.com\n",
    "- [a-zA-Z0-9][a-zA-Z0-9._]*@gmail[.]com\n",
    "- [a-zA-Z0-9][a-zA-Z0-9._]*@(gmail|hotmail)[.]com\n",
    "- [a-zA-Z0-9][a-zA-Z0-9._]*@(g|hot)mail[.]com\n",
    "- [a-zA-Z0-9][a-zA-Z0-9._]*@(g|hot)mail[.](com|co)\n",
    "- [a-zA-Z0-9][a-zA-Z0-9._]*@(g|hot)mail[.](com|(co.)?in)\n",
    "- [A-Za-z0-9@#$%^&+=]{8,}"
   ]
  },
  {
   "cell_type": "code",
   "execution_count": 20,
   "id": "e07aaab4-48ca-43be-a013-7634d3b5fd45",
   "metadata": {},
   "outputs": [
    {
     "name": "stdin",
     "output_type": "stream",
     "text": [
      "Enter Mail ID to validate dgsk@hotmail.com.in\n"
     ]
    },
    {
     "name": "stdout",
     "output_type": "stream",
     "text": [
      "Invalid Mail ID 🙁\n"
     ]
    }
   ],
   "source": [
    "import re\n",
    "num=input('Enter Mail ID to validate')\n",
    "p='[a-zA-Z0-9][a-zA-Z0-9._]*@(g|hot)mail[.](com|(co.)?in)' \n",
    "m=re.fullmatch(p,num)\n",
    "if m is not None:\n",
    "    print('Valid Mail ID \\U0001f600')\n",
    "else:\n",
    "    print('Invalid Mail ID 🙁')\n",
    "    "
   ]
  },
  {
   "cell_type": "markdown",
   "id": "6f5f7932-7901-4a59-bada-6fc0a881c2a1",
   "metadata": {},
   "source": [
    "# Web Scraping by using Regular Expression\n",
    "- Web Scraping means cleecting data from websites."
   ]
  },
  {
   "cell_type": "markdown",
   "id": "177198c8-ae5f-48f0-93cf-b41565fe7d37",
   "metadata": {},
   "source": [
    "### collect mail ids from these 1 lakh websites and send a mail about our product\n",
    "### collect all mobile numbers from these 1 lakh websites and send sms message about our product."
   ]
  },
  {
   "cell_type": "code",
   "execution_count": 45,
   "id": "28a33856-830e-447d-9946-30d162e1ba96",
   "metadata": {},
   "outputs": [
    {
     "name": "stdout",
     "output_type": "stream",
     "text": [
      "{'4292453', '2482560', '9351090', '6749249', '0000001', '4335939', '2482556', '2482562', '2472687', '1697875'}\n",
      "4292453\n",
      "2482560\n",
      "9351090\n",
      "6749249\n",
      "0000001\n",
      "4335939\n",
      "2482556\n",
      "2482562\n",
      "2472687\n",
      "1697875\n"
     ]
    }
   ],
   "source": [
    "import re\n",
    "import urllib\n",
    "import urllib.request\n",
    "#p='[a-zA-Z0-9-_]+@gov[.]in'\n",
    "q='[0-9]{7}'\n",
    "site = 'https://www.bput.ac.in/our-contacts.php'\n",
    "u=urllib.request.urlopen(site)\n",
    "#print(type(u))\n",
    "text=u.read() # text is of types\n",
    "#print(text)\n",
    "stext=str(text) # converting bytes type to string type\n",
    "\n",
    "mailids=set(re.findall(q,stext))\n",
    "print(mailids)\n",
    "for mailid in mailids:\n",
    "   print(mailid)"
   ]
  },
  {
   "cell_type": "code",
   "execution_count": 35,
   "id": "b7b954f3-f090-4f9d-8ee3-4608658eafb8",
   "metadata": {},
   "outputs": [
    {
     "name": "stdout",
     "output_type": "stream",
     "text": [
      "['atanughosh.dgt@dgt.gov.in']\n"
     ]
    }
   ],
   "source": [
    "import re\n",
    "import urllib.request\n",
    "\n",
    "q = r'[\\w.-]+@\\w+\\.(?:gov\\.in|gmail\\.com)'\n",
    "site = 'https://nstibhubaneswar.dgt.gov.in/'\n",
    "\n",
    "with urllib.request.urlopen(site) as u:\n",
    "    text = u.read().decode('utf-8')  # Decode bytes to string using UTF-8 encoding\n",
    "\n",
    "mailids = re.findall(q, text)\n",
    "print(mailids)\n"
   ]
  },
  {
   "cell_type": "code",
   "execution_count": null,
   "id": "11d4e971-4f1c-4d8d-9b62-83ba8a1ed1ea",
   "metadata": {},
   "outputs": [],
   "source": []
  },
  {
   "cell_type": "code",
   "execution_count": null,
   "id": "ba6b2e14-3102-46e7-bebf-2f1885b0bf4f",
   "metadata": {},
   "outputs": [],
   "source": []
  },
  {
   "cell_type": "code",
   "execution_count": null,
   "id": "13a1daa9-655c-4457-a71e-dbf423ce0320",
   "metadata": {},
   "outputs": [],
   "source": []
  }
 ],
 "metadata": {
  "kernelspec": {
   "display_name": "Python 3 (ipykernel)",
   "language": "python",
   "name": "python3"
  },
  "language_info": {
   "codemirror_mode": {
    "name": "ipython",
    "version": 3
   },
   "file_extension": ".py",
   "mimetype": "text/x-python",
   "name": "python",
   "nbconvert_exporter": "python",
   "pygments_lexer": "ipython3",
   "version": "3.11.7"
  }
 },
 "nbformat": 4,
 "nbformat_minor": 5
}
