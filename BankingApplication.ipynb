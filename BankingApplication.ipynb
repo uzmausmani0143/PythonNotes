{
 "cells": [
  {
   "cell_type": "markdown",
   "id": "8f2cd9ab-4d43-4359-a993-052b89dea902",
   "metadata": {},
   "source": [
    "# Banking Application"
   ]
  },
  {
   "cell_type": "code",
   "execution_count": 17,
   "id": "afd37502-ae71-47a2-9d6b-189f06784d34",
   "metadata": {},
   "outputs": [
    {
     "name": "stdout",
     "output_type": "stream",
     "text": [
      "It is Durgasoft's Current Account with Balance:10000\n",
      "Account Balance: 15000\n",
      "Account Balance: 11000\n",
      "It is Durgasoft's Current Account with Balance:11000, and Minimum Balance -1000\n"
     ]
    }
   ],
   "source": [
    "from abc import ABC,abstractmethod\n",
    "class Account(ABC):\n",
    "    def __average_balance(self):\n",
    "        pass\n",
    "    def __init__(self,name,balance,min_balance):\n",
    "        self.name=name\n",
    "        self.balance=balance\n",
    "        self.min_balance=min_balance\n",
    "\n",
    "    def deposit(self,amount):\n",
    "        self.balance += amount # balance=balalnce+amount\n",
    "        self.__average_balance()\n",
    "\n",
    "    def withdraw(self,amount):\n",
    "        if self.balance - amount >= self.min_balance:\n",
    "            self.balance -= amount # balance=balalnce-amount\n",
    "\n",
    "        else:\n",
    "            print('Sorry, Insufficient Funds')\n",
    "            \n",
    "    def printStatement(self):\n",
    "        pass\n",
    "        print('Account Balance:', self.balance)\n",
    "\n",
    "    @abstractmethod\n",
    "    def accountInfo(self):\n",
    "        pass\n",
    "\n",
    "class SavingsAccount(Account):\n",
    "    def __init__(self,name,balance):\n",
    "        super().__init__(name,balance,0)\n",
    "\n",
    "    def __str__(self):\n",
    "        return \"It is {}'s Savings Account with Balance:{}\".format(self.name,self.balance)\n",
    "\n",
    "    def accountInfo(self):\n",
    "        print(\"It is {}'s Savings Account with Balance:{}, and Minimum Balance {}\".format(self.name,self.balance,self.min_balance))\n",
    "\n",
    "class CurrentAccount(Account):\n",
    "    def __init__(self,name,balance):\n",
    "        super().__init__(name,balance,-1000)\n",
    "\n",
    "    def __str__(self):\n",
    "        return \"It is {}'s Current Account with Balance:{}\".format(self.name,self.balance)\n",
    "\n",
    "    def accountInfo(self):\n",
    "        print(\"It is {}'s Current Account with Balance:{}, and Minimum Balance {}\".format(self.name,self.balance,self.min_balance))\n",
    "\n",
    "              \n",
    "'''s=SavingsAccount('Durga',10000)\n",
    "print(s)\n",
    "s.deposit(5000)\n",
    "s.printStatement()\n",
    "s.withdraw(12000)\n",
    "s.printStatement()\n",
    "s.withdraw(4000)'''\n",
    "\n",
    "c=CurrentAccount('Durgasoft',10000)\n",
    "print(c)\n",
    "c.deposit(5000)\n",
    "c.printStatement()\n",
    "c.withdraw(4000)\n",
    "c.printStatement()\n",
    "c.accountInfo()"
   ]
  },
  {
   "cell_type": "code",
   "execution_count": 7,
   "id": "33dce95f-0ad2-4a32-9e11-c7ce8bbb053e",
   "metadata": {},
   "outputs": [
    {
     "name": "stdin",
     "output_type": "stream",
     "text": [
      "6575 5453\n"
     ]
    },
    {
     "name": "stdout",
     "output_type": "stream",
     "text": [
      "('5', '4', '5', '3')\n"
     ]
    }
   ],
   "source": [
    "p=input('6575')\n",
    "j=tuple(p)\n",
    "print(j)"
   ]
  },
  {
   "cell_type": "code",
   "execution_count": 15,
   "id": "1618d3cf-3c92-4f72-a3e9-d0b3a4219b46",
   "metadata": {},
   "outputs": [
    {
     "name": "stdin",
     "output_type": "stream",
     "text": [
      "enter ukhu.hgj\n"
     ]
    },
    {
     "name": "stdout",
     "output_type": "stream",
     "text": [
      "hgj\n"
     ]
    }
   ],
   "source": [
    "f=input(\"enter\")\n",
    "d=f.split('.')\n",
    "#print(d)\n",
    "l=d[-1]\n",
    "print(l)"
   ]
  },
  {
   "cell_type": "code",
   "execution_count": null,
   "id": "7e9e0b20-02df-4577-af30-3a4dc06a44d0",
   "metadata": {},
   "outputs": [],
   "source": []
  },
  {
   "cell_type": "code",
   "execution_count": null,
   "id": "cac00302-af9f-48f1-809e-e3b37905727a",
   "metadata": {},
   "outputs": [],
   "source": []
  }
 ],
 "metadata": {
  "kernelspec": {
   "display_name": "Python 3 (ipykernel)",
   "language": "python",
   "name": "python3"
  },
  "language_info": {
   "codemirror_mode": {
    "name": "ipython",
    "version": 3
   },
   "file_extension": ".py",
   "mimetype": "text/x-python",
   "name": "python",
   "nbconvert_exporter": "python",
   "pygments_lexer": "ipython3",
   "version": "3.11.7"
  }
 },
 "nbformat": 4,
 "nbformat_minor": 5
}
