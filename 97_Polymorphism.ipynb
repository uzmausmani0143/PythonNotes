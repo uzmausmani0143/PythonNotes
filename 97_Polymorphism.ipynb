{
 "cells": [
  {
   "cell_type": "markdown",
   "id": "5312fea6-cded-4cc1-bf2b-4481d71e0e50",
   "metadata": {},
   "source": [
    "# Polymorphism"
   ]
  },
  {
   "cell_type": "markdown",
   "id": "6ad5e10a-d787-4072-b5e3-8c32f5154025",
   "metadata": {},
   "source": [
    "# Overloading\n",
    "1. Operator Overloading\n",
    "2. Method Overloading\n",
    "3. Constructor Overloading\n",
    "# Overriding\n",
    "1. Method Overriding\n",
    "2. Constructor Overriding"
   ]
  },
  {
   "cell_type": "markdown",
   "id": "1d67506c-fd7a-45d8-914d-dc2b4ea9afe9",
   "metadata": {},
   "source": [
    "# Magic Methods"
   ]
  },
  {
   "cell_type": "code",
   "execution_count": 1,
   "id": "8470499c-fd74-4199-b561-446e61f82aeb",
   "metadata": {},
   "outputs": [
    {
     "name": "stdout",
     "output_type": "stream",
     "text": [
      "['__abs__', '__add__', '__and__', '__bool__', '__ceil__', '__class__', '__delattr__', '__dir__', '__divmod__', '__doc__', '__eq__', '__float__', '__floor__', '__floordiv__', '__format__', '__ge__', '__getattribute__', '__getnewargs__', '__getstate__', '__gt__', '__hash__', '__index__', '__init__', '__init_subclass__', '__int__', '__invert__', '__le__', '__lshift__', '__lt__', '__mod__', '__mul__', '__ne__', '__neg__', '__new__', '__or__', '__pos__', '__pow__', '__radd__', '__rand__', '__rdivmod__', '__reduce__', '__reduce_ex__', '__repr__', '__rfloordiv__', '__rlshift__', '__rmod__', '__rmul__', '__ror__', '__round__', '__rpow__', '__rrshift__', '__rshift__', '__rsub__', '__rtruediv__', '__rxor__', '__setattr__', '__sizeof__', '__str__', '__sub__', '__subclasshook__', '__truediv__', '__trunc__', '__xor__', 'as_integer_ratio', 'bit_count', 'bit_length', 'conjugate', 'denominator', 'from_bytes', 'imag', 'numerator', 'real', 'to_bytes']\n"
     ]
    }
   ],
   "source": [
    "print(dir(int))"
   ]
  },
  {
   "cell_type": "code",
   "execution_count": 17,
   "id": "7ffb6314-58dd-4aa1-bf68-7bd20972a5f5",
   "metadata": {},
   "outputs": [
    {
     "name": "stdout",
     "output_type": "stream",
     "text": [
      "500\n",
      "900\n",
      "800\n",
      "sk\n",
      "VidyaSagar\n"
     ]
    }
   ],
   "source": [
    "class Book:\n",
    "    def __init__(self,pages):\n",
    "        self.pages=pages\n",
    "\n",
    "    def __add__(self,other): # we can use x and y also as arguments\n",
    "        total_pages=self.pages+other.pages\n",
    "        return total_pages\n",
    "\n",
    "b1=Book(200)\n",
    "b2=Book(300)\n",
    "b3=Book(600)\n",
    "b4=Book('Vidya')\n",
    "b5=Book('Sagar')\n",
    "print(b1+b2)\n",
    "print(b2+b3)\n",
    "print(b3+b1)\n",
    "print('s'+'k')\n",
    "print(b4+b5)"
   ]
  },
  {
   "cell_type": "code",
   "execution_count": 23,
   "id": "623b6e0c-3945-4afe-9e21-0323b3c11096",
   "metadata": {},
   "outputs": [
    {
     "name": "stdout",
     "output_type": "stream",
     "text": [
      "12500\n",
      "12500\n"
     ]
    }
   ],
   "source": [
    "class Employee:\n",
    "    def __init__(self,name,salary):\n",
    "        self.name=name\n",
    "        self.salary=salary\n",
    "\n",
    "    def __mul__(self,other):\n",
    "        total_salary=self.salary*other.days\n",
    "        return total_salary\n",
    "\n",
    "class TimeSheet:\n",
    "    def __init__(self,name,days):\n",
    "        self.name=name\n",
    "        self.days=days\n",
    "\n",
    "    def __mul__(self,other):\n",
    "        total_salary=self.days*other.salary\n",
    "        return total_salary\n",
    "\n",
    "e=Employee('xyz',500)\n",
    "t=TimeSheet('abc',25)\n",
    "print(e*t)\n",
    "print(t*e) #First argument is TimeSheet.\n",
    "           #TimeSheet class magic method will be called by passing t and e as arguments."
   ]
  },
  {
   "cell_type": "code",
   "execution_count": 33,
   "id": "e09e30d0-bc78-492b-baa7-44ee5a8ba22c",
   "metadata": {},
   "outputs": [
    {
     "name": "stdout",
     "output_type": "stream",
     "text": [
      "Student with Name: fd Marks25\n"
     ]
    }
   ],
   "source": [
    "class Student:\n",
    "    def __init__(self,name,marks):\n",
    "        self.name=name\n",
    "        self.marks=marks\n",
    "\n",
    "    def __str__(self):\n",
    "        #return self.name \n",
    "       # return str(self.marks)\n",
    "        return 'Student with Name: {} Marks{}'.format(self.name,self.marks)\n",
    "        \n",
    "\n",
    "s1=Student('fd',25)\n",
    "print(s1)"
   ]
  },
  {
   "cell_type": "code",
   "execution_count": null,
   "id": "b731f2b8-a7a7-4ae7-bb66-deeb296f587c",
   "metadata": {},
   "outputs": [],
   "source": []
  }
 ],
 "metadata": {
  "kernelspec": {
   "display_name": "Python 3 (ipykernel)",
   "language": "python",
   "name": "python3"
  },
  "language_info": {
   "codemirror_mode": {
    "name": "ipython",
    "version": 3
   },
   "file_extension": ".py",
   "mimetype": "text/x-python",
   "name": "python",
   "nbconvert_exporter": "python",
   "pygments_lexer": "ipython3",
   "version": "3.11.7"
  }
 },
 "nbformat": 4,
 "nbformat_minor": 5
}
