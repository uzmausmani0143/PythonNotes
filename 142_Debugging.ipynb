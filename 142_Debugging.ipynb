{
 "cells": [
  {
   "cell_type": "code",
   "execution_count": null,
   "id": "b2c91b49-12e8-4be1-ae63-9418dcac300a",
   "metadata": {},
   "outputs": [
    {
     "name": "stdin",
     "output_type": "stream",
     "text": [
      "Enter x value: 5\n",
      "Enter y value: 5\n"
     ]
    },
    {
     "name": "stdout",
     "output_type": "stream",
     "text": [
      "5,5,5,5,5,5,5,5,5,5,5,5,5,5,5,5,5,5,5,5,5,5,5,5,5,5,5,5,5,5,5,5,5,5,5,5,5,5,5,5,5,5,5,5,5,5,5,5,5,"
     ]
    }
   ],
   "source": [
    "import time\n",
    "x=int(input('Enter x value:'))\n",
    "y=int(input('Enter y value:'))\n",
    "output=f'{x},'+x*f'{y},'+f'{x},'\n",
    "print(output,end='')\n",
    "time.sleep(5)\n",
    "i=2\n",
    "while True:\n",
    "    n=int(output[i])\n",
    "    extra=f'{y},'*n+f'{x},'\n",
    "    output=output+extra\n",
    "    print(extra,end='')\n",
    "    i=i+2\n",
    "    time.sleep(5)"
   ]
  },
  {
   "cell_type": "markdown",
   "id": "8b0eda26-0336-4a6b-85bb-99a520b6f072",
   "metadata": {},
   "source": [
    "# Assertions"
   ]
  },
  {
   "cell_type": "markdown",
   "id": "912b7292-774d-4eb5-a771-7dac2e1be3cf",
   "metadata": {},
   "source": [
    "# Types\n",
    "1. Simple version\n",
    "2. Augmented version\n",
    "\n",
    "   "
   ]
  },
  {
   "cell_type": "markdown",
   "id": "7aa7bb90-f2c0-4f5f-8277-5a778da23c00",
   "metadata": {},
   "source": [
    "### In Python, by default Aseertions is enabled.\n",
    "### To disable, py -O filename.py"
   ]
  },
  {
   "cell_type": "code",
   "execution_count": 3,
   "id": "d3d01f1c-0e9d-48be-a10e-23197b962a2e",
   "metadata": {},
   "outputs": [
    {
     "ename": "AssertionError",
     "evalue": "The square of 3 should be 9",
     "output_type": "error",
     "traceback": [
      "\u001b[1;31m---------------------------------------------------------------------------\u001b[0m",
      "\u001b[1;31mAssertionError\u001b[0m                            Traceback (most recent call last)",
      "Cell \u001b[1;32mIn[3], line 5\u001b[0m\n\u001b[0;32m      2\u001b[0m     \u001b[38;5;28;01mreturn\u001b[39;00m x\u001b[38;5;241m*\u001b[39m\u001b[38;5;241m*\u001b[39mx \u001b[38;5;66;03m# write signle * instead of double **\u001b[39;00m\n\u001b[0;32m      4\u001b[0m \u001b[38;5;28;01massert\u001b[39;00m squareIt(\u001b[38;5;241m2\u001b[39m) \u001b[38;5;241m==\u001b[39m \u001b[38;5;241m4\u001b[39m, \u001b[38;5;124m'\u001b[39m\u001b[38;5;124mThe square of 2 should be 4\u001b[39m\u001b[38;5;124m'\u001b[39m\n\u001b[1;32m----> 5\u001b[0m \u001b[38;5;28;01massert\u001b[39;00m squareIt(\u001b[38;5;241m3\u001b[39m) \u001b[38;5;241m==\u001b[39m \u001b[38;5;241m9\u001b[39m, \u001b[38;5;124m'\u001b[39m\u001b[38;5;124mThe square of 3 should be 9\u001b[39m\u001b[38;5;124m'\u001b[39m\n\u001b[0;32m      6\u001b[0m \u001b[38;5;28;01massert\u001b[39;00m squareIt(\u001b[38;5;241m4\u001b[39m) \u001b[38;5;241m==\u001b[39m \u001b[38;5;241m16\u001b[39m, \u001b[38;5;124m'\u001b[39m\u001b[38;5;124mThe square of 4 should be 16\u001b[39m\u001b[38;5;124m'\u001b[39m\n\u001b[0;32m      8\u001b[0m \u001b[38;5;28mprint\u001b[39m(squareIt(\u001b[38;5;241m2\u001b[39m))\n",
      "\u001b[1;31mAssertionError\u001b[0m: The square of 3 should be 9"
     ]
    }
   ],
   "source": [
    "def squareIt(x):\n",
    "    return x**x # write signle * instead of double **\n",
    "    #return x*x\n",
    "\n",
    "assert squareIt(2) == 4, 'The square of 2 should be 4'\n",
    "assert squareIt(3) == 9, 'The square of 3 should be 9'\n",
    "assert squareIt(4) == 16, 'The square of 4 should be 16'\n",
    "\n",
    "print(squareIt(2))\n",
    "print(squareIt(3))\n",
    "print(squareIt(4))"
   ]
  },
  {
   "cell_type": "code",
   "execution_count": null,
   "id": "20418382-421c-4b67-93bf-046364a5c672",
   "metadata": {},
   "outputs": [],
   "source": []
  },
  {
   "cell_type": "code",
   "execution_count": null,
   "id": "4cecc871-80ce-48e4-8150-2bb5c1d44d7e",
   "metadata": {},
   "outputs": [],
   "source": []
  }
 ],
 "metadata": {
  "kernelspec": {
   "display_name": "Python 3 (ipykernel)",
   "language": "python",
   "name": "python3"
  },
  "language_info": {
   "codemirror_mode": {
    "name": "ipython",
    "version": 3
   },
   "file_extension": ".py",
   "mimetype": "text/x-python",
   "name": "python",
   "nbconvert_exporter": "python",
   "pygments_lexer": "ipython3",
   "version": "3.11.7"
  }
 },
 "nbformat": 4,
 "nbformat_minor": 5
}
