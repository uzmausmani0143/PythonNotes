{
 "cells": [
  {
   "cell_type": "markdown",
   "id": "cc100be3-5b1d-47b4-979e-2dff55f0962c",
   "metadata": {},
   "source": [
    "# Handling Binary Data"
   ]
  },
  {
   "cell_type": "code",
   "execution_count": 2,
   "id": "90ba859e-e579-4c62-a832-dd675d4b83c0",
   "metadata": {},
   "outputs": [
    {
     "name": "stdout",
     "output_type": "stream",
     "text": [
      "<class 'bytes'>\n",
      "New image is available.\n"
     ]
    }
   ],
   "source": [
    "f1=open('flowers.jpg','rb')\n",
    "f2=open('duplicate.jpg','wb')\n",
    "data = f1.read()\n",
    "print(type(data))\n",
    "f2.write(data)\n",
    "print('New image is available.')"
   ]
  },
  {
   "cell_type": "markdown",
   "id": "a490315a-2d75-4f53-876f-a6061c2b7325",
   "metadata": {},
   "source": [
    "# Handling CSV Files"
   ]
  },
  {
   "cell_type": "markdown",
   "id": "24269d00-e424-4f17-877a-bd0780a2b3cf",
   "metadata": {},
   "source": [
    "# writing data to the csv file"
   ]
  },
  {
   "cell_type": "code",
   "execution_count": 3,
   "id": "71075707-b084-436d-bfc9-71f42e234b55",
   "metadata": {},
   "outputs": [],
   "source": [
    "import csv"
   ]
  },
  {
   "cell_type": "code",
   "execution_count": 8,
   "id": "94857613-69e2-4ed4-8cff-4efe38773826",
   "metadata": {},
   "outputs": [
    {
     "name": "stdout",
     "output_type": "stream",
     "text": [
      "Data is written successfully.\n"
     ]
    }
   ],
   "source": [
    "with open('emp.csv','w',newline='') as f:\n",
    "    w=csv.writer(f)\n",
    "    w.writerow(['ENO','ENAME','ESAL','EADDR'])\n",
    "    w.writerow([100,'Durga',1000,'Hyderabad'])\n",
    "print('Data is written successfully.')"
   ]
  },
  {
   "cell_type": "markdown",
   "id": "30410871-995b-4516-a308-5179829ee70e",
   "metadata": {},
   "source": [
    "# Read from the end user and write data to the file"
   ]
  },
  {
   "cell_type": "code",
   "execution_count": 9,
   "id": "c276a42d-8cc3-499b-90f8-be933371b902",
   "metadata": {},
   "outputs": [
    {
     "name": "stdin",
     "output_type": "stream",
     "text": [
      "Enter your id: 101\n",
      "Enter your name: Mary\n",
      "Enter your class name: 10 A\n",
      "Enter your branch name: Mech\n",
      "Enter your state's name: Uttarakhand\n"
     ]
    },
    {
     "name": "stdout",
     "output_type": "stream",
     "text": [
      "Record inserted successfully.\n"
     ]
    },
    {
     "name": "stdin",
     "output_type": "stream",
     "text": [
      "Do you want to insert one more record [yes/no]: n\n"
     ]
    },
    {
     "name": "stdout",
     "output_type": "stream",
     "text": [
      "Data is written successfully.\n"
     ]
    }
   ],
   "source": [
    "with open('student.csv','w',newline='') as f:\n",
    "    w=csv.writer(f)\n",
    "    w.writerow(['ID','NAME','CLASS','BRANCH','STATE'])\n",
    "    while True:\n",
    "        id=int(input('Enter your id:'))\n",
    "        name=input('Enter your name:')\n",
    "        class1=input('Enter your class name:')\n",
    "        branch=input('Enter your branch name:')\n",
    "        state=input('Enter your state\\'s name:')\n",
    "        w.writerow([id,name,class1,branch,state])\n",
    "        print('Record inserted successfully.')\n",
    "        option=input('Do you want to insert one more record [yes/no]:')\n",
    "        if option in ['No','oN','ON','nO','n','N']:\n",
    "            break\n",
    "\n",
    "print('Data is written successfully.')\n",
    "\n",
    "        "
   ]
  },
  {
   "cell_type": "markdown",
   "id": "899613e4-7fb3-482e-a819-a7d887597417",
   "metadata": {},
   "source": [
    "# How to read data from the csv file"
   ]
  },
  {
   "cell_type": "code",
   "execution_count": 25,
   "id": "4a8aee1b-17a5-4577-b349-1c4323e7c20a",
   "metadata": {},
   "outputs": [
    {
     "name": "stdout",
     "output_type": "stream",
     "text": [
      "ID \tNAME \tCLASS \tBRANCH \tSTATE \t\n",
      "101 \tMary \t10 A \tMech \tUttarakhand \t\n"
     ]
    }
   ],
   "source": [
    "import csv\n",
    "with open('student.csv','r')as f:\n",
    "    r=csv.reader(f)\n",
    "    data=list(r)\n",
    "    for row in data:\n",
    "        for col in row:\n",
    "            print(col,'\\t',end='')\n",
    "        print()   "
   ]
  },
  {
   "cell_type": "markdown",
   "id": "02ed712c-92ca-43e7-b720-b284d74c3744",
   "metadata": {},
   "source": [
    "# Zipping and unzipping of files"
   ]
  },
  {
   "cell_type": "markdown",
   "id": "ecc68665-07a1-4fa5-ab64-781ddd431e3f",
   "metadata": {},
   "source": [
    "## How to create zip file"
   ]
  },
  {
   "cell_type": "code",
   "execution_count": 26,
   "id": "02d4976d-1a55-4d88-8327-0eeb4ae531d7",
   "metadata": {},
   "outputs": [],
   "source": [
    "from zipfile import *"
   ]
  },
  {
   "cell_type": "code",
   "execution_count": 31,
   "id": "fe9af76d-ff5c-4905-9951-5a8a591fb370",
   "metadata": {},
   "outputs": [
    {
     "name": "stdout",
     "output_type": "stream",
     "text": [
      "files.zip file is created successfully.\n"
     ]
    }
   ],
   "source": [
    "f=ZipFile('files.zip','w',ZIP_DEFLATED)\n",
    "f.write('file1.txt')\n",
    "f.write('file2.txt')\n",
    "f.close()\n",
    "print('files.zip file is created successfully.')"
   ]
  },
  {
   "cell_type": "code",
   "execution_count": 33,
   "id": "c9ed82ed-0eb4-4bda-b0f9-bb7935d2953b",
   "metadata": {},
   "outputs": [
    {
     "name": "stdout",
     "output_type": "stream",
     "text": [
      "\n"
     ]
    }
   ],
   "source": [
    "u=ZipFile('files.zip','r',ZIP_STORED)\n",
    "u1=open('files.zip','r')\n",
    "u1.close()\n",
    "print( )"
   ]
  },
  {
   "cell_type": "markdown",
   "id": "0ce8fe9d-cae2-4a0d-8cd3-8fa4053e5e43",
   "metadata": {},
   "source": [
    "# Zip the file\n",
    "- file1.txt and file2.txt should be available in the current working directory."
   ]
  },
  {
   "cell_type": "code",
   "execution_count": 43,
   "id": "a8221d4c-aa6f-4f8f-b5a1-04179e4903e8",
   "metadata": {},
   "outputs": [
    {
     "name": "stdout",
     "output_type": "stream",
     "text": [
      "files.zip file is created successfully.\n"
     ]
    }
   ],
   "source": [
    "f=ZipFile('focus.zip','w',ZIP_DEFLATED)\n",
    "f.write('file1.txt')\n",
    "f.write('file2.txt')\n",
    "f.close()\n",
    "print('files.zip file is created successfully.')"
   ]
  },
  {
   "cell_type": "markdown",
   "id": "8bc04d55-5336-47ae-b695-79676289a500",
   "metadata": {},
   "source": [
    "# Unzip the file"
   ]
  },
  {
   "cell_type": "code",
   "execution_count": 44,
   "id": "fd862687-d6bb-4165-863d-e71faaf43ab0",
   "metadata": {},
   "outputs": [],
   "source": [
    "from zipfile import *\n",
    "z1=ZipFile('focus.zip','r')\n",
    "z1.extractall()"
   ]
  },
  {
   "cell_type": "markdown",
   "id": "5fa1b9bd-c6cd-4d5e-8f50-8e12fefddf20",
   "metadata": {},
   "source": [
    "# How to perform unzip operation"
   ]
  },
  {
   "cell_type": "code",
   "execution_count": 45,
   "id": "b789ef82-b6cf-4aad-bf18-8455dbf08900",
   "metadata": {},
   "outputs": [
    {
     "name": "stdout",
     "output_type": "stream",
     "text": [
      "File Name: file1.txt\n",
      "The Content of the file:\n",
      "Django\n",
      "Python\n",
      "Data Science\n",
      "DevOps\n",
      "\n",
      "\n",
      "File Name: file2.txt\n",
      "The Content of the file:\n",
      "Knock Out\n",
      "Kingfisher\n",
      "Royal Challenge\n",
      "Poster\n",
      "\n"
     ]
    }
   ],
   "source": [
    "f=ZipFile('files.zip','r',ZIP_STORED)\n",
    "names=f.namelist()\n",
    "for name in names:\n",
    "    print('File Name:',name)\n",
    "    print('The Content of the file:')\n",
    "    f1=open(name,'r')\n",
    "    print(f1.read())\n",
    "    f1.close()\n",
    "    print()"
   ]
  },
  {
   "cell_type": "code",
   "execution_count": 47,
   "id": "a57ce9bc-33a8-419e-8e80-b7a3eaeb941c",
   "metadata": {},
   "outputs": [
    {
     "name": "stdout",
     "output_type": "stream",
     "text": [
      "File Name: file1.txt\n",
      "The Content of the file:\n",
      "Django\n",
      "Python\n",
      "Data Science\n",
      "DevOps\n",
      "\n",
      "\n",
      "File Name: file2.txt\n",
      "The Content of the file:\n",
      "Knock Out\n",
      "Kingfisher\n",
      "Royal Challenge\n",
      "Poster\n",
      "\n"
     ]
    }
   ],
   "source": [
    "f=ZipFile('focus.zip','r',ZIP_STORED)\n",
    "names=f.namelist()\n",
    "for name in names:\n",
    "    print('File Name:',name)\n",
    "    print('The Content of the file:')\n",
    "    f1=open(name,'r')\n",
    "    print(f1.read())\n",
    "    f1.close()\n",
    "    print()"
   ]
  },
  {
   "cell_type": "code",
   "execution_count": null,
   "id": "2a69bc87-d083-42b9-b26f-fd1cf7242123",
   "metadata": {},
   "outputs": [],
   "source": []
  },
  {
   "cell_type": "code",
   "execution_count": null,
   "id": "a65351c3-6095-439e-b493-980fc0b22652",
   "metadata": {},
   "outputs": [],
   "source": []
  },
  {
   "cell_type": "code",
   "execution_count": null,
   "id": "eb1e0775-1dff-47fb-9881-08ca9eea8a33",
   "metadata": {},
   "outputs": [],
   "source": []
  },
  {
   "cell_type": "code",
   "execution_count": null,
   "id": "94c32485-7ce7-465e-800b-105f73508c1f",
   "metadata": {},
   "outputs": [],
   "source": []
  },
  {
   "cell_type": "code",
   "execution_count": null,
   "id": "55c724c2-7bb9-40a1-aaa7-eca04ba811ca",
   "metadata": {},
   "outputs": [],
   "source": []
  }
 ],
 "metadata": {
  "kernelspec": {
   "display_name": "Python 3 (ipykernel)",
   "language": "python",
   "name": "python3"
  },
  "language_info": {
   "codemirror_mode": {
    "name": "ipython",
    "version": 3
   },
   "file_extension": ".py",
   "mimetype": "text/x-python",
   "name": "python",
   "nbconvert_exporter": "python",
   "pygments_lexer": "ipython3",
   "version": "3.11.7"
  }
 },
 "nbformat": 4,
 "nbformat_minor": 5
}
