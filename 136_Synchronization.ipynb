{
 "cells": [
  {
   "cell_type": "markdown",
   "id": "9dcc39d8-dd99-47fe-a832-477857667337",
   "metadata": {},
   "source": [
    "# Synchronization Mechanisms\n",
    "1. Lock\n",
    "2. RLock\n",
    "3. Semaphore and BoundedSemaphore"
   ]
  },
  {
   "cell_type": "code",
   "execution_count": 5,
   "id": "3346391a-e241-4826-a4c4-7b880580fb82",
   "metadata": {},
   "outputs": [
    {
     "name": "stdout",
     "output_type": "stream",
     "text": [
      "Good Morning:Good Morning:Good Morning:Good Morning:Dhoni\n",
      "Good Morning:Kohli\n",
      "Good Morning:Dravid\n",
      "Good Morning:Yuvraj\n",
      "Good Morning:Dhoni\n",
      "Good Morning:Kohli\n",
      "Good Morning:Dravid\n",
      "Good Morning:Yuvraj\n",
      "Good Morning:Dhoni\n",
      "Good Morning:Kohli\n",
      "Good Morning:Yuvraj\n",
      "Good Morning:Dravid\n",
      "Good Morning:Dhoni\n",
      "Good Morning:Yuvraj\n",
      "Good Morning:Dravid\n",
      "Good Morning:Kohli\n",
      "Good Morning:Dhoni\n",
      "Good Morning:Yuvraj\n",
      "Good Morning:Dravid\n",
      "Good Morning:Kohli\n",
      "Good Morning:Dhoni\n",
      "Good Morning:Yuvraj\n",
      "Good Morning:Kohli\n",
      "Good Morning:Dravid\n",
      "Good Morning:Dhoni\n",
      "Good Morning:Yuvraj\n",
      "Good Morning:Dravid\n",
      "Good Morning:Kohli\n",
      "Good Morning:Dhoni\n",
      "Good Morning:Yuvraj\n",
      "Good Morning:Dravid\n",
      "Good Morning:Kohli\n",
      "Good Morning:Dhoni\n",
      "Good Morning:Yuvraj\n",
      "Good Morning:Dravid\n",
      "Good Morning:Kohli\n",
      "Good Morning:Dhoni\n",
      "Yuvraj\n",
      "Kohli\n",
      "Dravid\n"
     ]
    }
   ],
   "source": [
    "from threading import *\n",
    "import time\n",
    "\n",
    "def wish(name):\n",
    "    for i in range(10):\n",
    "        print('Good Morning:',end='')\n",
    "        time.sleep(2)\n",
    "        print(name)\n",
    "\n",
    "t1=Thread(target=wish,args=('Dhoni',))\n",
    "t2=Thread(target=wish,args=('Yuvraj',))\n",
    "t3=Thread(target=wish,args=('Dravid',))\n",
    "t4=Thread(target=wish,args=('Kohli',))\n",
    "t1.start()\n",
    "t2.start()\n",
    "t3.start()\n",
    "t4.start()"
   ]
  },
  {
   "cell_type": "markdown",
   "id": "f9d1a921-3034-4f28-88ba-43febcc0fc69",
   "metadata": {},
   "source": [
    "# Lock()\n",
    "# acquire()\n",
    "# release()"
   ]
  },
  {
   "cell_type": "code",
   "execution_count": 10,
   "id": "1d7f0aba-32f1-40bc-9f09-04ca47ff736a",
   "metadata": {},
   "outputs": [],
   "source": [
    "from threading import *\n",
    "\n",
    "l=Lock()\n",
    "l.acquire()\n",
    "l.release()"
   ]
  },
  {
   "cell_type": "code",
   "execution_count": 24,
   "id": "bdc9171a-5bf7-46ab-b82d-75a2c523e627",
   "metadata": {},
   "outputs": [
    {
     "name": "stdout",
     "output_type": "stream",
     "text": [
      "Dhoni Thread got Lock\n"
     ]
    },
    {
     "name": "stderr",
     "output_type": "stream",
     "text": [
      "C:\\Users\\NSTIB34\\AppData\\Local\\Temp\\ipykernel_12456\\2177466135.py:7: DeprecationWarning: getName() is deprecated, get the name attribute instead\n",
      "  print(f'{current_thread().getName()} got Lock')\n"
     ]
    },
    {
     "name": "stdout",
     "output_type": "stream",
     "text": [
      "Good Morning:Dhoni\n",
      "Good Morning:Dhoni\n",
      "Good Morning:Dhoni\n",
      "Good Morning:Dhoni\n",
      "Good Morning:Dhoni\n",
      "Good Morning:Dhoni\n",
      "Good Morning:Dhoni\n",
      "Good Morning:Dhoni\n",
      "Good Morning:Dhoni\n",
      "Good Morning:Dhoni\n",
      "Dhoni Thread releasing Lock\n"
     ]
    },
    {
     "name": "stderr",
     "output_type": "stream",
     "text": [
      "C:\\Users\\NSTIB34\\AppData\\Local\\Temp\\ipykernel_12456\\2177466135.py:13: DeprecationWarning: getName() is deprecated, get the name attribute instead\n",
      "  print(f'{current_thread().getName()} releasing Lock')\n"
     ]
    },
    {
     "name": "stdout",
     "output_type": "stream",
     "text": [
      "Yuvraj Thread got Lock\n",
      "Good Morning:Yuvraj\n",
      "Good Morning:Yuvraj\n",
      "Good Morning:Yuvraj\n",
      "Good Morning:Yuvraj\n",
      "Good Morning:Yuvraj\n",
      "Good Morning:Yuvraj\n",
      "Good Morning:Yuvraj\n",
      "Good Morning:Yuvraj\n",
      "Good Morning:Yuvraj\n",
      "Good Morning:Yuvraj\n",
      "Yuvraj Thread releasing Lock\n",
      "Kohli Thread got Lock\n",
      "Good Morning:Kohli\n",
      "Good Morning:Kohli\n",
      "Good Morning:Kohli\n",
      "Good Morning:Kohli\n",
      "Good Morning:Kohli\n",
      "Good Morning:Kohli\n",
      "Good Morning:Kohli\n",
      "Good Morning:Kohli\n",
      "Good Morning:Kohli\n",
      "Good Morning:Kohli\n",
      "Kohli Thread releasing Lock\n",
      "Dravid Thread got Lock\n",
      "Good Morning:Dravid\n",
      "Good Morning:Dravid\n",
      "Good Morning:Dravid\n",
      "Good Morning:Dravid\n",
      "Good Morning:Dravid\n",
      "Good Morning:Dravid\n",
      "Good Morning:Dravid\n",
      "Good Morning:Dravid\n",
      "Good Morning:Dravid\n",
      "Good Morning:Dravid\n",
      "Dravid Thread releasing Lock\n"
     ]
    }
   ],
   "source": [
    "from threading import *\n",
    "import time\n",
    "\n",
    "l=Lock()\n",
    "def wish1(name):\n",
    "    l.acquire()\n",
    "    print(f'{current_thread().getName()} got Lock')\n",
    "    time.sleep(5)\n",
    "    for i in range(10):\n",
    "        print('Good Morning:',end='')\n",
    "        time.sleep(2)\n",
    "        print(name)\n",
    "    print(f'{current_thread().getName()} releasing Lock')\n",
    "    time.sleep(5) \n",
    "    l.release()\n",
    "\n",
    "t1=Thread(target=wish1,args=('Dhoni',),name='Dhoni Thread')\n",
    "t2=Thread(target=wish1,args=('Yuvraj',),name='Yuvraj Thread')\n",
    "t3=Thread(target=wish1,args=('Kohli',),name='Kohli Thread')\n",
    "t4=Thread(target=wish1,args=('Dravid',),name='Dravid Thread')\n",
    "t1.start()\n",
    "t2.start()\n",
    "t3.start()\n",
    "t4.start()"
   ]
  },
  {
   "cell_type": "code",
   "execution_count": null,
   "id": "d092273a-9445-4e27-b505-3486d6deae17",
   "metadata": {},
   "outputs": [],
   "source": []
  }
 ],
 "metadata": {
  "kernelspec": {
   "display_name": "Python 3 (ipykernel)",
   "language": "python",
   "name": "python3"
  },
  "language_info": {
   "codemirror_mode": {
    "name": "ipython",
    "version": 3
   },
   "file_extension": ".py",
   "mimetype": "text/x-python",
   "name": "python",
   "nbconvert_exporter": "python",
   "pygments_lexer": "ipython3",
   "version": "3.11.7"
  }
 },
 "nbformat": 4,
 "nbformat_minor": 5
}
