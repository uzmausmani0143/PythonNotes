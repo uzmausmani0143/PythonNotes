{
 "cells": [
  {
   "cell_type": "markdown",
   "id": "5e2822bd-5c5a-4029-84c5-b2d01459f5f3",
   "metadata": {},
   "source": [
    "# Working with Directories"
   ]
  },
  {
   "cell_type": "code",
   "execution_count": 7,
   "id": "77a5731a-b185-426b-9815-74d683532a10",
   "metadata": {},
   "outputs": [
    {
     "name": "stdout",
     "output_type": "stream",
     "text": [
      "C:\\Users\\NSTIB34\\uzma\\Python\\Notes\n",
      "<class 'str'>\n"
     ]
    }
   ],
   "source": [
    "import os\n",
    "a=os.getcwd()\n",
    "print(a)\n",
    "print(type(a))"
   ]
  },
  {
   "cell_type": "code",
   "execution_count": 4,
   "id": "94cebf8c-5897-4481-b4d0-12c5e3100f93",
   "metadata": {},
   "outputs": [
    {
     "data": {
      "text/plain": [
       "'C:\\\\Users\\\\NSTIB34\\\\uzma\\\\Python\\\\Notes'"
      ]
     },
     "execution_count": 4,
     "metadata": {},
     "output_type": "execute_result"
    }
   ],
   "source": [
    "pwd"
   ]
  },
  {
   "cell_type": "code",
   "execution_count": 12,
   "id": "5a76ecb6-76bd-4802-a197-a55f89c97f63",
   "metadata": {},
   "outputs": [
    {
     "name": "stdout",
     "output_type": "stream",
     "text": [
      "The dir created successfully.\n"
     ]
    }
   ],
   "source": [
    "b=os.mkdir('materialsss')\n",
    "print('The dir created successfully.')"
   ]
  },
  {
   "cell_type": "code",
   "execution_count": 14,
   "id": "67724062-d6bd-4298-9fd1-4250dc3b2300",
   "metadata": {},
   "outputs": [
    {
     "name": "stdout",
     "output_type": "stream",
     "text": [
      "The directory created successfully.\n"
     ]
    }
   ],
   "source": [
    "c=os.mkdir('C:\\\\Users\\\\NSTIB34\\\\uzma\\\\Python\\\\Notes\\\\materialsssss')\n",
    "print('The directory created successfully.')\n"
   ]
  },
  {
   "cell_type": "markdown",
   "id": "ddca6d5b-1b0f-4b57-8939-b8d981710f90",
   "metadata": {},
   "source": [
    "# To create multiple directories"
   ]
  },
  {
   "cell_type": "code",
   "execution_count": 16,
   "id": "1e307196-4c35-4c6b-af21-4aaf7335eb58",
   "metadata": {},
   "outputs": [
    {
     "name": "stdout",
     "output_type": "stream",
     "text": [
      "The directories are created.\n"
     ]
    }
   ],
   "source": [
    "d=os.makedirs('dir1/dir2/dir3/materials')\n",
    "print('The directories are created.')"
   ]
  },
  {
   "cell_type": "markdown",
   "id": "40a68848-e44f-49de-9cdf-29cdc3bc8078",
   "metadata": {},
   "source": [
    "# To remove a directory."
   ]
  },
  {
   "cell_type": "code",
   "execution_count": 17,
   "id": "f91226bc-137d-4fe4-98e3-1c2e84e63aee",
   "metadata": {},
   "outputs": [
    {
     "name": "stdout",
     "output_type": "stream",
     "text": [
      "The directory deleted successfully.\n"
     ]
    }
   ],
   "source": [
    "r=os.rmdir('materials')\n",
    "print('The directory deleted successfully.')"
   ]
  },
  {
   "cell_type": "code",
   "execution_count": 20,
   "id": "87b842ce-91f7-4cdd-9243-32c49d39d2ae",
   "metadata": {},
   "outputs": [
    {
     "name": "stdout",
     "output_type": "stream",
     "text": [
      "The directories deleted successfully.\n"
     ]
    }
   ],
   "source": [
    "rm=os.removedirs('dir1/dir2/dir3/materials')\n",
    "print('The directories deleted successfully.')"
   ]
  },
  {
   "cell_type": "markdown",
   "id": "afa607ce-6b07-43fc-9c3a-e93f2b05f2fe",
   "metadata": {},
   "source": [
    "# Rename a diretory"
   ]
  },
  {
   "cell_type": "code",
   "execution_count": 21,
   "id": "b058f7ec-37b3-4414-b549-311e7557671a",
   "metadata": {},
   "outputs": [
    {
     "name": "stdout",
     "output_type": "stream",
     "text": [
      "The directory renamed successfully.\n"
     ]
    }
   ],
   "source": [
    "rn=os.rename('materialsss','pythonnn')\n",
    "print('The directory renamed successfully.')"
   ]
  },
  {
   "cell_type": "code",
   "execution_count": null,
   "id": "4342f16b-8a15-47dd-b37b-468a7abb6934",
   "metadata": {},
   "outputs": [],
   "source": [
    "# "
   ]
  },
  {
   "cell_type": "code",
   "execution_count": null,
   "id": "07dac5c7-d801-4ea8-92dd-490db5a694e3",
   "metadata": {},
   "outputs": [],
   "source": [
    "calc=os.system('notepad')\n"
   ]
  },
  {
   "cell_type": "code",
   "execution_count": null,
   "id": "8f209308-5bad-49d0-a42f-397899437442",
   "metadata": {},
   "outputs": [],
   "source": []
  }
 ],
 "metadata": {
  "kernelspec": {
   "display_name": "Python 3 (ipykernel)",
   "language": "python",
   "name": "python3"
  },
  "language_info": {
   "codemirror_mode": {
    "name": "ipython",
    "version": 3
   },
   "file_extension": ".py",
   "mimetype": "text/x-python",
   "name": "python",
   "nbconvert_exporter": "python",
   "pygments_lexer": "ipython3",
   "version": "3.11.7"
  }
 },
 "nbformat": 4,
 "nbformat_minor": 5
}
