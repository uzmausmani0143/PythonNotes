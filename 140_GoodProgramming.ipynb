{
 "cells": [
  {
   "cell_type": "markdown",
   "id": "1f37a6d8-0079-4585-aeb6-f2447d186872",
   "metadata": {},
   "source": [
    "# Case-1:"
   ]
  },
  {
   "cell_type": "code",
   "execution_count": 2,
   "id": "f22d287b-9be4-4b06-a349-78717ec7e0c5",
   "metadata": {},
   "outputs": [
    {
     "name": "stdout",
     "output_type": "stream",
     "text": [
      "Dhoni Thread got lock\n"
     ]
    },
    {
     "name": "stderr",
     "output_type": "stream",
     "text": [
      "C:\\Users\\NSTIB34\\AppData\\Local\\Temp\\ipykernel_15184\\936637368.py:8: DeprecationWarning: getName() is deprecated, get the name attribute instead\n",
      "  print(f'{current_thread().getName()} got lock')\n"
     ]
    },
    {
     "name": "stdout",
     "output_type": "stream",
     "text": [
      "Good Morning:Dhoni\n",
      "Good Morning:Dhoni\n",
      "Good Morning:Dhoni\n",
      "Good Morning:Dhoni\n",
      "Good Morning:Dhoni\n",
      "Good Morning:Dhoni\n",
      "Good Morning:Dhoni\n",
      "Good Morning:Dhoni\n",
      "Good Morning:Dhoni\n",
      "Good Morning:Dhoni\n",
      "Exception Raised while executing this thread\n",
      "Yuvraj Thread got lock\n",
      "Good Morning:Yuvraj\n",
      "Good Morning:Yuvraj\n",
      "Good Morning:Yuvraj\n",
      "Good Morning:Yuvraj\n",
      "Good Morning:Yuvraj\n",
      "Good Morning:Yuvraj\n",
      "Good Morning:Yuvraj\n",
      "Good Morning:Yuvraj\n",
      "Good Morning:Yuvraj\n",
      "Good Morning:Yuvraj\n",
      "Exception Raised while executing this thread\n",
      "Rahul Thread got lock\n",
      "Good Morning:Rahul\n",
      "Good Morning:Rahul\n",
      "Good Morning:Rahul\n",
      "Good Morning:Rahul\n",
      "Good Morning:Rahul\n",
      "Good Morning:Rahul\n",
      "Good Morning:Rahul\n",
      "Good Morning:Rahul\n",
      "Good Morning:Rahul\n",
      "Good Morning:Rahul\n",
      "Exception Raised while executing this thread\n",
      "Saurav Thread got lock\n",
      "Good Morning:Saurav\n",
      "Good Morning:Saurav\n",
      "Good Morning:Saurav\n",
      "Good Morning:Saurav\n",
      "Good Morning:Saurav\n",
      "Good Morning:Saurav\n",
      "Good Morning:Saurav\n",
      "Good Morning:Saurav\n",
      "Good Morning:Saurav\n",
      "Good Morning:Saurav\n",
      "Exception Raised while executing this thread\n"
     ]
    }
   ],
   "source": [
    "from threading import *\n",
    "import time\n",
    "\n",
    "l=Lock()\n",
    "def wish(name):\n",
    "    l.acquire()\n",
    "    try:\n",
    "        print(f'{current_thread().getName()} got lock')\n",
    "        time.sleep(5)\n",
    "        for i in range(10):\n",
    "            print('Good Morning:',end='')\n",
    "            time.sleep(2)\n",
    "            print(name)\n",
    "\n",
    "        print(10/0)\n",
    "        print(f'{current_thread().getName()} releasing Lock')\n",
    "        time.sleep(5)\n",
    "\n",
    "    except:\n",
    "        print('Exception Raised while executing this thread')\n",
    "\n",
    "    finally:\n",
    "        l.release()\n",
    "\n",
    "t1=Thread(target=wish,args=('Dhoni',),name='Dhoni Thread')\n",
    "t2=Thread(target=wish,args=('Yuvraj',),name='Yuvraj Thread')\n",
    "t3=Thread(target=wish,args=('Rahul',),name='Rahul Thread')\n",
    "t4=Thread(target=wish,args=('Saurav',),name='Saurav Thread')\n",
    "\n",
    "t1.start()\n",
    "t2.start()\n",
    "t3.start()\n",
    "t4.start()\n"
   ]
  },
  {
   "cell_type": "markdown",
   "id": "02196484-56a0-4d87-a5c6-d47142bda403",
   "metadata": {},
   "source": [
    "# Case-2:"
   ]
  },
  {
   "cell_type": "markdown",
   "id": "aa58a8c2-6f74-401e-987b-dae7aafcee1b",
   "metadata": {},
   "source": [
    "# What is the advantage of using with statement to acquire a Lock in multi threading?\n",
    "- we are not required to release the lock explicitly. It will be released automatically once control reaches end of with block either normally or abnormally.\n",
    "- we can use with all the multi threading methods like Lock, RLock, Condition and Semaphore.\n"
   ]
  },
  {
   "cell_type": "code",
   "execution_count": 1,
   "id": "77853a6b-c4db-41c8-aa54-9171ab8cc388",
   "metadata": {},
   "outputs": [
    {
     "name": "stdout",
     "output_type": "stream",
     "text": [
      "Dhoni Thread got lock\n"
     ]
    },
    {
     "name": "stderr",
     "output_type": "stream",
     "text": [
      "C:\\Users\\NSTIB34\\AppData\\Local\\Temp\\ipykernel_7588\\673170864.py:7: DeprecationWarning: getName() is deprecated, get the name attribute instead\n",
      "  print(f'{current_thread().getName()} got lock')\n"
     ]
    },
    {
     "name": "stdout",
     "output_type": "stream",
     "text": [
      "Good Morning:Dhoni\n",
      "Good Morning:Dhoni\n",
      "Good Morning:Dhoni\n",
      "Good Morning:Dhoni\n",
      "Good Morning:Dhoni\n",
      "Good Morning:Dhoni\n",
      "Good Morning:Dhoni\n",
      "Good Morning:Dhoni\n",
      "Good Morning:Dhoni\n",
      "Good Morning:Dhoni\n",
      "Dhoni Thread releasing Lock\n"
     ]
    },
    {
     "name": "stderr",
     "output_type": "stream",
     "text": [
      "C:\\Users\\NSTIB34\\AppData\\Local\\Temp\\ipykernel_7588\\673170864.py:15: DeprecationWarning: getName() is deprecated, get the name attribute instead\n",
      "  print(f'{current_thread().getName()} releasing Lock')\n"
     ]
    },
    {
     "name": "stdout",
     "output_type": "stream",
     "text": [
      "Yuvraj Thread got lock\n",
      "Good Morning:Yuvraj\n",
      "Good Morning:Yuvraj\n",
      "Good Morning:Yuvraj\n",
      "Good Morning:Yuvraj\n",
      "Good Morning:Yuvraj\n",
      "Good Morning:Yuvraj\n",
      "Good Morning:Yuvraj\n",
      "Good Morning:Yuvraj\n",
      "Good Morning:Yuvraj\n",
      "Good Morning:Yuvraj\n",
      "Yuvraj Thread releasing Lock\n",
      "Rahul Thread got lock\n",
      "Good Morning:Rahul\n",
      "Good Morning:Rahul\n",
      "Good Morning:Rahul\n",
      "Good Morning:Rahul\n",
      "Good Morning:Rahul\n",
      "Good Morning:Rahul\n",
      "Good Morning:Rahul\n",
      "Good Morning:Rahul\n",
      "Good Morning:Rahul\n",
      "Good Morning:Rahul\n",
      "Rahul Thread releasing Lock\n",
      "Saurav Thread got lock\n",
      "Good Morning:Saurav\n",
      "Good Morning:Saurav\n",
      "Good Morning:Saurav\n",
      "Good Morning:Saurav\n",
      "Good Morning:Saurav\n",
      "Good Morning:Saurav\n",
      "Good Morning:Saurav\n",
      "Good Morning:Saurav\n",
      "Good Morning:Saurav\n",
      "Good Morning:Saurav\n",
      "Saurav Thread releasing Lock\n"
     ]
    }
   ],
   "source": [
    "from threading import *\n",
    "import time\n",
    "\n",
    "l=Lock()\n",
    "def wish(name):\n",
    "    with l:\n",
    "        print(f'{current_thread().getName()} got lock')\n",
    "        time.sleep(5)\n",
    "        for i in range(10):\n",
    "            print('Good Morning:',end='')\n",
    "            time.sleep(2)\n",
    "            print(name)\n",
    "\n",
    "        print(10/0)\n",
    "        print(f'{current_thread().getName()} releasing Lock')\n",
    "        time.sleep(5)\n",
    "\n",
    "t1=Thread(target=wish,args=('Dhoni',),name='Dhoni Thread')\n",
    "t2=Thread(target=wish,args=('Yuvraj',),name='Yuvraj Thread')\n",
    "t3=Thread(target=wish,args=('Rahul',),name='Rahul Thread')\n",
    "t4=Thread(target=wish,args=('Saurav',),name='Saurav Thread')\n",
    "\n",
    "t1.start()\n",
    "t2.start()\n",
    "t3.start()\n",
    "t4.start()"
   ]
  },
  {
   "cell_type": "markdown",
   "id": "f4361790-396d-4736-9d9b-92f88dff9330",
   "metadata": {},
   "source": [
    "# Condition\n",
    "## Multi Taksing\n",
    "1. Process Based Multi Tasking\n",
    "1. Thread Based Multi Tasking\n",
    "\n",
    "## Application Areas of Multi Threading\n",
    "- The ways of creating a Thread in Python\n",
    "    1. Creating a Thread without using any class\n",
    "    2. Creating a Thread By extending Thread class\n",
    "    3. Creating a Thread without extending Thread class\n",
    "\n",
    "## Setting and Getting Name of a Thread\n",
    "    t.getName()\n",
    "    t.SetName(newname)\n",
    "\n",
    "## Thread Identification Number\n",
    "    t.ident\n",
    "\n",
    "### To get Number of Active Threads: active_count()\n",
    "### To get Information of Active Threads: enumerate()\n",
    "\n",
    "### How to check whether the thread is live or not: isAlive()/is_alive()\n",
    "\n",
    "## join()-->If a thread wants to wait until completing some other thread or time expires.\n",
    "\n",
    "# Daemon Thread---> Ghost Thread/background Exceuting Thread\n",
    "\n",
    "# Synchronization--->At a time only one thread\n",
    "    1. Lock\n",
    "    2. RLock(Reentrant Lock)-->For recursive functions\n",
    "    3. Semaphore/Bounded Semaphore\n",
    "\n",
    "# Interthread Communication \n",
    "    1. Event\n",
    "    2. Condition\n",
    "    3. Queue\n",
    "\n",
    "# Types of Queues:\n",
    "    1. FIFO--> Queue\n",
    "    2. LIFO--> LIFOQueue\n",
    "    3. Priority--> PRiorityQueue\n"
   ]
  },
  {
   "cell_type": "code",
   "execution_count": null,
   "id": "1e8fe74b-a4d5-40a0-81c1-f4596556565b",
   "metadata": {},
   "outputs": [],
   "source": []
  }
 ],
 "metadata": {
  "kernelspec": {
   "display_name": "Python 3 (ipykernel)",
   "language": "python",
   "name": "python3"
  },
  "language_info": {
   "codemirror_mode": {
    "name": "ipython",
    "version": 3
   },
   "file_extension": ".py",
   "mimetype": "text/x-python",
   "name": "python",
   "nbconvert_exporter": "python",
   "pygments_lexer": "ipython3",
   "version": "3.11.7"
  }
 },
 "nbformat": 4,
 "nbformat_minor": 5
}
