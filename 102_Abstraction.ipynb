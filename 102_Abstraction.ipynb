{
 "cells": [
  {
   "cell_type": "code",
   "execution_count": null,
   "id": "403f123a-93ea-4e42-b1b7-7893e1a4e8d3",
   "metadata": {},
   "outputs": [],
   "source": [
    "# Abstraction"
   ]
  },
  {
   "cell_type": "code",
   "execution_count": 2,
   "id": "aa4cb473-da91-4a1e-b101-63b3e02f584c",
   "metadata": {},
   "outputs": [
    {
     "name": "stdout",
     "output_type": "stream",
     "text": [
      "6\n",
      "3\n"
     ]
    }
   ],
   "source": [
    "from abc import abstractmethod, ABC\n",
    "\n",
    "class Vehicle(ABC):\n",
    "    @abstractmethod\n",
    "    def getNoOFWheels(self):\n",
    "        pass\n",
    "\n",
    "class Bus(Vehicle):\n",
    "    def getNoOFWheels(self):\n",
    "        return 6\n",
    "\n",
    "class Auto(Vehicle):\n",
    "    def getNoOFWheels(self):\n",
    "        return 3\n",
    "\n",
    "b=Bus()\n",
    "print(b.getNoOFWheels())\n",
    "\n",
    "a=Auto()\n",
    "print(a.getNoOFWheels())"
   ]
  },
  {
   "cell_type": "code",
   "execution_count": null,
   "id": "9b8fa590-feea-4ba4-9e2a-0e15b4007942",
   "metadata": {},
   "outputs": [],
   "source": [
    "# Case-1"
   ]
  },
  {
   "cell_type": "code",
   "execution_count": 3,
   "id": "8cb3ab02-6830-4a29-a36a-d2ff1764ba0d",
   "metadata": {},
   "outputs": [],
   "source": [
    "from abc import *\n",
    "\n",
    "class Test:\n",
    "    pass\n",
    "\n",
    "t=Test()"
   ]
  },
  {
   "cell_type": "code",
   "execution_count": null,
   "id": "31b56643-dab6-4b0c-831a-244297d43ed0",
   "metadata": {},
   "outputs": [],
   "source": [
    "# Case-2"
   ]
  },
  {
   "cell_type": "code",
   "execution_count": 6,
   "id": "4fbc3f6a-a9da-41b6-87b2-6f757ad31e41",
   "metadata": {},
   "outputs": [],
   "source": [
    "from abc import ABC\n",
    "class Test(ABC):\n",
    "        pass\n",
    "\n",
    "t=Test()"
   ]
  },
  {
   "cell_type": "code",
   "execution_count": null,
   "id": "4004862e-5c18-4452-9beb-48e42b81f20b",
   "metadata": {},
   "outputs": [],
   "source": [
    "# Case-3"
   ]
  },
  {
   "cell_type": "code",
   "execution_count": 5,
   "id": "207e66e9-b1b5-43b4-ab8b-902566993fc6",
   "metadata": {},
   "outputs": [
    {
     "ename": "TypeError",
     "evalue": "Can't instantiate abstract class Test with abstract method m1",
     "output_type": "error",
     "traceback": [
      "\u001b[1;31m---------------------------------------------------------------------------\u001b[0m",
      "\u001b[1;31mTypeError\u001b[0m                                 Traceback (most recent call last)",
      "Cell \u001b[1;32mIn[5], line 7\u001b[0m\n\u001b[0;32m      3\u001b[0m     \u001b[38;5;129m@abstractmethod\u001b[39m\n\u001b[0;32m      4\u001b[0m     \u001b[38;5;28;01mdef\u001b[39;00m \u001b[38;5;21mm1\u001b[39m(\u001b[38;5;28mself\u001b[39m):\n\u001b[0;32m      5\u001b[0m         \u001b[38;5;28;01mpass\u001b[39;00m\n\u001b[1;32m----> 7\u001b[0m t\u001b[38;5;241m=\u001b[39mTest()\n",
      "\u001b[1;31mTypeError\u001b[0m: Can't instantiate abstract class Test with abstract method m1"
     ]
    }
   ],
   "source": [
    "from abc import ABC, abstractmethod\n",
    "class Test(ABC):\n",
    "    @abstractmethod\n",
    "    def m1(self):\n",
    "        pass\n",
    "\n",
    "t=Test()"
   ]
  },
  {
   "cell_type": "code",
   "execution_count": null,
   "id": "9a0ccc9a-2761-425d-aa4f-8b6e31d98cb0",
   "metadata": {},
   "outputs": [],
   "source": [
    "# Case-4"
   ]
  },
  {
   "cell_type": "code",
   "execution_count": 9,
   "id": "055f4f5e-79b6-4bc1-a1a2-18877191da98",
   "metadata": {},
   "outputs": [
    {
     "name": "stdout",
     "output_type": "stream",
     "text": [
      "Hello\n"
     ]
    }
   ],
   "source": [
    "from abc import ABC, abstractmethod\n",
    "class Test:\n",
    "    @abstractmethod\n",
    "    def m1(self):\n",
    "        print('Hello')\n",
    "t=Test()\n",
    "t.m1()"
   ]
  },
  {
   "cell_type": "code",
   "execution_count": null,
   "id": "f8d33148-2b7b-4475-88b5-1915bbb3f68f",
   "metadata": {},
   "outputs": [],
   "source": []
  },
  {
   "cell_type": "code",
   "execution_count": 12,
   "id": "91178701-76dd-4cf0-b13b-3a8963b9ccd8",
   "metadata": {},
   "outputs": [
    {
     "ename": "TypeError",
     "evalue": "Can't instantiate abstract class P with abstract methods m2, m3",
     "output_type": "error",
     "traceback": [
      "\u001b[1;31m---------------------------------------------------------------------------\u001b[0m",
      "\u001b[1;31mTypeError\u001b[0m                                 Traceback (most recent call last)",
      "Cell \u001b[1;32mIn[12], line 11\u001b[0m\n\u001b[0;32m      8\u001b[0m     \u001b[38;5;129m@abstractmethod\u001b[39m\n\u001b[0;32m      9\u001b[0m     \u001b[38;5;28;01mdef\u001b[39;00m \u001b[38;5;21mm3\u001b[39m(\u001b[38;5;28mself\u001b[39m):\n\u001b[0;32m     10\u001b[0m         \u001b[38;5;28;01mpass\u001b[39;00m\n\u001b[1;32m---> 11\u001b[0m t\u001b[38;5;241m=\u001b[39mP()\n\u001b[0;32m     12\u001b[0m t\u001b[38;5;241m.\u001b[39mm1()\n",
      "\u001b[1;31mTypeError\u001b[0m: Can't instantiate abstract class P with abstract methods m2, m3"
     ]
    }
   ],
   "source": [
    "from abc import *\n",
    "class P(ABC):\n",
    "    def m1(self):\n",
    "        print('Hello')\n",
    "    @abstractmethod\n",
    "    def m2(self):\n",
    "        pass\n",
    "    @abstractmethod\n",
    "    def m3(self):\n",
    "        pass\n",
    "t=P()\n",
    "t.m1()"
   ]
  },
  {
   "cell_type": "code",
   "execution_count": null,
   "id": "5ebf67ab-bcae-430a-81f7-96bb38aa2c9a",
   "metadata": {},
   "outputs": [],
   "source": [
    "from abc import *\n",
    "class P(ABC):\n",
    "    def m1(self):\n",
    "        print('Hello')\n",
    "    @abstractmethod\n",
    "    def m2(self):\n",
    "        pass\n",
    "    @abstractmethod\n",
    "    def m3(self):\n",
    "        pass\n",
    "\n",
    "class C(P):\n",
    "    pass\n",
    "\n",
    "c=C()\n"
   ]
  },
  {
   "cell_type": "code",
   "execution_count": 17,
   "id": "23a42b45-20b8-4fdc-8d69-e06dadd0abf5",
   "metadata": {},
   "outputs": [
    {
     "name": "stdout",
     "output_type": "stream",
     "text": [
      "Hello\n",
      "m2 method\n",
      "m3 method\n"
     ]
    }
   ],
   "source": [
    "from abc import *\n",
    "class P(ABC):\n",
    "    def m1(self):\n",
    "        print('Hello')\n",
    "    @abstractmethod\n",
    "    def m2(self):\n",
    "        pass\n",
    "    @abstractmethod\n",
    "    def m3(self):\n",
    "        pass\n",
    "\n",
    "class C(P):\n",
    "    def m2(self):\n",
    "        print('m2 method')\n",
    "    def m3(self):\n",
    "        print('m3 method')\n",
    "    def m4(self):\n",
    "        print('m4 method')\n",
    "c=C()\n",
    "c.m1()\n",
    "c.m2()\n",
    "c.m3()"
   ]
  },
  {
   "cell_type": "code",
   "execution_count": 19,
   "id": "8fc61801-fe52-4f87-8388-0411d36a4320",
   "metadata": {},
   "outputs": [
    {
     "name": "stdout",
     "output_type": "stream",
     "text": [
      "Hello\n",
      "m2 method\n",
      "m3 method\n",
      "m3 method\n"
     ]
    }
   ],
   "source": [
    "from abc import *\n",
    "class P(ABC):\n",
    "    def m1(self):\n",
    "        print('Hello')\n",
    "    @abstractmethod\n",
    "    def m2(self):\n",
    "        pass\n",
    "    @abstractmethod\n",
    "    def m3(self):\n",
    "        pass\n",
    "\n",
    "class C(P):\n",
    "    def m2(self):\n",
    "        print('m2 method')\n",
    "    def m3(self):\n",
    "        print('m3 method')\n",
    "    def m4(self):\n",
    "        print('m4 method')\n",
    "\n",
    "class CC(C):\n",
    "    def m2(self):\n",
    "        print('m3 method')\n",
    "c=C()\n",
    "c.m1()\n",
    "c.m2()\n",
    "c.m3()\n",
    "d=CC()\n",
    "d.m2()"
   ]
  },
  {
   "cell_type": "code",
   "execution_count": null,
   "id": "ab5a8b2d-4c25-4561-bafb-0bb3d7255e04",
   "metadata": {},
   "outputs": [],
   "source": []
  },
  {
   "cell_type": "code",
   "execution_count": null,
   "id": "e767f309-46a1-48d7-b11d-7ab2c9c769ea",
   "metadata": {},
   "outputs": [],
   "source": [
    "# Interface"
   ]
  },
  {
   "cell_type": "code",
   "execution_count": 20,
   "id": "5ee2bba5-9249-42a6-a383-b89f24116a1a",
   "metadata": {},
   "outputs": [
    {
     "ename": "TypeError",
     "evalue": "Can't instantiate abstract class Durgasoft with abstract method updateStudentMarks",
     "output_type": "error",
     "traceback": [
      "\u001b[1;31m---------------------------------------------------------------------------\u001b[0m",
      "\u001b[1;31mTypeError\u001b[0m                                 Traceback (most recent call last)",
      "Cell \u001b[1;32mIn[20], line 17\u001b[0m\n\u001b[0;32m     13\u001b[0m     \u001b[38;5;129m@abstractmethod\u001b[39m\n\u001b[0;32m     14\u001b[0m     \u001b[38;5;28;01mdef\u001b[39;00m \u001b[38;5;21mupdateStudentMarks\u001b[39m(\u001b[38;5;28mself\u001b[39m):\n\u001b[0;32m     15\u001b[0m         \u001b[38;5;28mprint\u001b[39m(\u001b[38;5;124m'\u001b[39m\u001b[38;5;124mupdateStudentMarks executing\u001b[39m\u001b[38;5;124m'\u001b[39m)\n\u001b[1;32m---> 17\u001b[0m d\u001b[38;5;241m=\u001b[39mDurgasoft()\n\u001b[0;32m     18\u001b[0m d\u001b[38;5;241m.\u001b[39mgetStudentMarks()\n\u001b[0;32m     19\u001b[0m d\u001b[38;5;241m.\u001b[39mupdateStudentMarks()\n",
      "\u001b[1;31mTypeError\u001b[0m: Can't instantiate abstract class Durgasoft with abstract method updateStudentMarks"
     ]
    }
   ],
   "source": [
    "from abc import *\n",
    "class College(ABC):\n",
    "    @abstractmethod\n",
    "    def getStudentMarks(self):\n",
    "        pass\n",
    "    @abstractmethod\n",
    "    def updateStudentMarks(self):\n",
    "        pass\n",
    "\n",
    "class Durgasoft(College):\n",
    "    def getStudentMarks(self):\n",
    "        print('getStudentMarks executing')\n",
    "    @abstractmethod\n",
    "    def updateStudentMarks(self):\n",
    "        print('updateStudentMarks executing')\n",
    "\n",
    "d=Durgasoft()\n",
    "d.getStudentMarks()\n",
    "d.updateStudentMarks()"
   ]
  },
  {
   "cell_type": "code",
   "execution_count": null,
   "id": "07e5035d-912c-4155-8814-d9e9e1dd9661",
   "metadata": {},
   "outputs": [],
   "source": []
  }
 ],
 "metadata": {
  "kernelspec": {
   "display_name": "Python 3 (ipykernel)",
   "language": "python",
   "name": "python3"
  },
  "language_info": {
   "codemirror_mode": {
    "name": "ipython",
    "version": 3
   },
   "file_extension": ".py",
   "mimetype": "text/x-python",
   "name": "python",
   "nbconvert_exporter": "python",
   "pygments_lexer": "ipython3",
   "version": "3.11.7"
  }
 },
 "nbformat": 4,
 "nbformat_minor": 5
}
