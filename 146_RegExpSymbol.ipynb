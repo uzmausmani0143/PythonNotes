{
 "cells": [
  {
   "cell_type": "markdown",
   "id": "247c1890-20ea-4f2d-af0d-02c407af19c6",
   "metadata": {},
   "source": [
    "# ^ symbol and & symbol"
   ]
  },
  {
   "cell_type": "markdown",
   "id": "86b3e891-4c7c-4759-9467-cf2d2027c0e9",
   "metadata": {},
   "source": [
    "## ^ Symbol--->start with\n",
    "- eg.- re.search('^Learn','targetstring')--->starts with Learn\n",
    "- s=re.search('[^ab]','targetstring')"
   ]
  },
  {
   "cell_type": "code",
   "execution_count": 1,
   "id": "5f6f8108-d880-40b7-a602-fd456ec00017",
   "metadata": {},
   "outputs": [
    {
     "name": "stdout",
     "output_type": "stream",
     "text": [
      "Target string starts with our pattern\n"
     ]
    }
   ],
   "source": [
    "import re\n",
    "\n",
    "s=re.search('^Learn','Learning Python is very easy')\n",
    "if s is not None:\n",
    "    print('Target string starts with our pattern')\n",
    "else:\n",
    "     print('Target string not starts with our pattern')"
   ]
  },
  {
   "cell_type": "code",
   "execution_count": 2,
   "id": "9085ba58-1c78-4730-98bf-2bda9975e468",
   "metadata": {},
   "outputs": [
    {
     "name": "stdout",
     "output_type": "stream",
     "text": [
      "Target string not starts with our pattern\n"
     ]
    }
   ],
   "source": [
    "import re\n",
    "\n",
    "s=re.search('^learn','Learning Python is very easy')\n",
    "if s is not None:\n",
    "    print('Target string starts with our pattern')\n",
    "else:\n",
    "     print('Target string not starts with our pattern')"
   ]
  },
  {
   "cell_type": "code",
   "execution_count": 3,
   "id": "29b01ab0-bb8d-4b54-9d07-552ccad38746",
   "metadata": {},
   "outputs": [
    {
     "name": "stdout",
     "output_type": "stream",
     "text": [
      "Target string starts with our pattern\n"
     ]
    }
   ],
   "source": [
    "import re\n",
    "\n",
    "s=re.match('Learn','Learning Python is very easy') # lowercase\n",
    "if s is not None:\n",
    "    print('Target string starts with our pattern')\n",
    "else:\n",
    "     print('Target string not starts with our pattern')"
   ]
  },
  {
   "cell_type": "code",
   "execution_count": null,
   "id": "d7b14d52-4aca-41f3-90ba-4c14da8626da",
   "metadata": {},
   "outputs": [],
   "source": [
    "## $ Symbol \n",
    "- $ means ends with\n",
    "- eg.- re.search('easy$','Learning Python is very easy')"
   ]
  },
  {
   "cell_type": "code",
   "execution_count": 9,
   "id": "ee0583e1-ce4d-48aa-a91c-1b1ff2451ce5",
   "metadata": {},
   "outputs": [
    {
     "name": "stdout",
     "output_type": "stream",
     "text": [
      "Target string not ends with our pattern\n"
     ]
    }
   ],
   "source": [
    "import re\n",
    "s=re.search('easy$','Learning Python is very easy') # lowercase\n",
    "if s is not None:\n",
    "    print('Target string ends with our pattern')\n",
    "else:\n",
    "     print('Target string not ends with our pattern')"
   ]
  },
  {
   "cell_type": "code",
   "execution_count": 14,
   "id": "9d72f21d-f793-4155-b929-367743d0cab3",
   "metadata": {},
   "outputs": [
    {
     "name": "stdout",
     "output_type": "stream",
     "text": [
      "Target string not ends with our pattern\n"
     ]
    }
   ],
   "source": [
    "import re\n",
    "s=re.search('Easy$','Learning Python is very easy') # upperclass\n",
    "if s is not None:\n",
    "    print('Target string ends with our pattern')\n",
    "else:\n",
    "     print('Target string not ends with our pattern')"
   ]
  },
  {
   "cell_type": "markdown",
   "id": "c04e8b8a-698f-4122-b867-45bb66ca0c29",
   "metadata": {},
   "source": [
    "# Ignore case with re.IGNORECASE"
   ]
  },
  {
   "cell_type": "code",
   "execution_count": 15,
   "id": "8249a79f-49b0-4ef8-97bd-5ffac5723497",
   "metadata": {},
   "outputs": [
    {
     "name": "stdout",
     "output_type": "stream",
     "text": [
      "Target string ends with our pattern\n"
     ]
    }
   ],
   "source": [
    "import re\n",
    "s=re.search('Easy$','Learning Python is very easy',re.IGNORECASE) # upperclass\n",
    "if s is not None:\n",
    "    print('Target string ends with our pattern')\n",
    "else:\n",
    "     print('Target string not ends with our pattern')"
   ]
  },
  {
   "cell_type": "markdown",
   "id": "fc07e939-5559-4076-bbcf-77a01ffafe40",
   "metadata": {},
   "source": [
    "## Q.Writer a Regular Expression to represent all YAVA langugae Identifiers.\n",
    "### Rules:\n",
    "1. The allowed characters are: a-z,A-Z,0-9,#\n",
    "2. The first character should be a lower case alphabet symbol from a to k.\n",
    "3. The second character should be a digit divisible by 3.\n",
    "4. The length of identifier should be atleast 2."
   ]
  },
  {
   "cell_type": "code",
   "execution_count": 19,
   "id": "1e957710-dafe-42c8-91dc-476c68a24f0e",
   "metadata": {},
   "outputs": [
    {
     "name": "stdout",
     "output_type": "stream",
     "text": [
      "Not matched with the string\n"
     ]
    }
   ],
   "source": [
    "import re\n",
    "pattern=re.compile('[a-k][0369][a-zA-Z0-9#]*')\n",
    "match=re.match(pattern,'afjdsfsdj565')\n",
    "if match is not None:\n",
    "    print(f'Matched')\n",
    "\n",
    "else:\n",
    "    print(f'Not matched with the string')"
   ]
  },
  {
   "cell_type": "markdown",
   "id": "2dabdbcc-0d54-4db1-ae2c-961209598d19",
   "metadata": {},
   "source": [
    "- [a-zA-Z0-9#]*--->We take character any number of times including zero times.\n",
    "- [a-zA-Z0-9#]+--->We can take character atleast once\n",
    "- [a-zA-Z0-9#]--->exactly once\n",
    "- [a-zA-Z0-9#]?--->atmost once (eithre one time or zero times)"
   ]
  },
  {
   "cell_type": "markdown",
   "id": "15250d9b-b7bb-4a73-a6d7-4fd367331f68",
   "metadata": {},
   "source": [
    "# Q.WAP to check whether the given string is YAVA language identifier or not."
   ]
  },
  {
   "cell_type": "code",
   "execution_count": 23,
   "id": "02c03791-c4bd-4b60-9ddc-b3fe4d8272ac",
   "metadata": {},
   "outputs": [
    {
     "name": "stdin",
     "output_type": "stream",
     "text": [
      "Enter Any Identifier to check a6hgj\n"
     ]
    },
    {
     "name": "stdout",
     "output_type": "stream",
     "text": [
      "Valid YAVA language Identifier\n"
     ]
    }
   ],
   "source": [
    "import re\n",
    "target=input('Enter Any Identifier to check')\n",
    "pattern='[a-k][0369][a-zA-Z0-9#]*'\n",
    "match=re.fullmatch(pattern,target)\n",
    "if match is not None:\n",
    "    print(f'Valid YAVA language Identifier')\n",
    "\n",
    "else:\n",
    "    print(f'Invalid YAVA language Identifier')"
   ]
  },
  {
   "cell_type": "markdown",
   "id": "2d697afc-88d8-428b-9778-19dd5e09cc74",
   "metadata": {},
   "source": [
    "## Q.Write a regular expression to represent all 10 digit mobile numbers.\n",
    "### Rules\n",
    "1. The number should contains exactly 10 digits.\n",
    "2. The first digit should be from 6 to 9 only.\n"
   ]
  },
  {
   "cell_type": "code",
   "execution_count": 25,
   "id": "2a2518ce-86c1-4c0a-b3d5-3498053122e2",
   "metadata": {},
   "outputs": [
    {
     "name": "stdin",
     "output_type": "stream",
     "text": [
      "Enter Any Number to check: 9874563215\n"
     ]
    },
    {
     "name": "stdout",
     "output_type": "stream",
     "text": [
      "Valid Mobile Number\n"
     ]
    }
   ],
   "source": [
    "import re\n",
    "target=input('Enter Any Number to check:')\n",
    "pattern='[6-9]\\d{9}'\n",
    "match=re.fullmatch(pattern,target)\n",
    "if match is not None:\n",
    "    print(f'Valid Mobile Number')\n",
    "\n",
    "else:\n",
    "    print(f'Invalid Mobile Number')"
   ]
  },
  {
   "cell_type": "markdown",
   "id": "80a9ba9a-9dc0-473c-b66c-4e8bf094fc5a",
   "metadata": {},
   "source": [
    "## 10-digit or 11-digit or 12-digit\n",
    "- if it is 11 digit then the first digit should be :0\n",
    "- if it is 12 digit then the first two digits should be:91"
   ]
  },
  {
   "cell_type": "code",
   "execution_count": 34,
   "id": "dcc58728-f90d-44ea-86ef-9aae2471844e",
   "metadata": {},
   "outputs": [
    {
     "name": "stdin",
     "output_type": "stream",
     "text": [
      "Enter Any Number to check: 9369258147\n"
     ]
    },
    {
     "name": "stdout",
     "output_type": "stream",
     "text": [
      "Invalid Mobile Number\n"
     ]
    }
   ],
   "source": [
    "import re\n",
    "target=input('Enter Any Number to check:')\n",
    "pattern='([6-9][\\d]{9}) | (91[6-9][\\d]{9}) | (0[6-9][\\d]{9})'\n",
    "match=re.fullmatch(pattern,target)\n",
    "if match is not None:\n",
    "    print(f'Valid Mobile Number')\n",
    "\n",
    "else:\n",
    "    print(f'Invalid Mobile Number')"
   ]
  },
  {
   "cell_type": "markdown",
   "id": "04ead894-eec5-4f36-8420-f3c2515dac7d",
   "metadata": {},
   "source": [
    "- '[9][1][6-9]\\d{9}'\n",
    "- '[0][6-9]\\d{9}'\n",
    "- '(0|91)?[6-9][0-9]{9}'"
   ]
  },
  {
   "cell_type": "code",
   "execution_count": 32,
   "id": "2c0b2d89-4763-431f-839f-26baf42fa419",
   "metadata": {},
   "outputs": [
    {
     "name": "stdin",
     "output_type": "stream",
     "text": [
      "Enter Any Number to check: 9369258147\n"
     ]
    },
    {
     "name": "stdout",
     "output_type": "stream",
     "text": [
      "Valid Mobile Number\n"
     ]
    }
   ],
   "source": [
    "import re\n",
    "target=input('Enter Any Number to check:')\n",
    "pattern='([6-9][0-9]{9})|(91[6-9][0-9]{9})|(0[6-9][0-9]{9})'\n",
    "match=re.fullmatch(pattern,target)\n",
    "if match is not None:\n",
    "    print(f'Valid Mobile Number')\n",
    "\n",
    "else:\n",
    "    print(f'Invalid Mobile Number')"
   ]
  },
  {
   "cell_type": "markdown",
   "id": "f3a3baaa-2036-49ef-801d-f894ad9835ec",
   "metadata": {},
   "source": [
    "## Q.WAP to extract all mobile numbers present in input.txt where numbers are mixed with normal text data."
   ]
  },
  {
   "cell_type": "code",
   "execution_count": 39,
   "id": "79726db7-ba11-424e-beb4-f635141d63b8",
   "metadata": {},
   "outputs": [
    {
     "name": "stdout",
     "output_type": "stream",
     "text": [
      "[('9865412378', '', '')]\n"
     ]
    },
    {
     "ename": "TypeError",
     "evalue": "can only concatenate tuple (not \"str\") to tuple",
     "output_type": "error",
     "traceback": [
      "\u001b[1;31m---------------------------------------------------------------------------\u001b[0m",
      "\u001b[1;31mTypeError\u001b[0m                                 Traceback (most recent call last)",
      "Cell \u001b[1;32mIn[39], line 9\u001b[0m\n\u001b[0;32m      7\u001b[0m     \u001b[38;5;28mprint\u001b[39m(ls)\n\u001b[0;32m      8\u001b[0m     \u001b[38;5;28;01mfor\u001b[39;00m n \u001b[38;5;129;01min\u001b[39;00m ls:\n\u001b[1;32m----> 9\u001b[0m         f2\u001b[38;5;241m.\u001b[39mwrite(n\u001b[38;5;241m+\u001b[39m\u001b[38;5;124m'\u001b[39m\u001b[38;5;130;01m\\n\u001b[39;00m\u001b[38;5;124m'\u001b[39m)\n\u001b[0;32m     11\u001b[0m f2\u001b[38;5;241m.\u001b[39mclose()\n\u001b[0;32m     12\u001b[0m f2\u001b[38;5;241m.\u001b[39mclose()\n",
      "\u001b[1;31mTypeError\u001b[0m: can only concatenate tuple (not \"str\") to tuple"
     ]
    }
   ],
   "source": [
    "import re\n",
    "f1=open('phonenumber.txt','r')\n",
    "f2=open('mobile_numbers.txt','w')\n",
    "pattern='([6-9][0-9]{9})|(91[6-9][0-9]{9})|(0[6-9][0-9]{9})'\n",
    "for line in f1:\n",
    "    ls = re.findall(pattern,line)\n",
    "    print(ls)\n",
    "    for n in ls:\n",
    "        f2.write(n+'\\n')\n",
    "\n",
    "f2.close()\n",
    "f2.close()\n",
    "print('Extraction completed.Open file to see results.')"
   ]
  },
  {
   "cell_type": "code",
   "execution_count": 40,
   "id": "d3342954-6722-418d-a674-5cb99ba95c64",
   "metadata": {},
   "outputs": [
    {
     "name": "stdout",
     "output_type": "stream",
     "text": [
      "Extraction completed. Open file to see results.\n"
     ]
    }
   ],
   "source": [
    "import re\n",
    "\n",
    "f1 = open('phonenumber.txt', 'r')\n",
    "f2 = open('mobile_numbers.txt', 'w')\n",
    "pattern = r'([6-9][0-9]{9})|(91[6-9][0-9]{9})|(0[6-9][0-9]{9})'\n",
    "\n",
    "for line in f1:\n",
    "    matches = re.findall(pattern, line)\n",
    "    for match in matches:\n",
    "        for num in match:\n",
    "            if num:\n",
    "                f2.write(num + '\\n')\n",
    "\n",
    "f1.close()\n",
    "f2.close()\n",
    "print('Extraction completed. Open file to see results.')\n"
   ]
  },
  {
   "cell_type": "code",
   "execution_count": null,
   "id": "41caeff3-3374-4a7c-a92b-cc2df26264c3",
   "metadata": {},
   "outputs": [],
   "source": []
  }
 ],
 "metadata": {
  "kernelspec": {
   "display_name": "Python 3 (ipykernel)",
   "language": "python",
   "name": "python3"
  },
  "language_info": {
   "codemirror_mode": {
    "name": "ipython",
    "version": 3
   },
   "file_extension": ".py",
   "mimetype": "text/x-python",
   "name": "python",
   "nbconvert_exporter": "python",
   "pygments_lexer": "ipython3",
   "version": "3.11.7"
  }
 },
 "nbformat": 4,
 "nbformat_minor": 5
}
