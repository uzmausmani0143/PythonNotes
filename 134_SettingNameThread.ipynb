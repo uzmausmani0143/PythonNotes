{
 "cells": [
  {
   "cell_type": "code",
   "execution_count": 2,
   "id": "f12f2e1a-c094-4827-824b-74fc3cb9c577",
   "metadata": {},
   "outputs": [
    {
     "name": "stdout",
     "output_type": "stream",
     "text": [
      "{50, 60, 90}\n"
     ]
    }
   ],
   "source": [
    "i={50,60}\n",
    "i.add(90)\n",
    "print(i)"
   ]
  },
  {
   "cell_type": "markdown",
   "id": "68763074-8bab-4abe-aae6-62317eb4f951",
   "metadata": {},
   "source": [
    "# Setting Name of a thread"
   ]
  },
  {
   "cell_type": "code",
   "execution_count": 5,
   "id": "8247ecc3-502e-4564-95f9-ca41e6c88381",
   "metadata": {},
   "outputs": [
    {
     "name": "stdout",
     "output_type": "stream",
     "text": [
      "MainThread\n",
      "ML\n"
     ]
    },
    {
     "name": "stderr",
     "output_type": "stream",
     "text": [
      "C:\\Users\\NSTIB34\\AppData\\Local\\Temp\\ipykernel_12244\\1741741416.py:2: DeprecationWarning: getName() is deprecated, get the name attribute instead\n",
      "  print(current_thread().getName())\n",
      "C:\\Users\\NSTIB34\\AppData\\Local\\Temp\\ipykernel_12244\\1741741416.py:3: DeprecationWarning: setName() is deprecated, set the name attribute instead\n",
      "  current_thread().setName('ML')\n",
      "C:\\Users\\NSTIB34\\AppData\\Local\\Temp\\ipykernel_12244\\1741741416.py:4: DeprecationWarning: getName() is deprecated, get the name attribute instead\n",
      "  print(current_thread().getName())\n"
     ]
    }
   ],
   "source": [
    "from threading import *\n",
    "print(current_thread().getName())\n",
    "current_thread().setName('ML')\n",
    "print(current_thread().getName())"
   ]
  },
  {
   "cell_type": "code",
   "execution_count": 7,
   "id": "c9cb4288-1fc7-4d5e-80b3-13e787b521b9",
   "metadata": {},
   "outputs": [
    {
     "name": "stdout",
     "output_type": "stream",
     "text": [
      "The child Thread Name: Bunny Thread\n",
      "The child Thread Name: Chinny Thread\n"
     ]
    },
    {
     "name": "stderr",
     "output_type": "stream",
     "text": [
      "C:\\Users\\NSTIB34\\AppData\\Local\\Temp\\ipykernel_12244\\3814283501.py:6: DeprecationWarning: setName() is deprecated, set the name attribute instead\n",
      "  t.setName('Bunny Thread')\n",
      "C:\\Users\\NSTIB34\\AppData\\Local\\Temp\\ipykernel_12244\\3814283501.py:3: DeprecationWarning: getName() is deprecated, get the name attribute instead\n",
      "  print('The child Thread Name:',current_thread().getName())\n",
      "C:\\Users\\NSTIB34\\AppData\\Local\\Temp\\ipykernel_12244\\3814283501.py:10: DeprecationWarning: setName() is deprecated, set the name attribute instead\n",
      "  t1.setName('Chinny Thread')\n"
     ]
    }
   ],
   "source": [
    "from threading import *\n",
    "def display():\n",
    "    print('The child Thread Name:',current_thread().getName())\n",
    "\n",
    "t=Thread(target=display)\n",
    "t.setName('Bunny Thread')\n",
    "t.start()\n",
    "\n",
    "t1=Thread(target=display)\n",
    "t1.setName('Chinny Thread')\n",
    "t1.start()"
   ]
  },
  {
   "cell_type": "code",
   "execution_count": 10,
   "id": "1e79a932-d563-46d3-a688-9028e5dba966",
   "metadata": {},
   "outputs": [
    {
     "name": "stdout",
     "output_type": "stream",
     "text": [
      "Child Thread\n",
      "The Child Thread identification Number: 13200\n",
      "The Main Thread identification Number: 13200\n"
     ]
    }
   ],
   "source": [
    "from threading import *\n",
    "def Test():\n",
    "    print('Child Thread')\n",
    "\n",
    "t=Thread(target=Test)\n",
    "t.start()\n",
    "print('The Child Thread identification Number:',current_thread().ident)\n",
    "print('The Main Thread identification Number:',current_thread().ident)"
   ]
  },
  {
   "cell_type": "markdown",
   "id": "f3eb7028-8859-477e-8b7a-c3380bcf70b9",
   "metadata": {},
   "source": [
    "# active_count()"
   ]
  },
  {
   "cell_type": "code",
   "execution_count": 18,
   "id": "bec8718f-0e8b-469d-a8b5-642a54b097ce",
   "metadata": {},
   "outputs": [
    {
     "name": "stdout",
     "output_type": "stream",
     "text": [
      "The Number of active threads: 9\n",
      "ChildThread1 started\n",
      "ChildThread2 started\n",
      "ChildThread3 started\n",
      "The Number of active threads: 12\n"
     ]
    },
    {
     "name": "stderr",
     "output_type": "stream",
     "text": [
      "C:\\Users\\NSTIB34\\AppData\\Local\\Temp\\ipykernel_12244\\806203505.py:5: DeprecationWarning: getName() is deprecated, get the name attribute instead\n",
      "  print(f'{current_thread().getName()} started')\n",
      "C:\\Users\\NSTIB34\\AppData\\Local\\Temp\\ipykernel_12244\\806203505.py:7: DeprecationWarning: getName() is deprecated, get the name attribute instead\n",
      "  print(f'{current_thread().getName()} ended')\n"
     ]
    },
    {
     "name": "stdout",
     "output_type": "stream",
     "text": [
      "ChildThread1 ended\n",
      "ChildThread3 ended\n",
      "ChildThread2 ended\n",
      "The Number of active threads: 9\n"
     ]
    }
   ],
   "source": [
    "from threading import *\n",
    "import time\n",
    "\n",
    "def display1():\n",
    "    print(f'{current_thread().getName()} started')\n",
    "    time.sleep(3)\n",
    "    print(f'{current_thread().getName()} ended')\n",
    "\n",
    "print('The Number of active threads:',active_count())\n",
    "t1=Thread(target=display1,name='ChildThread1')\n",
    "t2=Thread(target=display1,name='ChildThread2')\n",
    "t3=Thread(target=display1,name='ChildThread3')\n",
    "t1.start()\n",
    "t2.start()\n",
    "t3.start()\n",
    "print('The Number of active threads:',active_count())\n",
    "time.sleep(5)\n",
    "print('The Number of active threads:',active_count())\n"
   ]
  },
  {
   "cell_type": "markdown",
   "id": "8ac930e1-6478-4408-913d-f12010246474",
   "metadata": {},
   "source": [
    "# enumerate()"
   ]
  },
  {
   "cell_type": "code",
   "execution_count": 21,
   "id": "75f90ca5-cd0c-45ae-b562-f0bc9beddf6d",
   "metadata": {},
   "outputs": [
    {
     "name": "stderr",
     "output_type": "stream",
     "text": [
      "C:\\Users\\NSTIB34\\AppData\\Local\\Temp\\ipykernel_12244\\806203505.py:5: DeprecationWarning: getName() is deprecated, get the name attribute instead\n",
      "  print(f'{current_thread().getName()} started')\n"
     ]
    },
    {
     "name": "stdout",
     "output_type": "stream",
     "text": [
      "ChildThread1 started\n",
      "ChildThread2 started\n",
      "ChildThread3 started\n"
     ]
    },
    {
     "name": "stderr",
     "output_type": "stream",
     "text": [
      "C:\\Users\\NSTIB34\\AppData\\Local\\Temp\\ipykernel_12244\\806203505.py:7: DeprecationWarning: getName() is deprecated, get the name attribute instead\n",
      "  print(f'{current_thread().getName()} ended')\n"
     ]
    },
    {
     "name": "stdout",
     "output_type": "stream",
     "text": [
      "ChildThread1 ended\n",
      "ChildThread2 ended\n",
      "ChildThread3 ended\n",
      "[<_MainThread(ML, started 13200)>, <Thread(Tornado selector, started daemon 9560)>, <Thread(Tornado selector, started daemon 12340)>, <Thread(IOPub, started daemon 1240)>, <Heartbeat(Heartbeat, started daemon 9788)>, <Thread(Tornado selector, started daemon 8156)>, <ControlThread(Control, started daemon 11644)>, <HistorySavingThread(IPythonHistorySavingThread, started 14856)>, <ParentPollerWindows(Thread-4, started daemon 13968)>]\n",
      "Name:ML,Identification Number:13200\n",
      "Name:Tornado selector,Identification Number:9560\n",
      "Name:Tornado selector,Identification Number:12340\n",
      "Name:IOPub,Identification Number:1240\n",
      "Name:Heartbeat,Identification Number:9788\n",
      "Name:Tornado selector,Identification Number:8156\n",
      "Name:Control,Identification Number:11644\n",
      "Name:IPythonHistorySavingThread,Identification Number:14856\n",
      "Name:Thread-4,Identification Number:13968\n"
     ]
    },
    {
     "name": "stderr",
     "output_type": "stream",
     "text": [
      "C:\\Users\\NSTIB34\\AppData\\Local\\Temp\\ipykernel_12244\\1916720999.py:19: DeprecationWarning: getName() is deprecated, get the name attribute instead\n",
      "  print(f'Name:{t.getName()},Identification Number:{t.ident}')\n"
     ]
    }
   ],
   "source": [
    "from threading import *\n",
    "import time\n",
    "\n",
    "def display():\n",
    "    print(f'{current_thread().getName()} started')\n",
    "    time.sleep(3)\n",
    "    print(f'{current_thread().getName()} ended')\n",
    "\n",
    "t1=Thread(target=display1,name='ChildThread1')\n",
    "t2=Thread(target=display1,name='ChildThread2')\n",
    "t3=Thread(target=display1,name='ChildThread3')\n",
    "t1.start()\n",
    "t2.start()\n",
    "t3.start()\n",
    "time.sleep(10)\n",
    "l=enumerate()\n",
    "print(l)\n",
    "for t in l:\n",
    "    print(f'Name:{t.getName()},Identification Number:{t.ident}')"
   ]
  },
  {
   "cell_type": "markdown",
   "id": "b7c1d955-8ed0-464b-8c8d-8c92de4a208f",
   "metadata": {},
   "source": [
    "# isAlive/is_alive()"
   ]
  },
  {
   "cell_type": "code",
   "execution_count": 25,
   "id": "1acb52f1-cc0b-4b69-a3e0-727a5ff7ed26",
   "metadata": {},
   "outputs": [
    {
     "name": "stderr",
     "output_type": "stream",
     "text": [
      "C:\\Users\\NSTIB34\\AppData\\Local\\Temp\\ipykernel_12244\\3958970972.py:4: DeprecationWarning: getName() is deprecated, get the name attribute instead\n",
      "  print(f'{current_thread().getName()} started')\n",
      "C:\\Users\\NSTIB34\\AppData\\Local\\Temp\\ipykernel_12244\\3958970972.py:12: DeprecationWarning: getName() is deprecated, get the name attribute instead\n",
      "  print(f'{t1.getName()} is Alive: {t1.is_alive()}')\n",
      "C:\\Users\\NSTIB34\\AppData\\Local\\Temp\\ipykernel_12244\\3958970972.py:13: DeprecationWarning: getName() is deprecated, get the name attribute instead\n",
      "  print(f'{t2.getName()} is Alive: {t2.is_alive()}')\n"
     ]
    },
    {
     "name": "stdout",
     "output_type": "stream",
     "text": [
      "ChildThread1 started\n",
      "ChildThread2 started\n",
      "ChildThread1 is Alive: True\n",
      "ChildThread2 is Alive: True\n"
     ]
    },
    {
     "name": "stderr",
     "output_type": "stream",
     "text": [
      "C:\\Users\\NSTIB34\\AppData\\Local\\Temp\\ipykernel_12244\\3958970972.py:6: DeprecationWarning: getName() is deprecated, get the name attribute instead\n",
      "  print(f'{current_thread().getName()} ended')\n"
     ]
    },
    {
     "name": "stdout",
     "output_type": "stream",
     "text": [
      "ChildThread1 ended\n",
      "ChildThread2 ended\n",
      "ChildThread1 is Alive: False\n",
      "ChildThread2 is Alive: False\n"
     ]
    },
    {
     "name": "stderr",
     "output_type": "stream",
     "text": [
      "C:\\Users\\NSTIB34\\AppData\\Local\\Temp\\ipykernel_12244\\3958970972.py:15: DeprecationWarning: getName() is deprecated, get the name attribute instead\n",
      "  print(f'{t1.getName()} is Alive: {t1.is_alive()}')\n",
      "C:\\Users\\NSTIB34\\AppData\\Local\\Temp\\ipykernel_12244\\3958970972.py:16: DeprecationWarning: getName() is deprecated, get the name attribute instead\n",
      "  print(f'{t2.getName()} is Alive: {t2.is_alive()}')\n"
     ]
    }
   ],
   "source": [
    "from threading import *\n",
    "import time\n",
    "def display():\n",
    "    print(f'{current_thread().getName()} started')\n",
    "    time.sleep(3)\n",
    "    print(f'{current_thread().getName()} ended')\n",
    "\n",
    "t1=Thread(target=display,name='ChildThread1')\n",
    "t2=Thread(target=display,name='ChildThread2')\n",
    "t1.start()\n",
    "t2.start()\n",
    "print(f'{t1.getName()} is Alive: {t1.is_alive()}')\n",
    "print(f'{t2.getName()} is Alive: {t2.is_alive()}')\n",
    "time.sleep(10)\n",
    "print(f'{t1.getName()} is Alive: {t1.is_alive()}')\n",
    "print(f'{t2.getName()} is Alive: {t2.is_alive()}')"
   ]
  },
  {
   "cell_type": "markdown",
   "id": "95432e6f-2956-43ad-8788-7783d4ec9105",
   "metadata": {},
   "source": [
    "# join()"
   ]
  },
  {
   "cell_type": "code",
   "execution_count": 30,
   "id": "974eb896-f660-4bd0-877b-cf9eda499851",
   "metadata": {},
   "outputs": [
    {
     "name": "stdout",
     "output_type": "stream",
     "text": [
      "Seetha Thread\n",
      "Seetha Thread\n",
      "Seetha Thread\n",
      "Seetha Thread\n",
      "Seetha Thread\n",
      "Seetha Thread\n",
      "Seetha Thread\n",
      "Seetha Thread\n",
      "Seetha Thread\n",
      "Seetha Thread\n",
      "Seetha Thread\n",
      "Seetha Thread\n",
      "Seetha Thread\n",
      "Rama Thread\n",
      "Rama Thread\n",
      "Rama Thread\n",
      "Rama Thread\n",
      "Rama Thread\n",
      "Rama Thread\n",
      "Rama Thread\n",
      "Rama Thread\n",
      "Rama Thread\n",
      "Rama Thread\n"
     ]
    }
   ],
   "source": [
    "from threading import *\n",
    "import time\n",
    "\n",
    "def display():\n",
    "    for i in range(10):\n",
    "        print('Seetha Thread')\n",
    "        time.sleep(2)\n",
    "\n",
    "t=Thread(target=display)\n",
    "t.start()\n",
    "t.join(25) # main thread will wait until completing child thread or max 10 seconds\n",
    "for i in range(10):\n",
    "    print('Rama Thread')"
   ]
  },
  {
   "cell_type": "code",
   "execution_count": null,
   "id": "025c209b-fae1-4e5d-b72a-6d2f78ca2c1b",
   "metadata": {},
   "outputs": [],
   "source": []
  },
  {
   "cell_type": "code",
   "execution_count": null,
   "id": "f5fef924-dd78-4cbf-8f77-1b5d4243b31c",
   "metadata": {},
   "outputs": [],
   "source": []
  },
  {
   "cell_type": "code",
   "execution_count": null,
   "id": "b005e5da-bfa8-45f1-a25c-ab1bb51b7779",
   "metadata": {},
   "outputs": [],
   "source": []
  }
 ],
 "metadata": {
  "kernelspec": {
   "display_name": "Python 3 (ipykernel)",
   "language": "python",
   "name": "python3"
  },
  "language_info": {
   "codemirror_mode": {
    "name": "ipython",
    "version": 3
   },
   "file_extension": ".py",
   "mimetype": "text/x-python",
   "name": "python",
   "nbconvert_exporter": "python",
   "pygments_lexer": "ipython3",
   "version": "3.11.7"
  }
 },
 "nbformat": 4,
 "nbformat_minor": 5
}
