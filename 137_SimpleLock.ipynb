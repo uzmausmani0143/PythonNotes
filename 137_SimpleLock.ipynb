{
 "cells": [
  {
   "cell_type": "markdown",
   "id": "7a925afc-4222-47ca-977f-166e7deebd07",
   "metadata": {},
   "source": [
    "# Simple Lock"
   ]
  },
  {
   "cell_type": "code",
   "execution_count": null,
   "id": "77504e71-12f7-471a-9cd0-07735592d931",
   "metadata": {},
   "outputs": [
    {
     "name": "stdout",
     "output_type": "stream",
     "text": [
      "Main Thread trying to acquire lock\n",
      "Main Thread trying to acquire lock again\n"
     ]
    }
   ],
   "source": [
    "from threading import *\n",
    "l=Lock()\n",
    "print('Main Thread trying to acquire lock')\n",
    "l.acquire()\n",
    "print('Main Thread trying to acquire lock again')\n",
    "l.acquire()\n",
    "print('Doing synchronization work')\n",
    "l.release()\n",
    "l.release()"
   ]
  },
  {
   "cell_type": "markdown",
   "id": "92f44024-4277-47c7-bdda-02022deee303",
   "metadata": {},
   "source": [
    "## Rlock--->ReentrantLock\n",
    "- RLock can maintain owner's information.\n",
    "- count--->\n",
    "- acquire()--->increment by 1\n",
    "- release()--->decrement by 1"
   ]
  },
  {
   "cell_type": "code",
   "execution_count": null,
   "id": "85308b97-3a52-43cc-bc1c-cf7ba0d14c91",
   "metadata": {},
   "outputs": [],
   "source": [
    "from threading import *\n",
    "r=RLock()\n",
    "print('Main Thread trying to acquire lock')\n",
    "r.acquire()\n",
    "print('Main Thread trying to acquire lock again')\n",
    "r.acquire()\n",
    "print('Doing synchronization work')\n",
    "r.release()\n",
    "r.release()\n",
    "print(current_thread().getName())"
   ]
  },
  {
   "cell_type": "markdown",
   "id": "1f295594-89a7-4265-a890-d5b220bd053c",
   "metadata": {},
   "source": [
    "# Demo program for synchronization by using RLock\n",
    "1. acquire()"
   ]
  },
  {
   "cell_type": "code",
   "execution_count": 1,
   "id": "428aea4f-a2ad-478d-9d31-d04f169b5305",
   "metadata": {},
   "outputs": [
    {
     "name": "stdout",
     "output_type": "stream",
     "text": [
      "The factorial of 5 is 120\n",
      "The factorial of 7 is 5040\n"
     ]
    }
   ],
   "source": [
    "from threading import *\n",
    "import time\n",
    "\n",
    "def factorial(n):\n",
    "    if n==0:\n",
    "        result=1\n",
    "    else:\n",
    "        result=n*factorial(n-1)\n",
    "    return result\n",
    "\n",
    "def results(n):\n",
    "    print(f'The factorial of {n} is {factorial(n)}')\n",
    "\n",
    "t1=Thread(target=results,args=(5,))\n",
    "t2=Thread(target=results,args=(7,))\n",
    "t1.start()\n",
    "t2.start()"
   ]
  },
  {
   "cell_type": "code",
   "execution_count": 3,
   "id": "548de09e-c0a4-4500-acb3-2c76706526e6",
   "metadata": {},
   "outputs": [
    {
     "name": "stdout",
     "output_type": "stream",
     "text": [
      "The factorial of 5 is 120\n",
      "The factorial of 7 is 5040\n"
     ]
    }
   ],
   "source": [
    "from threading import *\n",
    "import time\n",
    "l=RLock()\n",
    "def factorial(n):\n",
    "    l.acquire()\n",
    "    if n==0:\n",
    "        result=1\n",
    "    else:\n",
    "        result=n*factorial(n-1)\n",
    "    l.release()\n",
    "    return result\n",
    "\n",
    "def results(n):\n",
    "    print(f'The factorial of {n} is {factorial(n)}')\n",
    "\n",
    "t1=Thread(target=results,args=(5,))\n",
    "t2=Thread(target=results,args=(7,))\n",
    "t1.start()\n",
    "t2.start()"
   ]
  },
  {
   "cell_type": "markdown",
   "id": "12830bb2-f1d4-4274-939e-234212a6224b",
   "metadata": {},
   "source": [
    "|                  Lock             |          RLock           |\n",
    "|-----------------------------------|--------------------------|\n",
    "|1. Lock object can be acquired by only one thread at a time.Even owner thread also cannot acquire multiple times.| 1.RLock object can be acquired by only one thread at a time.Owner thread can acquire multiple times.| \n",
    "|                                                         |\n",
    "|2. Recursive functions and nested access calls.          |                          |\n",
    "|                                                         |\n",
    "|3. Only it is locked or unlocked.No tracking for owner thread,recursion level.                            |                          |         \n",
    "\n"
   ]
  },
  {
   "cell_type": "markdown",
   "id": "a20742f4-c985-4193-bbe6-c97895b38d80",
   "metadata": {},
   "source": [
    "# Synchronization by using Semaphore"
   ]
  },
  {
   "cell_type": "markdown",
   "id": "00ac893c-88fc-4bc9-bbf1-520872aa4dfc",
   "metadata": {},
   "source": [
    "Lock/RLock---->At a time only 1 thread\n",
    "- Semaphore can be used to limit the access to the shared resources with limited capacity.\n",
    "- Semaphore is an advanced synchronization mechanism.\n",
    "- s=Semaphore()---> only one member is allowed\n",
    "  - s=Semaphore(2)\n",
    "  - s.acquire()\n",
    "  - s.release()\n",
    "- In Normal Semaphore, number of acquire() and release() calls need not be matched."
   ]
  },
  {
   "cell_type": "code",
   "execution_count": 6,
   "id": "58390298-e7e9-41b9-bd6f-118dce48d8e5",
   "metadata": {},
   "outputs": [
    {
     "name": "stdout",
     "output_type": "stream",
     "text": [
      "Good Morning:Dhoni\n",
      "Good Morning:Dhoni\n",
      "Good Morning:Dhoni\n",
      "Good Morning:Dhoni\n",
      "Good Morning:Dhoni\n",
      "Good Morning:Dhoni\n",
      "Good Morning:Dhoni\n",
      "Good Morning:Dhoni\n",
      "Good Morning:Dhoni\n",
      "Good Morning:Dhoni\n",
      "Good Morning:Good Morning:Yuvraj\n",
      "Good Morning:Kohli\n",
      "Good Morning:Kohli\n",
      "Good Morning:Yuvraj\n",
      "Good Morning:Kohli\n",
      "Good Morning:Yuvraj\n",
      "Good Morning:KohliYuvraj\n",
      "Good Morning:\n",
      "Good Morning:Yuvraj\n",
      "Good Morning:Kohli\n",
      "Good Morning:YuvrajKohli\n",
      "Good Morning:\n",
      "Good Morning:KohliYuvraj\n",
      "Good Morning:\n",
      "Good Morning:KohliYuvraj\n",
      "Good Morning:\n",
      "Good Morning:Yuvraj\n",
      "Good Morning:Kohli\n",
      "Good Morning:Yuvraj\n",
      "Good Morning:Good Morning:Kohli\n",
      "Good Morning:RohitPandya\n",
      "Good Morning:\n",
      "Good Morning:Dravid\n",
      "Good Morning:DravidPandya\n",
      "Good Morning:\n",
      "Good Morning:Rohit\n",
      "Good Morning:Pandya\n",
      "Good Morning:Rohit\n",
      "Good Morning:Dravid\n",
      "Good Morning:PandyaRohit\n",
      "Good Morning:\n",
      "Good Morning:Dravid\n",
      "Good Morning:RohitPandya\n",
      "Good Morning:\n",
      "Good Morning:Dravid\n",
      "Good Morning:PandyaRohit\n",
      "Good Morning:\n",
      "Good Morning:Dravid\n",
      "Good Morning:RohitPandya\n",
      "Good Morning:\n",
      "Good Morning:Dravid\n",
      "Good Morning:PandyaRohit\n",
      "Good Morning:\n",
      "Good Morning:Dravid\n",
      "Good Morning:RohitPandya\n",
      "Good Morning:\n",
      "Good Morning:Dravid\n",
      "Good Morning:Rohit\n",
      "Pandya\n",
      "Dravid\n"
     ]
    }
   ],
   "source": [
    "from threading import *\n",
    "import time\n",
    "s=Semaphore()\n",
    "def wish1(name):\n",
    "    s.acquire()  # for every acquire call, count will be decremented\n",
    "    for i in range(10):\n",
    "        print('Good Morning:',end='')\n",
    "        time.sleep(2)\n",
    "        print(name)\n",
    "    s.release()  # for every release call,count will be incremented like 1,2,4,8,16\n",
    "   \n",
    "t1=Thread(target=wish1,args=('Dhoni',))\n",
    "t2=Thread(target=wish1,args=('Yuvraj',))\n",
    "t3=Thread(target=wish1,args=('Kohli',))\n",
    "t4=Thread(target=wish1,args=('Dravid',))\n",
    "t5=Thread(target=wish1,args=('Rohit',))\n",
    "t6=Thread(target=wish1,args=('Pandya',))\n",
    "t1.start()\n",
    "t2.start()\n",
    "t3.start()\n",
    "t4.start()\n",
    "t5.start()\n",
    "t6.start()"
   ]
  },
  {
   "cell_type": "markdown",
   "id": "2ae782bc-928d-48b6-9ed4-e6f8d6538d16",
   "metadata": {},
   "source": [
    "# Bounded Semaphore\n",
    "- number of acquire() and release() must be matched."
   ]
  },
  {
   "cell_type": "code",
   "execution_count": null,
   "id": "3f90a282-3959-43f2-8864-6607998c419b",
   "metadata": {},
   "outputs": [],
   "source": [
    "from threading import *\n",
    "s=BoundedSemaphore()\n",
    "b.acquire()\n",
    "b.acquire()\n",
    "b.release()\n",
    "b.release()"
   ]
  }
 ],
 "metadata": {
  "kernelspec": {
   "display_name": "Python 3 (ipykernel)",
   "language": "python",
   "name": "python3"
  },
  "language_info": {
   "codemirror_mode": {
    "name": "ipython",
    "version": 3
   },
   "file_extension": ".py",
   "mimetype": "text/x-python",
   "name": "python",
   "nbconvert_exporter": "python",
   "pygments_lexer": "ipython3",
   "version": "3.11.7"
  }
 },
 "nbformat": 4,
 "nbformat_minor": 5
}
