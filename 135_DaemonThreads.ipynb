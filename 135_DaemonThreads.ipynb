{
 "cells": [
  {
   "cell_type": "markdown",
   "id": "9ff036a1-7431-4182-856c-eda4f1c398d6",
   "metadata": {},
   "source": [
    "# Daemon Threads"
   ]
  },
  {
   "cell_type": "code",
   "execution_count": 1,
   "id": "4a26a442-fb18-4a51-9f7c-7eca5cdb678e",
   "metadata": {},
   "outputs": [
    {
     "name": "stdout",
     "output_type": "stream",
     "text": [
      "False\n"
     ]
    },
    {
     "name": "stderr",
     "output_type": "stream",
     "text": [
      "C:\\Users\\NSTIB34\\AppData\\Local\\Temp\\ipykernel_17364\\2424722868.py:3: DeprecationWarning: isDaemon() is deprecated, get the daemon attribute instead\n",
      "  print(current_thread().isDaemon())\n"
     ]
    }
   ],
   "source": [
    "from threading import *\n",
    "\n",
    "print(current_thread().isDaemon())\n"
   ]
  },
  {
   "cell_type": "code",
   "execution_count": 2,
   "id": "681e5c0a-620e-424b-87c7-059c696b32c0",
   "metadata": {},
   "outputs": [
    {
     "name": "stderr",
     "output_type": "stream",
     "text": [
      "C:\\Users\\NSTIB34\\AppData\\Local\\Temp\\ipykernel_17364\\1511469777.py:3: DeprecationWarning: isDaemon() is deprecated, get the daemon attribute instead\n",
      "  print(current_thread().isDaemon())\n",
      "C:\\Users\\NSTIB34\\AppData\\Local\\Temp\\ipykernel_17364\\1511469777.py:4: DeprecationWarning: setDaemon() is deprecated, set the daemon attribute instead\n",
      "  current_thread().setDaemon(True)\n"
     ]
    },
    {
     "name": "stdout",
     "output_type": "stream",
     "text": [
      "False\n"
     ]
    },
    {
     "ename": "RuntimeError",
     "evalue": "cannot set daemon status of active thread",
     "output_type": "error",
     "traceback": [
      "\u001b[1;31m---------------------------------------------------------------------------\u001b[0m",
      "\u001b[1;31mRuntimeError\u001b[0m                              Traceback (most recent call last)",
      "Cell \u001b[1;32mIn[2], line 4\u001b[0m\n\u001b[0;32m      1\u001b[0m \u001b[38;5;28;01mfrom\u001b[39;00m \u001b[38;5;21;01mthreading\u001b[39;00m \u001b[38;5;28;01mimport\u001b[39;00m \u001b[38;5;241m*\u001b[39m\n\u001b[0;32m      3\u001b[0m \u001b[38;5;28mprint\u001b[39m(current_thread()\u001b[38;5;241m.\u001b[39misDaemon())\n\u001b[1;32m----> 4\u001b[0m current_thread()\u001b[38;5;241m.\u001b[39msetDaemon(\u001b[38;5;28;01mTrue\u001b[39;00m)\n\u001b[0;32m      5\u001b[0m \u001b[38;5;28mprint\u001b[39m(current_thread()\u001b[38;5;241m.\u001b[39misDaemon())\n",
      "File \u001b[1;32m~\\anaconda3\\Lib\\threading.py:1249\u001b[0m, in \u001b[0;36mThread.setDaemon\u001b[1;34m(self, daemonic)\u001b[0m\n\u001b[0;32m   1246\u001b[0m \u001b[38;5;28;01mimport\u001b[39;00m \u001b[38;5;21;01mwarnings\u001b[39;00m\n\u001b[0;32m   1247\u001b[0m warnings\u001b[38;5;241m.\u001b[39mwarn(\u001b[38;5;124m'\u001b[39m\u001b[38;5;124msetDaemon() is deprecated, set the daemon attribute instead\u001b[39m\u001b[38;5;124m'\u001b[39m,\n\u001b[0;32m   1248\u001b[0m               \u001b[38;5;167;01mDeprecationWarning\u001b[39;00m, stacklevel\u001b[38;5;241m=\u001b[39m\u001b[38;5;241m2\u001b[39m)\n\u001b[1;32m-> 1249\u001b[0m \u001b[38;5;28mself\u001b[39m\u001b[38;5;241m.\u001b[39mdaemon \u001b[38;5;241m=\u001b[39m daemonic\n",
      "File \u001b[1;32m~\\anaconda3\\Lib\\threading.py:1226\u001b[0m, in \u001b[0;36mThread.daemon\u001b[1;34m(self, daemonic)\u001b[0m\n\u001b[0;32m   1224\u001b[0m     \u001b[38;5;28;01mraise\u001b[39;00m \u001b[38;5;167;01mRuntimeError\u001b[39;00m(\u001b[38;5;124m\"\u001b[39m\u001b[38;5;124mThread.__init__() not called\u001b[39m\u001b[38;5;124m\"\u001b[39m)\n\u001b[0;32m   1225\u001b[0m \u001b[38;5;28;01mif\u001b[39;00m \u001b[38;5;28mself\u001b[39m\u001b[38;5;241m.\u001b[39m_started\u001b[38;5;241m.\u001b[39mis_set():\n\u001b[1;32m-> 1226\u001b[0m     \u001b[38;5;28;01mraise\u001b[39;00m \u001b[38;5;167;01mRuntimeError\u001b[39;00m(\u001b[38;5;124m\"\u001b[39m\u001b[38;5;124mcannot set daemon status of active thread\u001b[39m\u001b[38;5;124m\"\u001b[39m)\n\u001b[0;32m   1227\u001b[0m \u001b[38;5;28mself\u001b[39m\u001b[38;5;241m.\u001b[39m_daemonic \u001b[38;5;241m=\u001b[39m daemonic\n",
      "\u001b[1;31mRuntimeError\u001b[0m: cannot set daemon status of active thread"
     ]
    }
   ],
   "source": [
    "from threading import *\n",
    "\n",
    "print(current_thread().isDaemon())\n",
    "current_thread().setDaemon(True)\n",
    "print(current_thread().isDaemon()) #RuntimeError: cannot set daemon status of active thread"
   ]
  },
  {
   "cell_type": "code",
   "execution_count": 3,
   "id": "bb046dd1-1389-4364-b0fb-81ee42dfe59a",
   "metadata": {},
   "outputs": [
    {
     "name": "stdout",
     "output_type": "stream",
     "text": [
      "<bound method Thread.isDaemon of <Thread(Thread-5 (display), initial)>>\n",
      "<bound method Thread.isDaemon of <Thread(Thread-5 (display), initial daemon)>>\n"
     ]
    },
    {
     "name": "stderr",
     "output_type": "stream",
     "text": [
      "C:\\Users\\NSTIB34\\AppData\\Local\\Temp\\ipykernel_17364\\1580332215.py:7: DeprecationWarning: setDaemon() is deprecated, set the daemon attribute instead\n",
      "  t.setDaemon(True)\n"
     ]
    }
   ],
   "source": [
    "from threading import *\n",
    "def display():\n",
    "    print('Hello')\n",
    "\n",
    "t=Thread(target=display)\n",
    "print(t.isDaemon)\n",
    "t.setDaemon(True)\n",
    "print(t.isDaemon)"
   ]
  },
  {
   "cell_type": "code",
   "execution_count": 7,
   "id": "39d1b31e-7882-4cd2-86aa-ec11ba9789fd",
   "metadata": {},
   "outputs": [
    {
     "name": "stderr",
     "output_type": "stream",
     "text": [
      "C:\\Users\\NSTIB34\\AppData\\Local\\Temp\\ipykernel_15576\\912076519.py:15: DeprecationWarning: setDaemon() is deprecated, set the daemon attribute instead\n",
      "  t1.setDaemon(True)\n",
      "C:\\Users\\NSTIB34\\AppData\\Local\\Temp\\ipykernel_15576\\912076519.py:16: DeprecationWarning: isDaemon() is deprecated, get the daemon attribute instead\n",
      "  print(f't1 Thread:{t1.isDaemon()}')\n",
      "C:\\Users\\NSTIB34\\AppData\\Local\\Temp\\ipykernel_15576\\912076519.py:11: DeprecationWarning: isDaemon() is deprecated, get the daemon attribute instead\n",
      "  print(f't2 Thread:{t2.isDaemon()}')\n",
      "C:\\Users\\NSTIB34\\AppData\\Local\\Temp\\ipykernel_15576\\912076519.py:12: DeprecationWarning: isDaemon() is deprecated, get the daemon attribute instead\n",
      "  print(t2.isDaemon())\n"
     ]
    },
    {
     "name": "stdout",
     "output_type": "stream",
     "text": [
      "t1 Thread:True\n",
      "display1 job\n",
      "t2 Thread:True\n",
      "True\n",
      "End of Main\n"
     ]
    }
   ],
   "source": [
    "from threading import *\n",
    "import time\n",
    "\n",
    "def display2():\n",
    "    print('display2 job')\n",
    "    time.sleep(100)\n",
    "\n",
    "def display1():\n",
    "    print('display1 job')\n",
    "    t2=Thread(target=display2) # parent of t2 is t1\n",
    "    print(f't2 Thread:{t2.isDaemon()}')\n",
    "    print(t2.isDaemon())\n",
    "\n",
    "t1=Thread(target=display1) # parent of t1 is main which is non-daemon\n",
    "t1.setDaemon(True)\n",
    "print(f't1 Thread:{t1.isDaemon()}')\n",
    "t1.start()\n",
    "time.sleep(100)\n",
    "print('End of Main')"
   ]
  },
  {
   "cell_type": "code",
   "execution_count": null,
   "id": "4a8a7fec-dce2-48ea-a315-b438ebd2cf00",
   "metadata": {},
   "outputs": [],
   "source": [
    "## Once the last non-daemon thread terminates automatically all daemon threads will be terminated."
   ]
  },
  {
   "cell_type": "code",
   "execution_count": 15,
   "id": "4c4a735f-1f74-4b25-a7e9-d15333bff0ce",
   "metadata": {},
   "outputs": [
    {
     "name": "stdout",
     "output_type": "stream",
     "text": [
      "I am Supporting Thread/Daemon Thread--> Thread-21 (display)\n",
      "End of Main--> MainThread\n"
     ]
    },
    {
     "name": "stderr",
     "output_type": "stream",
     "text": [
      "C:\\Users\\NSTIB34\\AppData\\Local\\Temp\\ipykernel_15576\\4122791752.py:10: DeprecationWarning: setDaemon() is deprecated, set the daemon attribute instead\n",
      "  t.setDaemon(True)\n",
      "C:\\Users\\NSTIB34\\AppData\\Local\\Temp\\ipykernel_15576\\4122791752.py:6: DeprecationWarning: getName() is deprecated, get the name attribute instead\n",
      "  print('I am Supporting Thread/Daemon Thread-->',current_thread().getName())\n",
      "C:\\Users\\NSTIB34\\AppData\\Local\\Temp\\ipykernel_15576\\4122791752.py:12: DeprecationWarning: getName() is deprecated, get the name attribute instead\n",
      "  print('End of Main-->',current_thread().getName())\n"
     ]
    },
    {
     "name": "stdout",
     "output_type": "stream",
     "text": [
      "I am Supporting Thread/Daemon Thread--> Thread-21 (display)\n",
      "I am Supporting Thread/Daemon Thread--> Thread-21 (display)\n",
      "I am Supporting Thread/Daemon Thread--> Thread-21 (display)\n",
      "I am Supporting Thread/Daemon Thread--> Thread-21 (display)\n",
      "I am Supporting Thread/Daemon Thread--> Thread-21 (display)\n",
      "I am Supporting Thread/Daemon Thread--> Thread-21 (display)\n",
      "I am Supporting Thread/Daemon Thread--> Thread-21 (display)\n",
      "I am Supporting Thread/Daemon Thread--> Thread-21 (display)\n",
      "I am Supporting Thread/Daemon Thread--> Thread-21 (display)\n"
     ]
    }
   ],
   "source": [
    "from threading import *\n",
    "import time\n",
    "\n",
    "def display():\n",
    "    for i in range(10):\n",
    "        print('I am Supporting Thread/Daemon Thread-->',current_thread().getName())\n",
    "        time.sleep(1)\n",
    "\n",
    "t=Thread(target=display)\n",
    "t.setDaemon(True)\n",
    "t.start()\n",
    "print('End of Main-->',current_thread().getName())"
   ]
  },
  {
   "cell_type": "code",
   "execution_count": null,
   "id": "33b47e91-75ec-403b-a402-adfea1248cd5",
   "metadata": {},
   "outputs": [],
   "source": []
  },
  {
   "cell_type": "code",
   "execution_count": null,
   "id": "2da2c1a2-393f-4f9d-8876-62ee60e0eddb",
   "metadata": {},
   "outputs": [],
   "source": []
  },
  {
   "cell_type": "code",
   "execution_count": null,
   "id": "c47f10f1-63a2-47a9-b6cf-d46bd4637ce5",
   "metadata": {},
   "outputs": [],
   "source": []
  },
  {
   "cell_type": "code",
   "execution_count": null,
   "id": "9cac910f-2da6-43aa-bf03-ad91667a152d",
   "metadata": {},
   "outputs": [],
   "source": []
  },
  {
   "cell_type": "code",
   "execution_count": null,
   "id": "2ce53dff-555e-42a4-b4fd-11f7c4a425a2",
   "metadata": {},
   "outputs": [],
   "source": []
  },
  {
   "cell_type": "code",
   "execution_count": null,
   "id": "a775f9e2-7337-413c-b8db-10c6028eb3f4",
   "metadata": {},
   "outputs": [],
   "source": []
  },
  {
   "cell_type": "code",
   "execution_count": null,
   "id": "ff5ad6e4-c15f-4e5e-bd10-b509dabf0692",
   "metadata": {},
   "outputs": [],
   "source": []
  },
  {
   "cell_type": "code",
   "execution_count": null,
   "id": "8f33db1e-0c8e-429a-96f8-9ccb3ec1fd17",
   "metadata": {},
   "outputs": [],
   "source": []
  },
  {
   "cell_type": "code",
   "execution_count": null,
   "id": "8e8235c5-5850-43ce-962f-ff8f73cf76dd",
   "metadata": {},
   "outputs": [],
   "source": []
  },
  {
   "cell_type": "code",
   "execution_count": null,
   "id": "e3c9cc69-c55b-4952-abf7-cdef7f6e4a5a",
   "metadata": {},
   "outputs": [],
   "source": []
  },
  {
   "cell_type": "code",
   "execution_count": null,
   "id": "83d850c7-b16d-4568-93d2-6244c3d4bf00",
   "metadata": {},
   "outputs": [],
   "source": []
  },
  {
   "cell_type": "code",
   "execution_count": null,
   "id": "34da1760-b760-447b-b01e-6065b91c7ccb",
   "metadata": {},
   "outputs": [],
   "source": []
  },
  {
   "cell_type": "code",
   "execution_count": null,
   "id": "d831c300-54ea-47ac-af8e-7d81b15629e5",
   "metadata": {},
   "outputs": [],
   "source": []
  }
 ],
 "metadata": {
  "kernelspec": {
   "display_name": "Python 3 (ipykernel)",
   "language": "python",
   "name": "python3"
  },
  "language_info": {
   "codemirror_mode": {
    "name": "ipython",
    "version": 3
   },
   "file_extension": ".py",
   "mimetype": "text/x-python",
   "name": "python",
   "nbconvert_exporter": "python",
   "pygments_lexer": "ipython3",
   "version": "3.11.7"
  }
 },
 "nbformat": 4,
 "nbformat_minor": 5
}
